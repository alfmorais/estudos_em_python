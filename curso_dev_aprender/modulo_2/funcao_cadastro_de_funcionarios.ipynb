{
  "nbformat": 4,
  "nbformat_minor": 0,
  "metadata": {
    "colab": {
      "name": "Untitled21.ipynb",
      "provenance": [],
      "authorship_tag": "ABX9TyOV034XtyUBrmKyGixuZAoa",
      "include_colab_link": true
    },
    "kernelspec": {
      "name": "python3",
      "display_name": "Python 3"
    }
  },
  "cells": [
    {
      "cell_type": "markdown",
      "metadata": {
        "id": "view-in-github",
        "colab_type": "text"
      },
      "source": [
        "<a href=\"https://colab.research.google.com/github/alfmorais/google_colaboratory/blob/main/funcao_cadastro_de_funcionarios.ipynb\" target=\"_parent\"><img src=\"https://colab.research.google.com/assets/colab-badge.svg\" alt=\"Open In Colab\"/></a>"
      ]
    },
    {
      "cell_type": "code",
      "metadata": {
        "colab": {
          "base_uri": "https://localhost:8080/"
        },
        "id": "S9bpKB64Mw6G",
        "outputId": "6f2f059d-9d2d-4dae-ac70-e847fea7c1d3"
      },
      "source": [
        "def cadastro_funcionarios():\r\n",
        "  \r\n",
        "  lista_turno_trabalho_1 = []\r\n",
        "  lista_turno_trabalho_2 = []\r\n",
        "  lista_turno_trabalho_3 = []\r\n",
        "  \r\n",
        "  while True: \r\n",
        "    \r\n",
        "    funcionario = input('Qual é o nome do funcionário?')\r\n",
        "    turno_trabalho = int(input('Qual é o turno de trabalho? 1 / 2 / 3: '))\r\n",
        "    \r\n",
        "    if turno_trabalho == 1:\r\n",
        "      lista_turno_trabalho_1.append(funcionario)\r\n",
        "    elif turno_trabalho == 2:\r\n",
        "      lista_turno_trabalho_2.append(funcionario)\r\n",
        "    elif turno_trabalho == 3:\r\n",
        "      lista_turno_trabalho_3.append(funcionario)\r\n",
        "    else:\r\n",
        "      continue\r\n",
        "    \r\n",
        "    decisao = input('Deseja continuar cadastrando funcionário? S=Sim / N=Não: ')\r\n",
        "    \r\n",
        "    if decisao.upper() == 'N':\r\n",
        "      break\r\n",
        "    else:\r\n",
        "      continue\r\n",
        "\r\n",
        "\r\n"
      ],
      "execution_count": 8,
      "outputs": [
        {
          "output_type": "stream",
          "text": [
            "Qual é o nome do funcionário?Alfredo\n",
            "Qual é o turno de trabalho? 1 / 2 / 3: 1\n",
            "Deseja continuar cadastrando funcionário? S=Sim / N=Não: s\n",
            "Qual é o nome do funcionário?Luis\n",
            "Qual é o turno de trabalho? 1 / 2 / 3: 2\n",
            "Deseja continuar cadastrando funcionário? S=Sim / N=Não: s\n",
            "Qual é o nome do funcionário?Marcao\n",
            "Qual é o turno de trabalho? 1 / 2 / 3: 3\n",
            "Deseja continuar cadastrando funcionário? S=Sim / N=Não: n\n"
          ],
          "name": "stdout"
        }
      ]
    }
  ]
}
