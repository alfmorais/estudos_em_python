{
  "nbformat": 4,
  "nbformat_minor": 0,
  "metadata": {
    "colab": {
      "name": "Untitled38.ipynb",
      "provenance": [],
      "authorship_tag": "ABX9TyO0qRfju+0FmriNT6dIl8kq",
      "include_colab_link": true
    },
    "kernelspec": {
      "name": "python3",
      "display_name": "Python 3"
    }
  },
  "cells": [
    {
      "cell_type": "markdown",
      "metadata": {
        "id": "view-in-github",
        "colab_type": "text"
      },
      "source": [
        "<a href=\"https://colab.research.google.com/github/alfmorais/google_colaboratory/blob/main/funcao_map_dev_aprender.ipynb\" target=\"_parent\"><img src=\"https://colab.research.google.com/assets/colab-badge.svg\" alt=\"Open In Colab\"/></a>"
      ]
    },
    {
      "cell_type": "code",
      "metadata": {
        "colab": {
          "base_uri": "https://localhost:8080/"
        },
        "id": "SBRBMHTkQPmC",
        "outputId": "82d1af55-6874-4bbc-8d2a-8bfbb423013a"
      },
      "source": [
        "# MAP - EXTRAINDO DADOS DE COLEÇÕES EXISTENTES\r\n",
        "\r\n",
        "numeros = []\r\n",
        "\r\n",
        "for num in range(5):\r\n",
        "  numeros.append(num)\r\n",
        "\r\n",
        "print(numeros)"
      ],
      "execution_count": 1,
      "outputs": [
        {
          "output_type": "stream",
          "text": [
            "[0, 1, 2, 3, 4]\n"
          ],
          "name": "stdout"
        }
      ]
    },
    {
      "cell_type": "code",
      "metadata": {
        "colab": {
          "base_uri": "https://localhost:8080/"
        },
        "id": "oYP68gidQpVC",
        "outputId": "009ff9b6-b4fc-4f14-ea45-c77591d00f3d"
      },
      "source": [
        "# MAP\r\n",
        "\r\n",
        "nomes = ['Larissa', 'Alfredo', 'Denise', 'Nayara', 'Renato', 'Vera']\r\n",
        "\r\n",
        "def aprovar_pessoa(nome):\r\n",
        "  return nome + ' APROVADO'\r\n",
        "\r\n",
        "print(list(map(aprovar_pessoa, nomes)))"
      ],
      "execution_count": 3,
      "outputs": [
        {
          "output_type": "stream",
          "text": [
            "['Larissa APROVADO', 'Alfredo APROVADO', 'Denise APROVADO', 'Nayara APROVADO', 'Renato APROVADO', 'Vera APROVADO']\n"
          ],
          "name": "stdout"
        }
      ]
    }
  ]
}
