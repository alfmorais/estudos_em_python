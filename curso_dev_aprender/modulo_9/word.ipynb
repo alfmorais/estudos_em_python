{
  "nbformat": 4,
  "nbformat_minor": 0,
  "metadata": {
    "colab": {
      "name": "Untitled83.ipynb",
      "provenance": [],
      "authorship_tag": "ABX9TyM/2orWYOPcyIAP7806C9kf",
      "include_colab_link": true
    },
    "kernelspec": {
      "name": "python3",
      "display_name": "Python 3"
    },
    "language_info": {
      "name": "python"
    }
  },
  "cells": [
    {
      "cell_type": "markdown",
      "metadata": {
        "id": "view-in-github",
        "colab_type": "text"
      },
      "source": [
        "<a href=\"https://colab.research.google.com/github/alfmorais/estudos_em_python/blob/main/curso_dev_aprender/modulo_9/word.ipynb\" target=\"_parent\"><img src=\"https://colab.research.google.com/assets/colab-badge.svg\" alt=\"Open In Colab\"/></a>"
      ]
    },
    {
      "cell_type": "markdown",
      "metadata": {
        "id": "UWOc6CmNTlSe"
      },
      "source": [
        "# Módulo 9 - Aula 11\n",
        "## Criando arquivos Word do ZERO!"
      ]
    },
    {
      "cell_type": "code",
      "metadata": {
        "id": "hSisRl5_TjKl"
      },
      "source": [
        "#! pip install python-docx"
      ],
      "execution_count": 1,
      "outputs": []
    },
    {
      "cell_type": "code",
      "metadata": {
        "id": "IgXg5ODOVOyV"
      },
      "source": [
        "from docx import Document\n",
        "from docx.shared import Cm"
      ],
      "execution_count": 2,
      "outputs": []
    },
    {
      "cell_type": "code",
      "metadata": {
        "id": "eYItCuTeVTon"
      },
      "source": [
        "documento = Document()"
      ],
      "execution_count": 3,
      "outputs": []
    },
    {
      "cell_type": "code",
      "metadata": {
        "id": "EXNJBmmMVhMO"
      },
      "source": [
        "documento.add_heading('Título do documento', 0)\n",
        "paragrafo = documento.add_paragraph('Um paragrafo simples ')\n",
        "paragrafo.add_run('e importante').bold = True\n",
        "paragrafo.add_run(' com palavras em ')\n",
        "paragrafo.add_run('itálico').italic = True"
      ],
      "execution_count": 4,
      "outputs": []
    },
    {
      "cell_type": "code",
      "metadata": {
        "colab": {
          "base_uri": "https://localhost:8080/"
        },
        "id": "4BHF2uVtW8Ky",
        "outputId": "57a66796-e964-4367-8f1a-e66206816df9"
      },
      "source": [
        "documento.add_heading('Título - Nivel 1', level=1)\n",
        "documento.add_heading('Título - Nivel 2', level=2)\n",
        "documento.add_heading('Título - Nivel 3', level=3)"
      ],
      "execution_count": 5,
      "outputs": [
        {
          "output_type": "execute_result",
          "data": {
            "text/plain": [
              "<docx.text.paragraph.Paragraph at 0x7ff6bcac0f10>"
            ]
          },
          "metadata": {
            "tags": []
          },
          "execution_count": 5
        }
      ]
    },
    {
      "cell_type": "code",
      "metadata": {
        "colab": {
          "base_uri": "https://localhost:8080/"
        },
        "id": "VivOKe3wW770",
        "outputId": "e05a7ae4-31d1-4944-99c8-39df05afee07"
      },
      "source": [
        "documento.add_paragraph('Formatação \"no spacing\" ', style=\"No Spacing\")\n",
        "documento.add_paragraph('Formatação \"Heading 1\" ', style=\"Heading 1\")\n",
        "documento.add_paragraph('Formatação \"Heading 2\" ', style=\"Heading 2\")\n",
        "documento.add_paragraph('Formatação \"Heading 3\" ', style=\"Heading 3\")\n",
        "documento.add_paragraph('Formatação \"Title\" ', style=\"Title\")\n",
        "documento.add_paragraph('Formatação \"Subtitle\" ', style=\"Subtitle\")\n",
        "documento.add_paragraph('Formatação \"Quote\" ', style=\"Quote\")\n",
        "documento.add_paragraph('Formatação \"Intense Quote\" ', style=\"Intense Quote\")\n",
        "documento.add_paragraph('Formatação \"List Paragraph\" ', style=\"List Paragraph\")\n",
        "documento.add_paragraph('Formatação \"List Bullet\" ', style=\"List Bullet\")\n",
        "documento.add_paragraph('Formatação \"List Number\" ', style=\"List Number\")\n"
      ],
      "execution_count": 6,
      "outputs": [
        {
          "output_type": "execute_result",
          "data": {
            "text/plain": [
              "<docx.text.paragraph.Paragraph at 0x7ff6c42e0c50>"
            ]
          },
          "metadata": {
            "tags": []
          },
          "execution_count": 6
        }
      ]
    },
    {
      "cell_type": "code",
      "metadata": {
        "colab": {
          "base_uri": "https://localhost:8080/"
        },
        "id": "T3TQjMsYZJVs",
        "outputId": "a5b03828-7496-43da-cb97-45fa40223e9b"
      },
      "source": [
        "documento.add_picture('/content/_Módulo 9 - Aula 11.jpg', width=Cm(5.25))"
      ],
      "execution_count": 7,
      "outputs": [
        {
          "output_type": "execute_result",
          "data": {
            "text/plain": [
              "<docx.shape.InlineShape at 0x7ff6bcaaa950>"
            ]
          },
          "metadata": {
            "tags": []
          },
          "execution_count": 7
        }
      ]
    },
    {
      "cell_type": "code",
      "metadata": {
        "id": "ii1gdwc4Z6Dz"
      },
      "source": [
        "tabela = documento.add_table(rows=1, cols=3)\n",
        "\"\"\"\n",
        "celula1 = tabela.cell(0,0)\n",
        "celula1.text = 'Nome'\n",
        "\"\"\"\n",
        "\n",
        "compras = (\n",
        "    (3, '101', 'Uva'),\n",
        "    (7, '422', 'Pão'),\n",
        "    (4, '423', 'Banana, Ovos, Tomate, Carne')\n",
        ")\n",
        "\n",
        "# Criar a estrutura inicial da tabela\n",
        "cabecalho_tabela = tabela.rows[0].cells\n",
        "cabecalho_tabela[0].text = 'QTD'\n",
        "cabecalho_tabela[1].text = 'ID'\n",
        "cabecalho_tabela[2].text = 'DESC'\n",
        "\n",
        "for quantidade, id, desc in compras:\n",
        "  linha = tabela.add_row().cells\n",
        "  linha[0].text = str(quantidade)\n",
        "  linha[1].text = id\n",
        "  linha[2].text = desc"
      ],
      "execution_count": 8,
      "outputs": []
    },
    {
      "cell_type": "code",
      "metadata": {
        "colab": {
          "base_uri": "https://localhost:8080/"
        },
        "id": "phk-1Fdsc_kP",
        "outputId": "dd418991-b5c0-4b04-f60f-26a695406f80"
      },
      "source": [
        "documento.add_page_break()\n",
        "documento.add_paragraph('Estamos em outra página')"
      ],
      "execution_count": 9,
      "outputs": [
        {
          "output_type": "execute_result",
          "data": {
            "text/plain": [
              "<docx.text.paragraph.Paragraph at 0x7ff6c3f64ad0>"
            ]
          },
          "metadata": {
            "tags": []
          },
          "execution_count": 9
        }
      ]
    },
    {
      "cell_type": "code",
      "metadata": {
        "id": "ARh71Xf-WHUW"
      },
      "source": [
        "documento.save('demo.docx')"
      ],
      "execution_count": 10,
      "outputs": []
    }
  ]
}