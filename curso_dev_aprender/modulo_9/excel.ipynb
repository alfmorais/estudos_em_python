{
  "nbformat": 4,
  "nbformat_minor": 0,
  "metadata": {
    "colab": {
      "name": "Untitled81.ipynb",
      "provenance": [],
      "authorship_tag": "ABX9TyNEJ72RsrYPhobLHMFbflui",
      "include_colab_link": true
    },
    "kernelspec": {
      "name": "python3",
      "display_name": "Python 3"
    },
    "language_info": {
      "name": "python"
    }
  },
  "cells": [
    {
      "cell_type": "markdown",
      "metadata": {
        "id": "view-in-github",
        "colab_type": "text"
      },
      "source": [
        "<a href=\"https://colab.research.google.com/github/alfmorais/estudos_em_python/blob/main/curso_dev_aprender/modulo_9/excel.ipynb\" target=\"_parent\"><img src=\"https://colab.research.google.com/assets/colab-badge.svg\" alt=\"Open In Colab\"/></a>"
      ]
    },
    {
      "cell_type": "markdown",
      "metadata": {
        "id": "rt_z3dKH81KD"
      },
      "source": [
        "# Módulo 9 - Aula 9 \n",
        "## Criando e Salvando Planilhas de Excel"
      ]
    },
    {
      "cell_type": "code",
      "metadata": {
        "id": "EmW03_R64Mvm"
      },
      "source": [
        "# Sheets - são as páginas de uma planilhas\n",
        "# Workbook - são todas as paginas de uma planilha e o arquivo\n",
        "\n",
        "import openpyxl"
      ],
      "execution_count": 1,
      "outputs": []
    },
    {
      "cell_type": "code",
      "metadata": {
        "id": "eNYZwrGU9tqg"
      },
      "source": [
        "# Criando a planilha\n",
        "planilha_test = openpyxl.Workbook()"
      ],
      "execution_count": 2,
      "outputs": []
    },
    {
      "cell_type": "code",
      "metadata": {
        "colab": {
          "base_uri": "https://localhost:8080/"
        },
        "id": "qVzYq8pX99Gb",
        "outputId": "f706c0aa-6676-4370-a905-94196dd219d5"
      },
      "source": [
        "# Criando páginas de uma planilha\n",
        "planilha_test.create_sheet('Frutas')\n",
        "planilha_test.create_sheet('Legumes')\n",
        "planilha_test.create_sheet('Sementes')\n",
        "\n",
        "print(planilha_test.sheetnames)"
      ],
      "execution_count": 3,
      "outputs": [
        {
          "output_type": "stream",
          "text": [
            "['Sheet', 'Frutas', 'Legumes', 'Sementes']\n"
          ],
          "name": "stdout"
        }
      ]
    },
    {
      "cell_type": "code",
      "metadata": {
        "colab": {
          "base_uri": "https://localhost:8080/"
        },
        "id": "wrZRn9Ck-PiD",
        "outputId": "b4983e51-094b-4b12-8d4a-801b62f4f465"
      },
      "source": [
        "# Adicionar a pagina frutas: titulo, localização e preço\n",
        "cabecalho_frutas = ['Título', 'Localização', 'Preço']\n",
        "\n",
        "sheet_frutas = planilha_test.get_sheet_by_name('Frutas')\n",
        "sheet_frutas.append(cabecalho_frutas)\n",
        "\n",
        "frutas = [['uva', 'mercado', 5],\n",
        "          ['melancia', 'mercado', 15],\n",
        "          ['bolo', 'mercado', 25]]\n",
        "\n",
        "for fruta in frutas:\n",
        "  sheet_frutas.append(fruta)\n",
        "\n",
        "planilha_test.save('Dados_de_Mercado.xlxs')"
      ],
      "execution_count": 4,
      "outputs": [
        {
          "output_type": "stream",
          "text": [
            "/usr/local/lib/python3.7/dist-packages/ipykernel_launcher.py:4: DeprecationWarning: Call to deprecated function get_sheet_by_name (Use wb[sheetname]).\n",
            "  after removing the cwd from sys.path.\n"
          ],
          "name": "stderr"
        }
      ]
    },
    {
      "cell_type": "code",
      "metadata": {
        "id": "w-iZz12-A37O"
      },
      "source": [
        ""
      ],
      "execution_count": null,
      "outputs": []
    }
  ]
}