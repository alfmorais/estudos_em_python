{
  "nbformat": 4,
  "nbformat_minor": 0,
  "metadata": {
    "colab": {
      "name": "Untitled82.ipynb",
      "provenance": [],
      "authorship_tag": "ABX9TyOj+4D/z+OT6633DOrmfYvE",
      "include_colab_link": true
    },
    "kernelspec": {
      "name": "python3",
      "display_name": "Python 3"
    },
    "language_info": {
      "name": "python"
    }
  },
  "cells": [
    {
      "cell_type": "markdown",
      "metadata": {
        "id": "view-in-github",
        "colab_type": "text"
      },
      "source": [
        "<a href=\"https://colab.research.google.com/github/alfmorais/estudos_em_python/blob/main/curso_dev_aprender/modulo_9/excel_manipulando.ipynb\" target=\"_parent\"><img src=\"https://colab.research.google.com/assets/colab-badge.svg\" alt=\"Open In Colab\"/></a>"
      ]
    },
    {
      "cell_type": "markdown",
      "metadata": {
        "id": "YvIF55kYBiak"
      },
      "source": [
        "# Modulo 9 - Aula 10\n",
        "\n",
        "## Manipulando Planilhas Existentes\n",
        "\n"
      ]
    },
    {
      "cell_type": "code",
      "metadata": {
        "id": "Gd6PKu6gBasn"
      },
      "source": [
        "import openpyxl"
      ],
      "execution_count": 1,
      "outputs": []
    },
    {
      "cell_type": "code",
      "metadata": {
        "id": "NY29TRxyBxTL"
      },
      "source": [
        "planilha = openpyxl.load_workbook('pessoas.xlsx')"
      ],
      "execution_count": 2,
      "outputs": []
    },
    {
      "cell_type": "code",
      "metadata": {
        "colab": {
          "base_uri": "https://localhost:8080/"
        },
        "id": "Bt6jgiq2CBdu",
        "outputId": "5328e38d-50fa-42f1-f02c-a08f971f1553"
      },
      "source": [
        "print(planilha.sheetnames)"
      ],
      "execution_count": 3,
      "outputs": [
        {
          "output_type": "stream",
          "text": [
            "['Sheet1']\n"
          ],
          "name": "stdout"
        }
      ]
    },
    {
      "cell_type": "code",
      "metadata": {
        "colab": {
          "base_uri": "https://localhost:8080/"
        },
        "id": "6U_I_0NPCE_6",
        "outputId": "012326a2-8e94-44bf-d119-e223eee3f273"
      },
      "source": [
        "sheet1 = planilha.get_sheet_by_name('Sheet1')"
      ],
      "execution_count": 4,
      "outputs": [
        {
          "output_type": "stream",
          "text": [
            "/usr/local/lib/python3.7/dist-packages/ipykernel_launcher.py:1: DeprecationWarning: Call to deprecated function get_sheet_by_name (Use wb[sheetname]).\n",
            "  \"\"\"Entry point for launching an IPython kernel.\n"
          ],
          "name": "stderr"
        }
      ]
    },
    {
      "cell_type": "code",
      "metadata": {
        "colab": {
          "base_uri": "https://localhost:8080/"
        },
        "id": "53xFrHbGCORm",
        "outputId": "979cd28b-1082-462f-e05c-2d54f8e624af"
      },
      "source": [
        "print(sheet1['C3'].value)\n",
        "sheet1['C3'].value = 'Hashirama'\n",
        "print(sheet1['C3'].value)"
      ],
      "execution_count": 5,
      "outputs": [
        {
          "output_type": "stream",
          "text": [
            "Hashimoto\n",
            "Hashirama\n"
          ],
          "name": "stdout"
        }
      ]
    },
    {
      "cell_type": "code",
      "metadata": {
        "colab": {
          "base_uri": "https://localhost:8080/"
        },
        "id": "3WeVNk8JClJ3",
        "outputId": "f312e14e-0482-4383-a0ef-d6fdb385502f"
      },
      "source": [
        "sheet1.cell(row=3, column=3, value='Mark')\n",
        "print(sheet1['C3'].value)"
      ],
      "execution_count": 6,
      "outputs": [
        {
          "output_type": "stream",
          "text": [
            "Mark\n"
          ],
          "name": "stdout"
        }
      ]
    },
    {
      "cell_type": "code",
      "metadata": {
        "colab": {
          "base_uri": "https://localhost:8080/"
        },
        "id": "S07jfpzwNeQI",
        "outputId": "5b02586c-80e4-4419-e414-e77035db87a8"
      },
      "source": [
        "for linha in sheet1.iter_rows(min_row=2, max_row=11, min_col=2, max_col=4):\n",
        "  print(linha[0].value, linha[1].value, linha[2].value)"
      ],
      "execution_count": 20,
      "outputs": [
        {
          "output_type": "stream",
          "text": [
            "Dulce Abril Female\n",
            "Mara Mark Female\n",
            "Philip Gent Male\n",
            "Kathleen Hanner Female\n",
            "Nereida Magwood Female\n",
            "Gaston Brumm Male\n",
            "Etta Hurn Female\n",
            "Earlean Melgar Female\n",
            "Vincenza Weiland Female\n",
            "Fallon Winward Female\n"
          ],
          "name": "stdout"
        }
      ]
    },
    {
      "cell_type": "code",
      "metadata": {
        "colab": {
          "base_uri": "https://localhost:8080/"
        },
        "id": "IwF0pFfpOKA9",
        "outputId": "32984d11-4586-4ddf-809e-77e739d5789f"
      },
      "source": [
        "for linha in sheet1.iter_cols(min_col=2, max_col=2, min_row=2):\n",
        "  for cell in linha:\n",
        "    print(cell.value)"
      ],
      "execution_count": 8,
      "outputs": [
        {
          "output_type": "stream",
          "text": [
            "Dulce\n",
            "Mara\n",
            "Philip\n",
            "Kathleen\n",
            "Nereida\n",
            "Gaston\n",
            "Etta\n",
            "Earlean\n",
            "Vincenza\n",
            "Fallon\n",
            "Arcelia\n",
            "Franklyn\n",
            "Sherron\n",
            "Marcel\n",
            "Kina\n",
            "Shavonne\n",
            "Shavon\n",
            "Lauralee\n",
            "Loreta\n",
            "Teresa\n",
            "Belinda\n",
            "Holly\n",
            "Many\n",
            "Libbie\n",
            "Lester\n",
            "Marvel\n",
            "Angelyn\n",
            "Francesca\n",
            "Garth\n",
            "Carla\n",
            "Veta\n",
            "Stasia\n",
            "Jona\n",
            "Judie\n",
            "Dewitt\n",
            "Nena\n",
            "Kelsie\n",
            "Sau\n",
            "Shanice\n",
            "Chase\n",
            "Tommie\n",
            "Dorcas\n",
            "Angel\n",
            "Willodean\n",
            "Weston\n",
            "Roma\n",
            "Felisa\n",
            "Demetria\n",
            "Jeromy\n",
            "Rasheeda\n",
            "Dulce\n",
            "Mara\n",
            "Philip\n",
            "Kathleen\n",
            "Nereida\n",
            "Gaston\n",
            "Etta\n",
            "Earlean\n",
            "Vincenza\n",
            "Fallon\n",
            "Arcelia\n",
            "Franklyn\n",
            "Sherron\n",
            "Marcel\n",
            "Kina\n",
            "Shavonne\n",
            "Shavon\n",
            "Lauralee\n",
            "Loreta\n",
            "Teresa\n",
            "Belinda\n",
            "Holly\n",
            "Many\n",
            "Libbie\n",
            "Lester\n",
            "Marvel\n",
            "Angelyn\n",
            "Francesca\n",
            "Garth\n",
            "Carla\n",
            "Veta\n",
            "Stasia\n",
            "Jona\n",
            "Judie\n",
            "Dewitt\n",
            "Nena\n",
            "Kelsie\n",
            "Sau\n",
            "Shanice\n",
            "Chase\n",
            "Tommie\n",
            "Dorcas\n",
            "Angel\n",
            "Willodean\n",
            "Weston\n",
            "Roma\n",
            "Felisa\n",
            "Demetria\n",
            "Jeromy\n",
            "Rasheeda\n"
          ],
          "name": "stdout"
        }
      ]
    },
    {
      "cell_type": "markdown",
      "metadata": {
        "id": "ODuwRaPwOvyG"
      },
      "source": [
        "# Desafio\n",
        "\n",
        "Baixe o arquivo pessoas.xlsx dentro desta pasta\n",
        "\n",
        "\n",
        "\n",
        "1.   Imprima na tela somente o valor Philips que estou mostrando aqui na tela que está dentro da planilha 'pessoas.xlsx'.\n",
        "2.   Altere o valor dessa celula para 'Jimmy'.\n",
        "3. Imprima na tela somente os valores das linhas 2 a 10\n",
        "4. Imprima na tela todos os valores contidos dentro da coluna 'Last Name'\n",
        "\n"
      ]
    },
    {
      "cell_type": "code",
      "metadata": {
        "id": "wGx0W-9kQmZE"
      },
      "source": [
        ""
      ],
      "execution_count": null,
      "outputs": []
    },
    {
      "cell_type": "code",
      "metadata": {
        "id": "2XJsRdTJOk9u"
      },
      "source": [
        "# Imprima na tela somente o valor Philips que estou mostrando aqui na tela que está dentro da planilha 'pessoas.xlsx'.\n",
        "print(sheet1['B4'].value)"
      ],
      "execution_count": null,
      "outputs": []
    },
    {
      "cell_type": "code",
      "metadata": {
        "id": "Bh_Sen1rPcVm"
      },
      "source": [
        "# Altere o valor dessa celula para 'Jimmy'.\n",
        "print(sheet1['B4'].value)\n",
        "sheet1['B4'].value = 'Jimmy'\n",
        "print(sheet1['B4'].value)"
      ],
      "execution_count": 10,
      "outputs": []
    },
    {
      "cell_type": "code",
      "metadata": {
        "colab": {
          "base_uri": "https://localhost:8080/"
        },
        "id": "uPJAAqgLPfRs",
        "outputId": "ae93978c-c031-4afb-df16-7a9de899d9c5"
      },
      "source": [
        "# Imprima na tela somente os valores das linhas 2 a 10\n",
        "for linha in sheet1.iter_rows(min_row=2, max_row=10, min_col=0, max_col=8):\n",
        "  print(linha[0].value, linha[1].value, linha[2].value,\n",
        "        linha[3].value, linha[4].value, linha[5].value,\n",
        "        linha[6].value, linha[7].value)"
      ],
      "execution_count": 14,
      "outputs": [
        {
          "output_type": "stream",
          "text": [
            "1 Dulce Abril Female United States 32 15/10/2017 1562\n",
            "2 Mara Mark Female Great Britain 25 16/08/2016 1582\n",
            "3 Philip Gent Male France 36 21/05/2015 2587\n",
            "4 Kathleen Hanner Female United States 25 15/10/2017 3549\n",
            "5 Nereida Magwood Female United States 58 16/08/2016 2468\n",
            "6 Gaston Brumm Male United States 24 21/05/2015 2554\n",
            "7 Etta Hurn Female Great Britain 56 15/10/2017 3598\n",
            "8 Earlean Melgar Female United States 27 16/08/2016 2456\n",
            "9 Vincenza Weiland Female United States 40 21/05/2015 6548\n"
          ],
          "name": "stdout"
        }
      ]
    },
    {
      "cell_type": "code",
      "metadata": {
        "colab": {
          "base_uri": "https://localhost:8080/"
        },
        "id": "jpMT4jESPi8A",
        "outputId": "6b520a31-b238-4ea3-ec82-676a90ac4f7b"
      },
      "source": [
        "# Imprima na tela todos os valores contidos dentro da coluna 'Last Name'\n",
        "for linha in sheet1.iter_cols(min_col=3, max_col=3, min_row=2):\n",
        "  for cell in linha:\n",
        "    print(cell.value)"
      ],
      "execution_count": 19,
      "outputs": [
        {
          "output_type": "stream",
          "text": [
            "Abril\n",
            "Mark\n",
            "Gent\n",
            "Hanner\n",
            "Magwood\n",
            "Brumm\n",
            "Hurn\n",
            "Melgar\n",
            "Weiland\n",
            "Winward\n",
            "Bouska\n",
            "Unknow\n",
            "Ascencio\n",
            "Zabriskie\n",
            "Hazelton\n",
            "Pia\n",
            "Benito\n",
            "Perrine\n",
            "Curren\n",
            "Strawn\n",
            "Partain\n",
            "Eudy\n",
            "Cuccia\n",
            "Dalby\n",
            "Prothro\n",
            "Hail\n",
            "Vong\n",
            "Beaudreau\n",
            "Gangi\n",
            "Trumbull\n",
            "Muntz\n",
            "Becker\n",
            "Grindle\n",
            "Claywell\n",
            "Borger\n",
            "Hacker\n",
            "Wachtel\n",
            "Pfau\n",
            "Mccrystal\n",
            "Karner\n",
            "Underdahl\n",
            "Darity\n",
            "Sanor\n",
            "Harn\n",
            "Martina\n",
            "Lafollette\n",
            "Cail\n",
            "Abbey\n",
            "Danz\n",
            "Alkire\n",
            "Abril\n",
            "Hashimoto\n",
            "Gent\n",
            "Hanner\n",
            "Magwood\n",
            "Brumm\n",
            "Hurn\n",
            "Melgar\n",
            "Weiland\n",
            "Winward\n",
            "Bouska\n",
            "Unknow\n",
            "Ascencio\n",
            "Zabriskie\n",
            "Hazelton\n",
            "Pia\n",
            "Benito\n",
            "Perrine\n",
            "Curren\n",
            "Strawn\n",
            "Partain\n",
            "Eudy\n",
            "Cuccia\n",
            "Dalby\n",
            "Prothro\n",
            "Hail\n",
            "Vong\n",
            "Beaudreau\n",
            "Gangi\n",
            "Trumbull\n",
            "Muntz\n",
            "Becker\n",
            "Grindle\n",
            "Claywell\n",
            "Borger\n",
            "Hacker\n",
            "Wachtel\n",
            "Pfau\n",
            "Mccrystal\n",
            "Karner\n",
            "Underdahl\n",
            "Darity\n",
            "Sanor\n",
            "Harn\n",
            "Martina\n",
            "Lafollette\n",
            "Cail\n",
            "Abbey\n",
            "Danz\n",
            "Alkire\n"
          ],
          "name": "stdout"
        }
      ]
    }
  ]
}