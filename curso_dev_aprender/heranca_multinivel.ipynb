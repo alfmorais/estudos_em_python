{
  "nbformat": 4,
  "nbformat_minor": 0,
  "metadata": {
    "colab": {
      "name": "Untitled63.ipynb",
      "provenance": [],
      "authorship_tag": "ABX9TyN8lnkL4Mlrgsl4Kb1ddTST",
      "include_colab_link": true
    },
    "kernelspec": {
      "name": "python3",
      "display_name": "Python 3"
    }
  },
  "cells": [
    {
      "cell_type": "markdown",
      "metadata": {
        "id": "view-in-github",
        "colab_type": "text"
      },
      "source": [
        "<a href=\"https://colab.research.google.com/github/alfmorais/estudos_em_python/blob/main/heranca_multinivel.ipynb\" target=\"_parent\"><img src=\"https://colab.research.google.com/assets/colab-badge.svg\" alt=\"Open In Colab\"/></a>"
      ]
    },
    {
      "cell_type": "code",
      "metadata": {
        "id": "z4RGWnCzBlR3"
      },
      "source": [
        "class Usuario:\r\n",
        "  def __init__(self, nome, salario, profissao):\r\n",
        "    self.nome = nome\r\n",
        "    self.salario = salario\r\n",
        "    self.profissao = profissao\r\n",
        "\r\n",
        "  def registrar_funcionario(self):\r\n",
        "    print(f'Cadastrando Funcionário {self.nome}')\r\n",
        "\r\n",
        "class Gestor(Usuario):\r\n",
        "  def __init__(self, nome, salario, profissao, setor_responsavel):\r\n",
        "    super().__init__(nome, salario, profissao)\r\n",
        "    self.setor_responsavel = setor_responsavel\r\n",
        "\r\n",
        "  def definir_setor(self, setor):\r\n",
        "    print(f'Definindo setor para {setor}')"
      ],
      "execution_count": 1,
      "outputs": []
    },
    {
      "cell_type": "code",
      "metadata": {
        "id": "8g8n41ZFCba8"
      },
      "source": [
        "usuario1 = Usuario('Alfredo', 15000, 'Desenvolvedor Python')\r\n",
        "gestor = Gestor('Guilherme', 25000, 'Gestor de Projetos', 'Desenvolvimento de Software')"
      ],
      "execution_count": 3,
      "outputs": []
    }
  ]
}
