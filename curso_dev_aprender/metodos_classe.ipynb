{
  "nbformat": 4,
  "nbformat_minor": 0,
  "metadata": {
    "colab": {
      "name": "Untitled61.ipynb",
      "provenance": [],
      "authorship_tag": "ABX9TyOJuxcP/YfDRjqdiDoAc7rK",
      "include_colab_link": true
    },
    "kernelspec": {
      "name": "python3",
      "display_name": "Python 3"
    }
  },
  "cells": [
    {
      "cell_type": "markdown",
      "metadata": {
        "id": "view-in-github",
        "colab_type": "text"
      },
      "source": [
        "<a href=\"https://colab.research.google.com/github/alfmorais/estudos_em_python/blob/main/metodos_classe.ipynb\" target=\"_parent\"><img src=\"https://colab.research.google.com/assets/colab-badge.svg\" alt=\"Open In Colab\"/></a>"
      ]
    },
    {
      "cell_type": "markdown",
      "metadata": {
        "id": "CHu4jMoGi9Zi"
      },
      "source": [
        "##Métodos Comuns VS Instâncias VS Classe"
      ]
    },
    {
      "cell_type": "code",
      "metadata": {
        "id": "tb3eUMgtjHlT"
      },
      "source": [
        "class Computador:\r\n",
        "  # Métodos de Classe\r\n",
        "  sitema_operacional = 'Windows 10'\r\n",
        "\r\n",
        "  def __init__(self, marca, memoria_ram, placa_de_video):\r\n",
        "    self.marca = marca\r\n",
        "    self.memoria_ram = memoria_ram\r\n",
        "    self.placa_de_video = placa_de_video\r\n",
        "\r\n",
        "  # Métodos Comuns\r\n",
        "  def exibir_dados_do_computador(self):\r\n",
        "    print(self.marca, self.memoria_ram, self.placa_de_video)\r\n",
        "  \r\n",
        "  # Configuração p/cliente de escritório\r\n",
        "  ## cls => Classe Inteira como parametro\r\n",
        "  @classmethod\r\n",
        "  def computador_escritorio(cls, memoria_ram):\r\n",
        "    return cls('Dell', memoria_ram, 'Placa de Video - Baixo Custo')\r\n",
        "\r\n",
        "  # Configuração p/cliente de trabalho pesado(jogos, videos, 3D)\r\n",
        "  @classmethod\r\n",
        "  def computador_configuracao_pesada(cls, memoria_ram):\r\n",
        "    return cls('Dell', memoria_ram, 'Placa de Video - Alto Nivel')\r\n",
        "\r\n",
        "  @staticmethod\r\n",
        "  def roda_programa_pesados(memoria_ram):\r\n",
        "    if memoria_ram >= 8:\r\n",
        "      return True\r\n",
        "    else:\r\n",
        "      return False\r\n",
        "        "
      ],
      "execution_count": 4,
      "outputs": []
    },
    {
      "cell_type": "code",
      "metadata": {
        "colab": {
          "base_uri": "https://localhost:8080/"
        },
        "id": "ZOJHrtLUl7tl",
        "outputId": "38c5a108-daec-47af-d582-1225d4ba0959"
      },
      "source": [
        "# Configuração p/cliente de escritório\r\n",
        "computador1 = Computador.computador_escritorio('8GB')\r\n",
        "computador1.exibir_dados_do_computador()\r\n",
        "\r\n",
        "print(40*'-')\r\n",
        "# Configuração p/cliente de trabalho pesado(jogos, videos, 3D)\r\n",
        "computador2 = Computador.computador_configuracao_pesada('16GB')\r\n",
        "computador2.exibir_dados_do_computador()"
      ],
      "execution_count": 5,
      "outputs": [
        {
          "output_type": "stream",
          "text": [
            "Dell 8GB Placa de Video - Baixo Custo\n",
            "----------------------------------------\n",
            "Dell 16GB Placa de Video - Alto Nivel\n"
          ],
          "name": "stdout"
        }
      ]
    },
    {
      "cell_type": "code",
      "metadata": {
        "colab": {
          "base_uri": "https://localhost:8080/"
        },
        "id": "zhUqlimKn5Jr",
        "outputId": "eaaa29dd-c79c-409e-94e6-a77cb5856287"
      },
      "source": [
        "Computador.roda_programa_pesados(4)"
      ],
      "execution_count": 6,
      "outputs": [
        {
          "output_type": "execute_result",
          "data": {
            "text/plain": [
              "False"
            ]
          },
          "metadata": {
            "tags": []
          },
          "execution_count": 6
        }
      ]
    },
    {
      "cell_type": "code",
      "metadata": {
        "colab": {
          "base_uri": "https://localhost:8080/"
        },
        "id": "ET44J8KyoYKU",
        "outputId": "fd6d8239-585a-4e16-f987-e7c4613f2b49"
      },
      "source": [
        "Computador.roda_programa_pesados(10)"
      ],
      "execution_count": 7,
      "outputs": [
        {
          "output_type": "execute_result",
          "data": {
            "text/plain": [
              "True"
            ]
          },
          "metadata": {
            "tags": []
          },
          "execution_count": 7
        }
      ]
    }
  ]
}
