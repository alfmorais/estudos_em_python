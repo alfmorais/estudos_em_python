{
  "nbformat": 4,
  "nbformat_minor": 0,
  "metadata": {
    "colab": {
      "name": "Untitled23.ipynb",
      "provenance": [],
      "authorship_tag": "ABX9TyPbrsqAaAZOk2jju0Za7iIF",
      "include_colab_link": true
    },
    "kernelspec": {
      "name": "python3",
      "display_name": "Python 3"
    }
  },
  "cells": [
    {
      "cell_type": "markdown",
      "metadata": {
        "id": "view-in-github",
        "colab_type": "text"
      },
      "source": [
        "<a href=\"https://colab.research.google.com/github/alfmorais/google_colaboratory/blob/main/funcoes_dev_aprender_modulo_4_aula_7.ipynb\" target=\"_parent\"><img src=\"https://colab.research.google.com/assets/colab-badge.svg\" alt=\"Open In Colab\"/></a>"
      ]
    },
    {
      "cell_type": "code",
      "metadata": {
        "colab": {
          "base_uri": "https://localhost:8080/"
        },
        "id": "rMXhEItXsVmZ",
        "outputId": "82eafe8f-60b5-4a8a-c65f-dde5fbacf6ef"
      },
      "source": [
        "def somar(valor, b):\r\n",
        "  print(valor + b)\r\n",
        "\r\n",
        "somar(5, 5)"
      ],
      "execution_count": 1,
      "outputs": [
        {
          "output_type": "stream",
          "text": [
            "10\n"
          ],
          "name": "stdout"
        }
      ]
    },
    {
      "cell_type": "code",
      "metadata": {
        "colab": {
          "base_uri": "https://localhost:8080/"
        },
        "id": "PGZJFamGsnCD",
        "outputId": "0652e0d5-1cbf-47c8-e95b-4aec01512387"
      },
      "source": [
        "def somar(*valores, b):\r\n",
        "  print(valores)\r\n",
        "  for valor in valores:\r\n",
        "    b += valor\r\n",
        "  print(b)\r\n",
        "\r\n",
        "somar(10, 20, 5, 10, 5, b=5)\r\n",
        "\r\n",
        "# *args"
      ],
      "execution_count": 2,
      "outputs": [
        {
          "output_type": "stream",
          "text": [
            "(10, 20, 5, 10, 5)\n",
            "55\n"
          ],
          "name": "stdout"
        }
      ]
    },
    {
      "cell_type": "code",
      "metadata": {
        "colab": {
          "base_uri": "https://localhost:8080/"
        },
        "id": "ZZWvoQF1tOP2",
        "outputId": "2f754451-0224-4fa1-fab5-53c400e1be00"
      },
      "source": [
        "# Kwargs - Funções com nº de argumentos nomeados dinâmicos\r\n",
        "\r\n",
        "def concatenar(**palavras):\r\n",
        "  frase = ''\r\n",
        "  for palavra in palavras.values():\r\n",
        "    frase += palavra + ' '\r\n",
        "  print(frase)\r\n",
        "\r\n",
        "concatenar(a='Nós', b='Somos', c='Pythonistas', d='Profissionais')\r\n"
      ],
      "execution_count": 3,
      "outputs": [
        {
          "output_type": "stream",
          "text": [
            "Nós Somos Pythonistas Profissionais \n"
          ],
          "name": "stdout"
        }
      ]
    },
    {
      "cell_type": "code",
      "metadata": {
        "colab": {
          "base_uri": "https://localhost:8080/"
        },
        "id": "hZCNaRyXtETf",
        "outputId": "88303840-9d61-48ce-88cc-3aef155b4434"
      },
      "source": [
        "def fazer_calculo(nome, *args, **kwargs):\r\n",
        "  print(nome)\r\n",
        "  print(args)\r\n",
        "  print(kwargs)\r\n",
        "  for arg in args:\r\n",
        "    print(arg)\r\n",
        "  for kwarg in kwargs.values():\r\n",
        "    print(kwarg)\r\n",
        "\r\n",
        "fazer_calculo('Alfredo', 5, 6, 7, 8, 9, c=9)"
      ],
      "execution_count": 4,
      "outputs": [
        {
          "output_type": "stream",
          "text": [
            "Alfredo\n",
            "(5, 6, 7, 8, 9)\n",
            "{'c': 9}\n",
            "5\n",
            "6\n",
            "7\n",
            "8\n",
            "9\n",
            "9\n"
          ],
          "name": "stdout"
        }
      ]
    },
    {
      "cell_type": "code",
      "metadata": {
        "colab": {
          "base_uri": "https://localhost:8080/"
        },
        "id": "kz7wbAePux2I",
        "outputId": "46ead243-ab94-4e5d-f71e-5ad6d88d6fcc"
      },
      "source": [
        "# Decorators - Aproveitando e Estendendo o que já está pronto\r\n",
        "\r\n",
        "def comprar_equipamentos():\r\n",
        "  return 'Estou comprando equipamentos'\r\n",
        "\r\n",
        "from datetime import datetime\r\n",
        "\r\n",
        "def depositar_dinheiro():\r\n",
        "  print('Depositando Dinheiro')\r\n",
        "\r\n",
        "  def depositando_dolar():\r\n",
        "    print('Depositando Dolar')\r\n",
        "\r\n",
        "  def depositando_reais():\r\n",
        "    print('Depositando Reais')\r\n",
        "\r\n",
        "  depositando_dolar()\r\n",
        "  depositando_reais()\r\n",
        "\r\n",
        "depositar_dinheiro()"
      ],
      "execution_count": 5,
      "outputs": [
        {
          "output_type": "stream",
          "text": [
            "Depositando Dinheiro\n",
            "Depositando Dolar\n",
            "Depositando Reais\n"
          ],
          "name": "stdout"
        }
      ]
    },
    {
      "cell_type": "code",
      "metadata": {
        "colab": {
          "base_uri": "https://localhost:8080/"
        },
        "id": "p5ieOre92Ccq",
        "outputId": "28138df7-5645-4de7-ea15-a35b81afa4ec"
      },
      "source": [
        "def pai(numero):\r\n",
        "  def filho_1():\r\n",
        "    print('Sou filho 1')\r\n",
        "  def filho_2():\r\n",
        "    print('Sou filho 2')\r\n",
        "  \r\n",
        "  if numero == 1:\r\n",
        "    return filho_1\r\n",
        "  elif numero == 2:\r\n",
        "    return filho_2\r\n",
        "\r\n",
        "resultado = pai(2)\r\n",
        "resultado()\r\n",
        "\r\n"
      ],
      "execution_count": 15,
      "outputs": [
        {
          "output_type": "stream",
          "text": [
            "Sou filho 2\n"
          ],
          "name": "stdout"
        }
      ]
    },
    {
      "cell_type": "code",
      "metadata": {
        "colab": {
          "base_uri": "https://localhost:8080/"
        },
        "id": "1gKT5YXm2_FB",
        "outputId": "933f4bfd-b359-4a80-ad95-09db71ebdc3f"
      },
      "source": [
        "# Decorators\r\n",
        "\r\n",
        "def meu_decorator(funcao):\r\n",
        "  def wrapper():\r\n",
        "    print('ANTES')\r\n",
        "    funcao()\r\n",
        "    print('DEPOIS')\r\n",
        "  return wrapper\r\n",
        "\r\n",
        "@meu_decorator\r\n",
        "def parabenizar():\r\n",
        "  print('Parabéns!!!')\r\n",
        "\r\n",
        "parabenizar()\r\n"
      ],
      "execution_count": 16,
      "outputs": [
        {
          "output_type": "stream",
          "text": [
            "ANTES\n",
            "Parabéns!!!\n",
            "DEPOIS\n"
          ],
          "name": "stdout"
        }
      ]
    },
    {
      "cell_type": "markdown",
      "metadata": {
        "id": "lPcWinxR3xDz"
      },
      "source": [
        "DESAFIO 1\r\n",
        "\r\n",
        "Crie um decorador que irá pegar a função que for passado para ele e imprimir o horário atual antes de executar a função e depois imprimir o horário após ter finalizado a execução da função. \r\n",
        "\r\n",
        "DICA: Você terá que usar o módulo datatime para conseguir o horário atual. \r\n",
        "\r\n"
      ]
    },
    {
      "cell_type": "code",
      "metadata": {
        "colab": {
          "base_uri": "https://localhost:8080/"
        },
        "id": "5MFVgCwc-Hfr",
        "outputId": "093f4108-4384-41a6-bab4-8cea3a33e4d2"
      },
      "source": [
        "from datetime import datetime\r\n",
        "\r\n",
        "def monitorar_horario(funcao):\r\n",
        "  def monitor():\r\n",
        "    print(datetime.now())\r\n",
        "    funcao()\r\n",
        "    print(datetime.now())\r\n",
        "  return monitor\r\n",
        "\r\n",
        "@monitorar_horario\r\n",
        "def baixar_musicas():\r\n",
        "  print('Baixando Músicas')\r\n",
        "\r\n",
        "baixar_musicas()\r\n"
      ],
      "execution_count": 17,
      "outputs": [
        {
          "output_type": "stream",
          "text": [
            "2021-02-08 00:12:04.693048\n",
            "Baixando Músicas\n",
            "2021-02-08 00:12:04.696290\n"
          ],
          "name": "stdout"
        }
      ]
    }
  ]
}
