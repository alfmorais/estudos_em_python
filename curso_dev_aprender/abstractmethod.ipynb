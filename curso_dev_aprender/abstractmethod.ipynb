{
  "nbformat": 4,
  "nbformat_minor": 0,
  "metadata": {
    "colab": {
      "name": "Untitled65.ipynb",
      "provenance": [],
      "authorship_tag": "ABX9TyPSDF9lrX+0U35Q0+v4W8BN",
      "include_colab_link": true
    },
    "kernelspec": {
      "name": "python3",
      "display_name": "Python 3"
    }
  },
  "cells": [
    {
      "cell_type": "markdown",
      "metadata": {
        "id": "view-in-github",
        "colab_type": "text"
      },
      "source": [
        "<a href=\"https://colab.research.google.com/github/alfmorais/estudos_em_python/blob/main/abstractmethod.ipynb\" target=\"_parent\"><img src=\"https://colab.research.google.com/assets/colab-badge.svg\" alt=\"Open In Colab\"/></a>"
      ]
    },
    {
      "cell_type": "code",
      "metadata": {
        "id": "laqDJJ_CeQ-z"
      },
      "source": [
        "# Classes Abstratas\r\n",
        "# Criar um contrato (esqueleto) -> que deve ser implementado na classe que herda\r\n",
        "\r\n",
        "from abc import ABC, abstractmethod\r\n",
        "\r\n",
        "class Camera(ABC):\r\n",
        "  @abstractmethod\r\n",
        "  def definir_tamanho_lente(self, tamanho):\r\n",
        "    pass\r\n",
        "\r\n",
        "class Camera_Profissional(Camera):\r\n",
        "  def definir_tamanho_lente(self, tamanho):\r\n",
        "    print(f'Alterando a lente para {tamanho}')"
      ],
      "execution_count": 1,
      "outputs": []
    },
    {
      "cell_type": "code",
      "metadata": {
        "colab": {
          "base_uri": "https://localhost:8080/"
        },
        "id": "q49-OQHje4Al",
        "outputId": "fdf20be2-527e-4523-f149-62bf4fdbbf20"
      },
      "source": [
        "camera_profissional = Camera_Profissional()\r\n",
        "camera_profissional.definir_tamanho_lente(5)"
      ],
      "execution_count": 3,
      "outputs": [
        {
          "output_type": "stream",
          "text": [
            "Alterando a lente para 5\n"
          ],
          "name": "stdout"
        }
      ]
    },
    {
      "cell_type": "code",
      "metadata": {
        "colab": {
          "base_uri": "https://localhost:8080/"
        },
        "id": "NNYo8G0IgnNt",
        "outputId": "40355932-62f9-403c-fc87-84f6e099c55b"
      },
      "source": [
        "from abc import ABC, abstractmethod\r\n",
        "\r\n",
        "class Monitor(ABC):\r\n",
        "  @abstractmethod\r\n",
        "  def aumentando_claridade(self, claridade):\r\n",
        "    pass\r\n",
        "\r\n",
        "  def diminuindo_claridade(self, claridade):\r\n",
        "    pass\r\n",
        "\r\n",
        "class Monitor_Full_HD(Monitor):\r\n",
        "  def aumentando_claridade(self, claridade):\r\n",
        "    print(f'Aumentando a claridade em {claridade} pontos')\r\n",
        "\r\n",
        "  def diminuindo_claridade(self, claridade):\r\n",
        "    print(f'Diminuindo a claridade em {claridade} pontos')\r\n",
        "\r\n",
        "monitor = Monitor_Full_HD()\r\n",
        "monitor.aumentando_claridade(5)\r\n",
        "monitor.diminuindo_claridade(5)"
      ],
      "execution_count": 4,
      "outputs": [
        {
          "output_type": "stream",
          "text": [
            "Aumentando a claridade em 5 pontos\n",
            "Diminuindo a claridade em 5 pontos\n"
          ],
          "name": "stdout"
        }
      ]
    }
  ]
}
