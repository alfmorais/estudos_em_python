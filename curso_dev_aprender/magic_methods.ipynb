{
  "nbformat": 4,
  "nbformat_minor": 0,
  "metadata": {
    "colab": {
      "name": "Untitled64.ipynb",
      "provenance": [],
      "authorship_tag": "ABX9TyMHOzSzfGmh9pCnV2NThIEm",
      "include_colab_link": true
    },
    "kernelspec": {
      "name": "python3",
      "display_name": "Python 3"
    }
  },
  "cells": [
    {
      "cell_type": "markdown",
      "metadata": {
        "id": "view-in-github",
        "colab_type": "text"
      },
      "source": [
        "<a href=\"https://colab.research.google.com/github/alfmorais/estudos_em_python/blob/main/magic_methods.ipynb\" target=\"_parent\"><img src=\"https://colab.research.google.com/assets/colab-badge.svg\" alt=\"Open In Colab\"/></a>"
      ]
    },
    {
      "cell_type": "markdown",
      "metadata": {
        "id": "WnOTWCloGyj0"
      },
      "source": [
        "##Métodos Mágicos(Magic Methods, Dunder Methods (Double Underscore))\r\n"
      ]
    },
    {
      "cell_type": "code",
      "metadata": {
        "id": "9zCeeliwGrUb"
      },
      "source": [
        "class Pessoa:\r\n",
        "  def __init__(self):\r\n",
        "    self.nome = 'Sou uma pessoa'\r\n",
        "    self.habilidade = ['Habilidade 1', 'Habilidade 2', 'Habilidade 3'] \r\n",
        "\r\n",
        "  # Representações para programadores (chamado com método repr(pessoa))\r\n",
        "  def __repr__(self):\r\n",
        "    return 'Classe Pessoa com propriedades nome e habilidades'\r\n",
        "\r\n",
        "  def __len__(self):\r\n",
        "    # len(pessoas) ?\r\n",
        "    return len(self.habilidade)\r\n",
        "\r\n",
        "  def __str__(self):\r\n",
        "    return f'{self.nome} com as habilidades {self.habilidade}'"
      ],
      "execution_count": 10,
      "outputs": []
    },
    {
      "cell_type": "code",
      "metadata": {
        "colab": {
          "base_uri": "https://localhost:8080/"
        },
        "id": "yq-Dj3qFGyEs",
        "outputId": "40eba5ca-52be-4435-87b5-358d41d2244e"
      },
      "source": [
        "pessoa = Pessoa()\r\n",
        "print(pessoa.nome)\r\n",
        "print(repr(pessoa))\r\n",
        "print(len(pessoa))\r\n",
        "print(pessoa)"
      ],
      "execution_count": 11,
      "outputs": [
        {
          "output_type": "stream",
          "text": [
            "Sou uma pessoa\n",
            "Classe Pessoa com propriedades nome e habilidades\n",
            "3\n",
            "Sou uma pessoa com as habilidades ['Habilidade 1', 'Habilidade 2', 'Habilidade 3']\n"
          ],
          "name": "stdout"
        }
      ]
    },
    {
      "cell_type": "code",
      "metadata": {
        "id": "QaCxymSVGyQZ"
      },
      "source": [
        ""
      ],
      "execution_count": null,
      "outputs": []
    }
  ]
}
