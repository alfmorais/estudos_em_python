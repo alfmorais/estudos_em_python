{
  "nbformat": 4,
  "nbformat_minor": 0,
  "metadata": {
    "colab": {
      "name": "Untitled58.ipynb",
      "provenance": [],
      "authorship_tag": "ABX9TyOrCUEYOKZl/RiGIEwaS3aD",
      "include_colab_link": true
    },
    "kernelspec": {
      "name": "python3",
      "display_name": "Python 3"
    }
  },
  "cells": [
    {
      "cell_type": "markdown",
      "metadata": {
        "id": "view-in-github",
        "colab_type": "text"
      },
      "source": [
        "<a href=\"https://colab.research.google.com/github/alfmorais/estudos_em_python/blob/main/modulo7_aula_3_metodos_de_classes_v2.ipynb\" target=\"_parent\"><img src=\"https://colab.research.google.com/assets/colab-badge.svg\" alt=\"Open In Colab\"/></a>"
      ]
    },
    {
      "cell_type": "markdown",
      "metadata": {
        "id": "h5-mlMTHG_hf"
      },
      "source": [
        "##Classes e Introdução a POO (Programação Orientada a Objetos)\r\n",
        "\r\n"
      ]
    },
    {
      "cell_type": "code",
      "metadata": {
        "colab": {
          "base_uri": "https://localhost:8080/"
        },
        "id": "vCVuQ58vHLMU",
        "outputId": "12b711fc-78f6-400e-dadd-5f90b70f9fdd"
      },
      "source": [
        "class Computador():\r\n",
        "  def __init__(self):\r\n",
        "    '''\r\n",
        "    '''\r\n",
        "    self.marca = 'ASUS'\r\n",
        "    self.memoria_ram = '8GB'\r\n",
        "    self.placa_de_video = 'NVIDIA'\r\n",
        "\r\n",
        "# Marca, Memória Ram, Placa de Video\r\n",
        "computador1 = Computador()\r\n",
        "print(computador1.marca)\r\n",
        "print(computador1.memoria_ram)\r\n",
        "print(computador1.placa_de_video)"
      ],
      "execution_count": 1,
      "outputs": [
        {
          "output_type": "stream",
          "text": [
            "ASUS\n",
            "8GB\n",
            "NVIDIA\n"
          ],
          "name": "stdout"
        }
      ]
    },
    {
      "cell_type": "code",
      "metadata": {
        "id": "kAMBtY18NZVv"
      },
      "source": [
        "class Computador():\r\n",
        "  def __init__(self, marca, memoria_ram, placa_de_video):\r\n",
        "    '''\r\n",
        "    '''\r\n",
        "    self.marca = marca\r\n",
        "    self.memoria_ram = memoria_ram\r\n",
        "    self.placa_de_video = placa_de_video"
      ],
      "execution_count": 2,
      "outputs": []
    },
    {
      "cell_type": "code",
      "metadata": {
        "colab": {
          "base_uri": "https://localhost:8080/"
        },
        "id": "9MQgKbGgN7Qh",
        "outputId": "bbe4123b-8711-479b-84a2-b667cd4755e5"
      },
      "source": [
        "computador1 = Computador('Samsung', '16GB', 'NVIDIA')\r\n",
        "print(computador1.marca)\r\n",
        "print(computador1.memoria_ram)\r\n",
        "print(computador1.placa_de_video)"
      ],
      "execution_count": 3,
      "outputs": [
        {
          "output_type": "stream",
          "text": [
            "Samsung\n",
            "16GB\n",
            "NVIDIA\n"
          ],
          "name": "stdout"
        }
      ]
    },
    {
      "cell_type": "markdown",
      "metadata": {
        "id": "x_K6h8eNOEz1"
      },
      "source": [
        "##Funções dentro de Classes em Python\r\n",
        "1. Métodos de Uma Classe\r\n",
        "\r\n",
        "O QUE SÃO MÉTODOS DE UMA CLASSE: \r\n",
        "Um método é uma função que “pertence” a um objeto instância. (Em Python, o termo método não é aplicado exclusivamente a instâncias de classes definidas pelo usuário: outros tipos de objetos também podem ter métodos. ... Por definição, cada atributo de uma classe que é uma função corresponde a um método das instâncias."
      ]
    },
    {
      "cell_type": "code",
      "metadata": {
        "id": "dY5s7O58OKo7"
      },
      "source": [
        "class Computador:\r\n",
        "  def __init__(self, marca, memoria_ram, placa_de_video):\r\n",
        "    self.marca = marca\r\n",
        "    self.memoria_ram = memoria_ram\r\n",
        "    self.placa_de_video = placa_de_video\r\n",
        "\r\n",
        "  def ligar(self):\r\n",
        "    print('Estou ligando o computador')\r\n",
        "\r\n",
        "  def desligar(self):\r\n",
        "    print('Estou desligando o computador')\r\n",
        "\r\n",
        "  def exibir_dados_do_computador(self):\r\n",
        "    print(f'O computador da marca {self.marca}, com {self.memoria_ram} de memória ram e que usa a placa de video {self.placa_de_video}')"
      ],
      "execution_count": 4,
      "outputs": []
    },
    {
      "cell_type": "code",
      "metadata": {
        "colab": {
          "base_uri": "https://localhost:8080/"
        },
        "id": "qx9BZw-EtyvZ",
        "outputId": "93451cc2-b0ac-4942-a18e-44af6be27621"
      },
      "source": [
        "computador1 = Computador('Apple', '16GB', 'GFORCE')\r\n",
        "\r\n",
        "computador1.ligar()\r\n",
        "computador1.desligar()\r\n",
        "computador1.exibir_dados_do_computador()"
      ],
      "execution_count": 5,
      "outputs": [
        {
          "output_type": "stream",
          "text": [
            "Estou ligando o computador\n",
            "Estou desligando o computador\n",
            "O computador da marca Apple, com 16GB de memória ram e que usa a placa de video GFORCE\n"
          ],
          "name": "stdout"
        }
      ]
    }
  ]
}
