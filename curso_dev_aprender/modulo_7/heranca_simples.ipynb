{
  "nbformat": 4,
  "nbformat_minor": 0,
  "metadata": {
    "colab": {
      "name": "Untitled62.ipynb",
      "provenance": [],
      "authorship_tag": "ABX9TyO/2Mrr1BhFbv1/uhoMYqDu",
      "include_colab_link": true
    },
    "kernelspec": {
      "name": "python3",
      "display_name": "Python 3"
    }
  },
  "cells": [
    {
      "cell_type": "markdown",
      "metadata": {
        "id": "view-in-github",
        "colab_type": "text"
      },
      "source": [
        "<a href=\"https://colab.research.google.com/github/alfmorais/estudos_em_python/blob/main/heranca_simples.ipynb\" target=\"_parent\"><img src=\"https://colab.research.google.com/assets/colab-badge.svg\" alt=\"Open In Colab\"/></a>"
      ]
    },
    {
      "cell_type": "code",
      "metadata": {
        "id": "TiXhBOom8jPI"
      },
      "source": [
        "# Herança\r\n",
        "\r\n",
        "class Camara:\r\n",
        "  def __init__(self, marca, megapixels):\r\n",
        "    self.marca = marca\r\n",
        "    self.megapixels = megapixels\r\n",
        "\r\n",
        "  def tirar_foto(self):\r\n",
        "    print(f'foto tirada com a camara {self.marca} com a qualidade de {self.megapixels} megapixels')\r\n",
        "    \r\n",
        "class Camara_Celular(Camara):\r\n",
        "  def __init__(self, marca, megapixels, quantidade_de_camaras):\r\n",
        "    super().__init__(marca, megapixels)\r\n",
        "    self.quantidade_de_camaras = quantidade_de_camaras\r\n",
        "\r\n",
        "  def aplicar_filtro(self, filtro):\r\n",
        "    print(f'aplicando filtro {filtro}')\r\n",
        "\r\n",
        "  def tirar_foto(self, camara_a_utilizar):\r\n",
        "    print(f'Foto tirada com a camara {self.marca} com a qualidade de {self.megapixels} megapixels')\r\n",
        "    print(f'Utilizando a camara {camara_a_utilizar}')"
      ],
      "execution_count": 5,
      "outputs": []
    },
    {
      "cell_type": "code",
      "metadata": {
        "id": "irDTluQA_Y0H"
      },
      "source": [
        "camara_celular = Camara_Celular('Sony', '25MP', 4)"
      ],
      "execution_count": 6,
      "outputs": []
    },
    {
      "cell_type": "code",
      "metadata": {
        "colab": {
          "base_uri": "https://localhost:8080/"
        },
        "id": "W8MyAnvc_lpo",
        "outputId": "ec870d70-c1f3-435e-ce78-84682519fd69"
      },
      "source": [
        "print(camara_celular.marca)\r\n",
        "camara_celular.aplicar_filtro('Azul')\r\n",
        "camara_celular.tirar_foto(2)"
      ],
      "execution_count": 8,
      "outputs": [
        {
          "output_type": "stream",
          "text": [
            "Sony\n",
            "aplicando filtro Azul\n",
            "Foto tirada com a camara Sony com a qualidade de 25MP megapixels\n",
            "Utilizando a camara 2\n"
          ],
          "name": "stdout"
        }
      ]
    },
    {
      "cell_type": "code",
      "metadata": {
        "id": "2mA-dST7APnO"
      },
      "source": [
        "class Camara_Segurança(Camara):\r\n",
        "  def __init__(self, marca, megapixels, horas_de_gravacao):\r\n",
        "    super().__init__(marca, megapixels)\r\n",
        "    self.horas_de_gravacao = horas_de_gravacao\r\n",
        "\r\n",
        "  def rotacionando(self, direcao):\r\n",
        "    print(f'Rotacionando a camara p/ {direcao}')"
      ],
      "execution_count": 9,
      "outputs": []
    },
    {
      "cell_type": "code",
      "metadata": {
        "colab": {
          "base_uri": "https://localhost:8080/"
        },
        "id": "u9v3dWh8AsHW",
        "outputId": "b6a0599e-2b0b-4a47-e06c-c0bf912a49d3"
      },
      "source": [
        "camara = Camara_Segurança('Sony', '5MP', 10)\r\n",
        "camara.rotacionando('Direita')"
      ],
      "execution_count": 10,
      "outputs": [
        {
          "output_type": "stream",
          "text": [
            "Rotacionando a camara p/ Direita\n"
          ],
          "name": "stdout"
        }
      ]
    },
    {
      "cell_type": "code",
      "metadata": {
        "colab": {
          "base_uri": "https://localhost:8080/"
        },
        "id": "2UAAzFkQBD8p",
        "outputId": "d1f11117-4520-44e9-9226-f1e96a4597b8"
      },
      "source": [
        "issubclass(Camara_Celular, Camara)\r\n",
        "issubclass(Camara_Segurança, Camara)"
      ],
      "execution_count": 11,
      "outputs": [
        {
          "output_type": "execute_result",
          "data": {
            "text/plain": [
              "True"
            ]
          },
          "metadata": {
            "tags": []
          },
          "execution_count": 11
        }
      ]
    }
  ]
}
