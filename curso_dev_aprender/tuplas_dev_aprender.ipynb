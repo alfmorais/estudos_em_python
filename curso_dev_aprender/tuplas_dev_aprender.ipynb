{
  "nbformat": 4,
  "nbformat_minor": 0,
  "metadata": {
    "colab": {
      "name": "Untitled33.ipynb",
      "provenance": [],
      "authorship_tag": "ABX9TyOtets06dcfOFeOLScCEI0j",
      "include_colab_link": true
    },
    "kernelspec": {
      "name": "python3",
      "display_name": "Python 3"
    }
  },
  "cells": [
    {
      "cell_type": "markdown",
      "metadata": {
        "id": "view-in-github",
        "colab_type": "text"
      },
      "source": [
        "<a href=\"https://colab.research.google.com/github/alfmorais/google_colaboratory/blob/main/tuplas_dev_aprender.ipynb\" target=\"_parent\"><img src=\"https://colab.research.google.com/assets/colab-badge.svg\" alt=\"Open In Colab\"/></a>"
      ]
    },
    {
      "cell_type": "code",
      "metadata": {
        "id": "_NKbGEwih1R6"
      },
      "source": [
        "# DEV APRENDER - TUPLAS\r\n",
        "'''\r\n",
        "- Não pode ser mutaveis\r\n",
        "- Não pode alterar após a criação\r\n",
        "'''\r\n",
        "\r\n",
        "site1 = 'youtube.com'\r\n",
        "site2 = 'facebook.com'\r\n",
        "site3 = 'instagram.com'\r\n",
        "\r\n",
        "valor1 = 23\r\n",
        "valor2 = 43\r\n",
        "valor3 = 65"
      ],
      "execution_count": 1,
      "outputs": []
    },
    {
      "cell_type": "code",
      "metadata": {
        "id": "2Wn9yaUJiSCZ"
      },
      "source": [
        "# Criação de Tuplas\r\n",
        "sites = ('youtube.com', 'facebook.com', 'instagram.com', 54, True)\r\n",
        "valores = (23, 43, 65, False)"
      ],
      "execution_count": 3,
      "outputs": []
    },
    {
      "cell_type": "code",
      "metadata": {
        "colab": {
          "base_uri": "https://localhost:8080/"
        },
        "id": "Xek7NTLjipcK",
        "outputId": "52d0938c-3d86-42ee-bbf3-33f6d322a7be"
      },
      "source": [
        "# União de Tuplas\r\n",
        "dados_do_sistema = sites + valores\r\n",
        "print(dados_do_sistema)"
      ],
      "execution_count": 4,
      "outputs": [
        {
          "output_type": "stream",
          "text": [
            "('youtube.com', 'facebook.com', 'instagram.com', 54, True, 23, 43, 65, False)\n"
          ],
          "name": "stdout"
        }
      ]
    },
    {
      "cell_type": "code",
      "metadata": {
        "colab": {
          "base_uri": "https://localhost:8080/"
        },
        "id": "GSTxug6Ei0E-",
        "outputId": "d5c3626f-039a-468e-cea0-4c26278adc63"
      },
      "source": [
        "# Acesso de valores em uma tupla\r\n",
        "\r\n",
        "print(dados_do_sistema[2])\r\n",
        "print(sites)"
      ],
      "execution_count": 5,
      "outputs": [
        {
          "output_type": "stream",
          "text": [
            "instagram.com\n",
            "('youtube.com', 'facebook.com', 'instagram.com', 54, True)\n"
          ],
          "name": "stdout"
        }
      ]
    },
    {
      "cell_type": "code",
      "metadata": {
        "colab": {
          "base_uri": "https://localhost:8080/"
        },
        "id": "hAXhW8myi-ZJ",
        "outputId": "3213d024-6c8f-46c5-d4b3-a1d3f158c523"
      },
      "source": [
        "print(valores)"
      ],
      "execution_count": 6,
      "outputs": [
        {
          "output_type": "stream",
          "text": [
            "(23, 43, 65, False)\n"
          ],
          "name": "stdout"
        }
      ]
    },
    {
      "cell_type": "code",
      "metadata": {
        "colab": {
          "base_uri": "https://localhost:8080/"
        },
        "id": "UMumyoZSjwMN",
        "outputId": "86a2fdd3-1930-46f0-d568-bf2323a4474b"
      },
      "source": [
        "for item in dados_do_sistema:\r\n",
        "  print(item)"
      ],
      "execution_count": 7,
      "outputs": [
        {
          "output_type": "stream",
          "text": [
            "youtube.com\n",
            "facebook.com\n",
            "instagram.com\n",
            "54\n",
            "True\n",
            "23\n",
            "43\n",
            "65\n",
            "False\n"
          ],
          "name": "stdout"
        }
      ]
    }
  ]
}
