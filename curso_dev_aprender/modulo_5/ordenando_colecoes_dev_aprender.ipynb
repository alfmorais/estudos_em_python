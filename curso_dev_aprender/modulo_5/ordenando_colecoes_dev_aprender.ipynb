{
  "nbformat": 4,
  "nbformat_minor": 0,
  "metadata": {
    "colab": {
      "name": "Untitled37.ipynb",
      "provenance": [],
      "authorship_tag": "ABX9TyNjKnkIHJsjmi/x/ENpenp5",
      "include_colab_link": true
    },
    "kernelspec": {
      "name": "python3",
      "display_name": "Python 3"
    }
  },
  "cells": [
    {
      "cell_type": "markdown",
      "metadata": {
        "id": "view-in-github",
        "colab_type": "text"
      },
      "source": [
        "<a href=\"https://colab.research.google.com/github/alfmorais/google_colaboratory/blob/main/ordenando_colecoes_dev_aprender.ipynb\" target=\"_parent\"><img src=\"https://colab.research.google.com/assets/colab-badge.svg\" alt=\"Open In Colab\"/></a>"
      ]
    },
    {
      "cell_type": "code",
      "metadata": {
        "colab": {
          "base_uri": "https://localhost:8080/"
        },
        "id": "9rGfigZrHR-j",
        "outputId": "69fdbe1a-166a-4190-b79e-f291039305a5"
      },
      "source": [
        "# Como ordenar coleções através de propriedades\r\n",
        "\r\n",
        "nomes = ['Zack', 'Camila', 'Julius', 'Romeu']\r\n",
        "valores = [31, 23, 6, 36, 21, 33, 37, 7, 20, 45]\r\n",
        "\r\n",
        "# Ordenando listas\r\n",
        "nomes.sort()\r\n",
        "valores.sort()\r\n",
        "print(nomes)\r\n",
        "print(valores)"
      ],
      "execution_count": 3,
      "outputs": [
        {
          "output_type": "stream",
          "text": [
            "['Camila', 'Julius', 'Romeu', 'Zack']\n",
            "[6, 7, 20, 21, 23, 31, 33, 36, 37, 45]\n"
          ],
          "name": "stdout"
        }
      ]
    },
    {
      "cell_type": "code",
      "metadata": {
        "colab": {
          "base_uri": "https://localhost:8080/"
        },
        "id": "Yxwp9vigISzX",
        "outputId": "0e64ea7d-acb2-4596-9c6a-ccb16b207d37"
      },
      "source": [
        "# Usando a função sort com dicionário\r\n",
        "\r\n",
        "pessoas = [\r\n",
        "           {'nome': 'John', 'idade': 32, 'nível_acesso': 1},\r\n",
        "           {'nome': 'Rena', 'idade': 24, 'nível_acesso': 2},\r\n",
        "           {'nome': 'Joan', 'idade': 65, 'nível_acesso': 4},\r\n",
        "           {'nome': 'Kuca', 'idade': 12, 'nível_acesso': 5},\r\n",
        "           {'nome': 'Tuca', 'idade': 14, 'nível_acesso': 3},\r\n",
        "]\r\n",
        "\r\n",
        "from operator import itemgetter\r\n",
        "\r\n",
        "pessoas.sort(key=itemgetter('nome'))\r\n",
        "print(pessoas)\r\n",
        "\r\n",
        "pessoas.sort(key=itemgetter('idade'))\r\n",
        "print(pessoas)\r\n",
        "\r\n",
        "pessoas.sort(key=itemgetter('nível_acesso'))\r\n",
        "print(pessoas)"
      ],
      "execution_count": 6,
      "outputs": [
        {
          "output_type": "stream",
          "text": [
            "[{'nome': 'Joan', 'idade': 65, 'nível_acesso': 4}, {'nome': 'John', 'idade': 32, 'nível_acesso': 1}, {'nome': 'Kuca', 'idade': 12, 'nível_acesso': 5}, {'nome': 'Rena', 'idade': 24, 'nível_acesso': 2}, {'nome': 'Tuca', 'idade': 14, 'nível_acesso': 3}]\n",
            "[{'nome': 'Kuca', 'idade': 12, 'nível_acesso': 5}, {'nome': 'Tuca', 'idade': 14, 'nível_acesso': 3}, {'nome': 'Rena', 'idade': 24, 'nível_acesso': 2}, {'nome': 'John', 'idade': 32, 'nível_acesso': 1}, {'nome': 'Joan', 'idade': 65, 'nível_acesso': 4}]\n",
            "[{'nome': 'John', 'idade': 32, 'nível_acesso': 1}, {'nome': 'Rena', 'idade': 24, 'nível_acesso': 2}, {'nome': 'Tuca', 'idade': 14, 'nível_acesso': 3}, {'nome': 'Joan', 'idade': 65, 'nível_acesso': 4}, {'nome': 'Kuca', 'idade': 12, 'nível_acesso': 5}]\n"
          ],
          "name": "stdout"
        }
      ]
    },
    {
      "cell_type": "code",
      "metadata": {
        "colab": {
          "base_uri": "https://localhost:8080/"
        },
        "id": "zCYVl98RJyYa",
        "outputId": "99ef5ea5-3275-4db7-c096-238a861ece43"
      },
      "source": [
        "from operator import itemgetter\r\n",
        "\r\n",
        "produtos = [\r\n",
        "            ('Celular', 750),\r\n",
        "            ('Bicileta', 1500),\r\n",
        "            ('Microfone', 550),\r\n",
        "]\r\n",
        "\r\n",
        "produtos.sort(key=itemgetter(1))\r\n",
        "print(produtos)"
      ],
      "execution_count": 7,
      "outputs": [
        {
          "output_type": "stream",
          "text": [
            "[('Microfone', 550), ('Celular', 750), ('Bicileta', 1500)]\n"
          ],
          "name": "stdout"
        }
      ]
    },
    {
      "cell_type": "code",
      "metadata": {
        "colab": {
          "base_uri": "https://localhost:8080/"
        },
        "id": "ZEt5wBJ6MIxc",
        "outputId": "80e8c5a1-3a9e-4df8-c6a3-0a2429f5d7c8"
      },
      "source": [
        "from operator import itemgetter\r\n",
        "\r\n",
        "produtos = [\r\n",
        "            ('Celular', 750),\r\n",
        "            ('Bicileta', 1500),\r\n",
        "            ('Microfone', 550),\r\n",
        "]\r\n",
        "\r\n",
        "produtos.sort(key=itemgetter(1), reverse=True)\r\n",
        "print(produtos)"
      ],
      "execution_count": 8,
      "outputs": [
        {
          "output_type": "stream",
          "text": [
            "[('Bicileta', 1500), ('Celular', 750), ('Microfone', 550)]\n"
          ],
          "name": "stdout"
        }
      ]
    },
    {
      "cell_type": "code",
      "metadata": {
        "colab": {
          "base_uri": "https://localhost:8080/"
        },
        "id": "XD_-5j78MRDm",
        "outputId": "64d6c4b8-dafb-4491-ebe7-88cda4f711a9"
      },
      "source": [
        "from operator import itemgetter\r\n",
        "\r\n",
        "matriz = [[5, 10], [15, 21], [1, 5]]\r\n",
        "\r\n",
        "matriz.sort(key=itemgetter(0))\r\n",
        "print(matriz)"
      ],
      "execution_count": 9,
      "outputs": [
        {
          "output_type": "stream",
          "text": [
            "[[1, 5], [5, 10], [15, 21]]\n"
          ],
          "name": "stdout"
        }
      ]
    },
    {
      "cell_type": "code",
      "metadata": {
        "colab": {
          "base_uri": "https://localhost:8080/"
        },
        "id": "5Frsm0ZYMtz8",
        "outputId": "26ad8af6-109b-4f72-f098-9d1107c6f039"
      },
      "source": [
        "from operator import itemgetter\r\n",
        "\r\n",
        "matriz = [[5, 10], [15, 21], [1, 5]]\r\n",
        "\r\n",
        "matriz.sort(key=itemgetter(1))\r\n",
        "print(matriz)"
      ],
      "execution_count": 10,
      "outputs": [
        {
          "output_type": "stream",
          "text": [
            "[[1, 5], [5, 10], [15, 21]]\n"
          ],
          "name": "stdout"
        }
      ]
    },
    {
      "cell_type": "code",
      "metadata": {
        "colab": {
          "base_uri": "https://localhost:8080/"
        },
        "id": "VR5qqgDeM1eN",
        "outputId": "0be14b56-49e7-441c-b5bb-db8381bff4e7"
      },
      "source": [
        "''' Desafio 1\r\n",
        "\r\n",
        "Ordene a lista de produtos abaixo pelo preço em ordem crescente: '''\r\n",
        "from operator import itemgetter\r\n",
        "\r\n",
        "produtos = [\r\n",
        "            {'Nome': 'Celular', 'Preço': 1500},\r\n",
        "            {'Nome': 'Monitor', 'Preço': 500},\r\n",
        "            {'Nome': 'Microfone', 'Preço': 300},\r\n",
        "]\r\n",
        "produtos.sort(key=itemgetter('Preço'))\r\n",
        "print(produtos)"
      ],
      "execution_count": 16,
      "outputs": [
        {
          "output_type": "stream",
          "text": [
            "[{'Nome': 'Microfone', 'Preço': 300}, {'Nome': 'Monitor', 'Preço': 500}, {'Nome': 'Celular', 'Preço': 1500}]\n"
          ],
          "name": "stdout"
        }
      ]
    },
    {
      "cell_type": "code",
      "metadata": {
        "colab": {
          "base_uri": "https://localhost:8080/"
        },
        "id": "kw1CnA-DNYii",
        "outputId": "2f8fc848-b6a9-476b-b047-4064ff9cefdc"
      },
      "source": [
        "''' Desafio 2\r\n",
        "\r\n",
        "Ordene em ordem descrescente a lista de equipamentos_filmagem por valor do equipamento: '''\r\n",
        "from operator import itemgetter\r\n",
        "\r\n",
        "equipamentos_filmagem = [\r\n",
        "                         ('Tripé', 300),\r\n",
        "                         ('Camara', 1700),\r\n",
        "                         ('Iluminação', 200),\r\n",
        "]\r\n",
        "equipamentos_filmagem.sort(key=itemgetter(1), reverse=True)\r\n",
        "print(equipamentos_filmagem)"
      ],
      "execution_count": 18,
      "outputs": [
        {
          "output_type": "stream",
          "text": [
            "[('Camara', 1700), ('Tripé', 300), ('Iluminação', 200)]\n"
          ],
          "name": "stdout"
        }
      ]
    },
    {
      "cell_type": "code",
      "metadata": {
        "colab": {
          "base_uri": "https://localhost:8080/"
        },
        "id": "LmoWqpYeN5Zf",
        "outputId": "c00c4abe-f95f-4c8c-ede9-99f3adfc59cc"
      },
      "source": [
        "''' Desafio 3\r\n",
        "\r\n",
        "Ordene em ordem crescente a cotação_moedas com base no valor da moeda '''\r\n",
        "from operator import itemgetter\r\n",
        "\r\n",
        "cotacao_moedas = [['usd', 5.25], ['brl', 1.56], ['eur', 6.47]]\r\n",
        "cotacao_moedas.sort(key=itemgetter(1))\r\n",
        "print(cotacao_moedas)"
      ],
      "execution_count": 20,
      "outputs": [
        {
          "output_type": "stream",
          "text": [
            "[['brl', 1.56], ['usd', 5.25], ['eur', 6.47]]\n"
          ],
          "name": "stdout"
        }
      ]
    }
  ]
}
