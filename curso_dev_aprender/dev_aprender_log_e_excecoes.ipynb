{
  "nbformat": 4,
  "nbformat_minor": 0,
  "metadata": {
    "colab": {
      "name": "Untitled57.ipynb",
      "provenance": [],
      "authorship_tag": "ABX9TyMaaeXBob4K7pA5m7Wv0CaM",
      "include_colab_link": true
    },
    "kernelspec": {
      "name": "python3",
      "display_name": "Python 3"
    }
  },
  "cells": [
    {
      "cell_type": "markdown",
      "metadata": {
        "id": "view-in-github",
        "colab_type": "text"
      },
      "source": [
        "<a href=\"https://colab.research.google.com/github/alfmorais/estudos_em_python/blob/main/dev_aprender_log_e_excecoes.ipynb\" target=\"_parent\"><img src=\"https://colab.research.google.com/assets/colab-badge.svg\" alt=\"Open In Colab\"/></a>"
      ]
    },
    {
      "cell_type": "code",
      "metadata": {
        "colab": {
          "base_uri": "https://localhost:8080/"
        },
        "id": "nE9uWEldCqbR",
        "outputId": "e409ae34-85c5-472e-d8c7-99156e77c0e8"
      },
      "source": [
        "import logging\r\n",
        "\r\n",
        "logging.basicConfig(level=logging.DEBUG, filename='app.log', filemode='a',\r\n",
        "                    format='%(levelname)s - %(message)s - %(asctime)s')\r\n",
        "\r\n",
        "try:\r\n",
        "    email = input('Digite seu e-mail: ')\r\n",
        "    senha = int(input('Digite sua senha bancária: '))\r\n",
        "\r\n",
        "    if senha == 1234:\r\n",
        "        print('Login geito com sucesso!')\r\n",
        "        logging.info(f'{email} entrou em sua conta bancária')\r\n",
        "\r\n",
        "except ValueError as erro:\r\n",
        "    print('Digite apenas numeros.')\r\n",
        "    logging.info(erro)"
      ],
      "execution_count": 2,
      "outputs": [
        {
          "output_type": "stream",
          "text": [
            "Digite seu e-mail: alfredneto@hotmail.com\n",
            "Digite sua senha bancária: 4569\n"
          ],
          "name": "stdout"
        }
      ]
    }
  ]
}
