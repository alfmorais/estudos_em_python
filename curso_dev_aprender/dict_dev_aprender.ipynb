{
  "nbformat": 4,
  "nbformat_minor": 0,
  "metadata": {
    "colab": {
      "name": "Untitled32.ipynb",
      "provenance": [],
      "authorship_tag": "ABX9TyOnjCsLOitnGCa7rm8jta+6",
      "include_colab_link": true
    },
    "kernelspec": {
      "name": "python3",
      "display_name": "Python 3"
    }
  },
  "cells": [
    {
      "cell_type": "markdown",
      "metadata": {
        "id": "view-in-github",
        "colab_type": "text"
      },
      "source": [
        "<a href=\"https://colab.research.google.com/github/alfmorais/google_colaboratory/blob/main/dict_dev_aprender.ipynb\" target=\"_parent\"><img src=\"https://colab.research.google.com/assets/colab-badge.svg\" alt=\"Open In Colab\"/></a>"
      ]
    },
    {
      "cell_type": "code",
      "metadata": {
        "colab": {
          "base_uri": "https://localhost:8080/"
        },
        "id": "unnqRZ1eFp4K",
        "outputId": "6386493e-e25b-4833-bd79-9ce89c2fd45a"
      },
      "source": [
        "# Dicionários - DEV APRENDER\r\n",
        "\r\n",
        "'''\r\n",
        "Pessoa\r\n",
        "  nome\r\n",
        "  idade\r\n",
        "  altura\r\n",
        "'''\r\n",
        "\r\n",
        "dados_pessoais = {\r\n",
        "    'Nome': 'Carol',\r\n",
        "    'Idade': 18,\r\n",
        "    'Altura': 1.60,\r\n",
        "}\r\n",
        "\r\n",
        "print(dados_pessoais)"
      ],
      "execution_count": 2,
      "outputs": [
        {
          "output_type": "stream",
          "text": [
            "{'Nome': 'Carol', 'Idade': 18, 'Altura': 1.6}\n"
          ],
          "name": "stdout"
        }
      ]
    },
    {
      "cell_type": "code",
      "metadata": {
        "colab": {
          "base_uri": "https://localhost:8080/"
        },
        "id": "dfowiK6ogfwh",
        "outputId": "58ebc984-7454-46b6-f9f1-d50446ab3b93"
      },
      "source": [
        "dados_pessoais_2 = dict(nome='Carol', idade=18, altura=1.60)\r\n",
        "dados_pessoais_2"
      ],
      "execution_count": 4,
      "outputs": [
        {
          "output_type": "execute_result",
          "data": {
            "text/plain": [
              "{'altura': 1.6, 'idade': 18, 'nome': 'Carol'}"
            ]
          },
          "metadata": {
            "tags": []
          },
          "execution_count": 4
        }
      ]
    },
    {
      "cell_type": "code",
      "metadata": {
        "colab": {
          "base_uri": "https://localhost:8080/"
        },
        "id": "Vj5Me6jWgw1w",
        "outputId": "03229e9a-9bd3-47b6-8c29-5fbaafa3407e"
      },
      "source": [
        "dados_pessoais_2['idade']"
      ],
      "execution_count": 5,
      "outputs": [
        {
          "output_type": "execute_result",
          "data": {
            "text/plain": [
              "18"
            ]
          },
          "metadata": {
            "tags": []
          },
          "execution_count": 5
        }
      ]
    },
    {
      "cell_type": "code",
      "metadata": {
        "colab": {
          "base_uri": "https://localhost:8080/"
        },
        "id": "r3pTdERVg3YG",
        "outputId": "20520537-4bb6-44e9-80b8-62dc092bf5f8"
      },
      "source": [
        "print(dados_pessoais.keys())\r\n",
        "print(dados_pessoais.values())"
      ],
      "execution_count": 7,
      "outputs": [
        {
          "output_type": "stream",
          "text": [
            "dict_keys(['Nome', 'Idade', 'Altura'])\n",
            "dict_values(['Carol', 18, 1.6])\n"
          ],
          "name": "stdout"
        }
      ]
    },
    {
      "cell_type": "code",
      "metadata": {
        "colab": {
          "base_uri": "https://localhost:8080/"
        },
        "id": "rQ0Etn_ehD31",
        "outputId": "c9f680fa-7e08-434e-bd9a-993dec828400"
      },
      "source": [
        "print(dados_pessoais.items())"
      ],
      "execution_count": 8,
      "outputs": [
        {
          "output_type": "stream",
          "text": [
            "dict_items([('Nome', 'Carol'), ('Idade', 18), ('Altura', 1.6)])\n"
          ],
          "name": "stdout"
        }
      ]
    },
    {
      "cell_type": "code",
      "metadata": {
        "colab": {
          "base_uri": "https://localhost:8080/"
        },
        "id": "36VkQHQ-hNAd",
        "outputId": "eb278614-64f9-439c-a798-436dd29e4340"
      },
      "source": [
        "for item in dados_pessoais.items():\r\n",
        "  print(item)"
      ],
      "execution_count": 9,
      "outputs": [
        {
          "output_type": "stream",
          "text": [
            "('Nome', 'Carol')\n",
            "('Idade', 18)\n",
            "('Altura', 1.6)\n"
          ],
          "name": "stdout"
        }
      ]
    },
    {
      "cell_type": "code",
      "metadata": {
        "id": "lpqNpvaZhY_t"
      },
      "source": [
        ""
      ],
      "execution_count": null,
      "outputs": []
    }
  ]
}
