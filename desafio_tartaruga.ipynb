{
  "nbformat": 4,
  "nbformat_minor": 0,
  "metadata": {
    "colab": {
      "name": "Untitled24.ipynb",
      "provenance": [],
      "collapsed_sections": [],
      "authorship_tag": "ABX9TyORXmKdZszlvT4fyvjGmVTV",
      "include_colab_link": true
    },
    "kernelspec": {
      "name": "python3",
      "display_name": "Python 3"
    }
  },
  "cells": [
    {
      "cell_type": "markdown",
      "metadata": {
        "id": "view-in-github",
        "colab_type": "text"
      },
      "source": [
        "<a href=\"https://colab.research.google.com/github/alfmorais/estudos_em_python/blob/main/desafio_tartaruga.ipynb\" target=\"_parent\"><img src=\"https://colab.research.google.com/assets/colab-badge.svg\" alt=\"Open In Colab\"/></a>"
      ]
    },
    {
      "cell_type": "code",
      "metadata": {
        "id": "1tFs_8GI_ZtQ"
      },
      "source": [
        "# Aula 8 e 9 do Curso DEV APRENDER"
      ],
      "execution_count": null,
      "outputs": []
    },
    {
      "cell_type": "markdown",
      "metadata": {
        "id": "XEAzG-2X_a0T"
      },
      "source": [
        "# Clean Coder VS Functions - Crie Obras de Artes\r\n",
        "\r\n",
        "1. Crie funções nos seus códicos\r\n",
        "2. Funções Limpas e Elegantes\r\n",
        "3. Dê Nomes Significativos\r\n",
        "4. Separar funções com '_'\r\n",
        "5. Simples E Diretos\r\n",
        "6. Funções pequenas\r\n",
        "7. Funções com uma finalidade\r\n",
        "8. Quanto menor a quantidade de arg, melhor\r\n",
        "9. Limite-se no máximo 3 args\r\n",
        "10. Se, você escrever algumas linhas de codigos várias vezes, faça uma função. \r\n",
        "\r\n"
      ]
    },
    {
      "cell_type": "code",
      "metadata": {
        "id": "X7DvJZAGA5Vc"
      },
      "source": [
        "# Fazer o programa da Tartaruga na cécula abaixo. "
      ],
      "execution_count": null,
      "outputs": []
    }
  ]
}