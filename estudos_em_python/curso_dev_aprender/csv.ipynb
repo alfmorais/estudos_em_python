{
  "nbformat": 4,
  "nbformat_minor": 0,
  "metadata": {
    "colab": {
      "name": "Untitled75.ipynb",
      "provenance": [],
      "authorship_tag": "ABX9TyOcxJT2H652ZN08io/3F0qN",
      "include_colab_link": true
    },
    "kernelspec": {
      "name": "python3",
      "display_name": "Python 3"
    }
  },
  "cells": [
    {
      "cell_type": "markdown",
      "metadata": {
        "id": "view-in-github",
        "colab_type": "text"
      },
      "source": [
        "<a href=\"https://colab.research.google.com/github/alfmorais/estudos_em_python/blob/main/estudos_em_python/curso_dev_aprender/csv.ipynb\" target=\"_parent\"><img src=\"https://colab.research.google.com/assets/colab-badge.svg\" alt=\"Open In Colab\"/></a>"
      ]
    },
    {
      "cell_type": "code",
      "metadata": {
        "id": "glABYsYjejJa"
      },
      "source": [
        "# Criando e Lendo Arquivo CSV\r\n",
        "\r\n",
        "with open('csv_exemplo.csv', 'r') as arquivo:\r\n",
        "  dados = arquivo.read()\r\n",
        "  print(dados)"
      ],
      "execution_count": null,
      "outputs": []
    },
    {
      "cell_type": "code",
      "metadata": {
        "id": "GIRGGLF8lHDG"
      },
      "source": [
        "from csv import DictReader\r\n",
        "\r\n",
        "with open('csv_exemplo.csv', 'r') as arquivo:\r\n",
        "  dados = DictReader(arquivo)\r\n",
        "  for dado in dados:\r\n",
        "    print(dado{'Age'} + ' ' + dado{'OrderId'})"
      ],
      "execution_count": null,
      "outputs": []
    },
    {
      "cell_type": "code",
      "metadata": {
        "id": "82GbPZXSlvXb"
      },
      "source": [
        "from csv import DictWriter, DictReader\r\n",
        "\r\n",
        "with open('computadores.csv', 'w', newline='', encoding='UTF-8') as arquivo:\r\n",
        "  cabecalho = ['Marca', 'Preço', 'Ano de Lançamento']\r\n",
        "  csv_writer = DictWriter(arquivo, fieldnames=cabecalho)\r\n",
        "  #csv_writer.writerhead()\r\n",
        "  csv_writer.writerow({\r\n",
        "      'Marca': 'Asus',\r\n",
        "      'Preço': 2500,\r\n",
        "      'Ano de Lançamento': 2010\r\n",
        "  }),\r\n",
        "  csv_writer.writerow({\r\n",
        "      'Marca': 'Dell',\r\n",
        "      'Preço': 4500,\r\n",
        "      'Ano de Lançamento': 2014\r\n",
        "  }),\r\n",
        "  csv_writer.writerow({\r\n",
        "      'Marca': 'Acer',\r\n",
        "      'Preço': 8500,\r\n",
        "      'Ano de Lançamento': 2020\r\n",
        "  }),"
      ],
      "execution_count": null,
      "outputs": []
    },
    {
      "cell_type": "code",
      "metadata": {
        "id": "bSiK4XpOpLN0"
      },
      "source": [
        "# alterando um arquivo\r\n",
        "\r\n",
        "with open('computadores.csv', 'r', newline='', encoding='utf-8') as arquivo_original:\r\n",
        "  dados_originais = DictReader(arquivo_original)\r\n",
        "  computador = list(dados_originais)\r\n",
        "  "
      ],
      "execution_count": null,
      "outputs": []
    },
    {
      "cell_type": "markdown",
      "metadata": {
        "id": "rAhB_B2vqugk"
      },
      "source": [
        "# Desafio\r\n",
        "\r\n",
        "## Crie um arquivo csv chamado pessoas.csv usando o dict writer, esse arquivo csv deve conter o seguinte formato\r\n",
        "\r\n",
        "nome,idade,altura\r\n",
        "mark,25,170\r\n",
        "carol,19,160\r\n",
        "robert,65,175\r\n",
        "\r\n",
        "## Apos ter feito isso modifique esse arquivo adicionando cm ao final da altura, seu arquivo deve ficar da seguinte forma\r\n",
        "\r\n",
        "nome,idade,altura\r\n",
        "mark,25,170cm\r\n",
        "carol,19,160cm\r\n",
        "robert,65,175cm\r\n",
        "\r\n"
      ]
    }
  ]
}