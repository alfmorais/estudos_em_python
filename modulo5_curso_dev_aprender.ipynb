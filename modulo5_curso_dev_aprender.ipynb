{
  "nbformat": 4,
  "nbformat_minor": 0,
  "metadata": {
    "colab": {
      "name": "Untitled28.ipynb",
      "provenance": [],
      "authorship_tag": "ABX9TyP4uefZbKFh9Cy/EC9sQTfr",
      "include_colab_link": true
    },
    "kernelspec": {
      "name": "python3",
      "display_name": "Python 3"
    }
  },
  "cells": [
    {
      "cell_type": "markdown",
      "metadata": {
        "id": "view-in-github",
        "colab_type": "text"
      },
      "source": [
        "<a href=\"https://colab.research.google.com/github/alfmorais/google_colaboratory/blob/main/modulo5_curso_dev_aprender.ipynb\" target=\"_parent\"><img src=\"https://colab.research.google.com/assets/colab-badge.svg\" alt=\"Open In Colab\"/></a>"
      ]
    },
    {
      "cell_type": "markdown",
      "metadata": {
        "id": "x0jpclmnliWt"
      },
      "source": [
        "#O 4º Pilar da Programação - Coleções\r\n",
        "\r\n",
        "\r\n",
        "\r\n",
        "1. Coleções em Python\r\n",
        "2. Criando Listas Com Python\r\n",
        "3. Encontre Valores e Manipulação de Itens de uma Lista\r\n",
        "4. Como Ordenar Listas Simples\r\n",
        "5. Trabalhar com Múltiplas listas usando o ZIP\r\n",
        "\r\n",
        "\r\n",
        "\r\n"
      ]
    },
    {
      "cell_type": "code",
      "metadata": {
        "colab": {
          "base_uri": "https://localhost:8080/"
        },
        "id": "-wme1WxmlG83",
        "outputId": "a7026e78-2235-493e-b948-4570f8468d98"
      },
      "source": [
        "preco_1 = 10\r\n",
        "preco_2 = 20\r\n",
        "preco_3 = 30\r\n",
        "\r\n",
        "precos = [10, 20, 30]\r\n",
        "\r\n",
        "#Acessando o indice da lista\r\n",
        "\r\n",
        "precos[2]\r\n",
        "precos[1]\r\n",
        "precos[0]\r\n",
        "\r\n",
        "print(precos[precos.index(20)])"
      ],
      "execution_count": 1,
      "outputs": [
        {
          "output_type": "stream",
          "text": [
            "20\n"
          ],
          "name": "stdout"
        }
      ]
    },
    {
      "cell_type": "code",
      "metadata": {
        "colab": {
          "base_uri": "https://localhost:8080/"
        },
        "id": "aUd8dF_5m3NN",
        "outputId": "3aa8e297-a9e2-4125-ef2e-bc2300e660fc"
      },
      "source": [
        "items = [1, 2, 3, 'Café', True, 10.5, False]\r\n",
        "print(items[4])"
      ],
      "execution_count": 2,
      "outputs": [
        {
          "output_type": "stream",
          "text": [
            "True\n"
          ],
          "name": "stdout"
        }
      ]
    },
    {
      "cell_type": "code",
      "metadata": {
        "colab": {
          "base_uri": "https://localhost:8080/"
        },
        "id": "xINXM3HInExh",
        "outputId": "295b6095-0cb7-403e-b458-d2c6faf681b9"
      },
      "source": [
        "lista_de_noves = [9] * 10\r\n",
        "print(lista_de_noves)"
      ],
      "execution_count": 3,
      "outputs": [
        {
          "output_type": "stream",
          "text": [
            "[9, 9, 9, 9, 9, 9, 9, 9, 9, 9]\n"
          ],
          "name": "stdout"
        }
      ]
    },
    {
      "cell_type": "code",
      "metadata": {
        "colab": {
          "base_uri": "https://localhost:8080/"
        },
        "id": "YTpEkhjhnO30",
        "outputId": "4e024476-2968-4b3d-952b-e61ee3266422"
      },
      "source": [
        "# Usando o gerador Range\r\n",
        "lista_de_numeros = list(range(30))\r\n",
        "print(lista_de_numeros)"
      ],
      "execution_count": 4,
      "outputs": [
        {
          "output_type": "stream",
          "text": [
            "[0, 1, 2, 3, 4, 5, 6, 7, 8, 9, 10, 11, 12, 13, 14, 15, 16, 17, 18, 19, 20, 21, 22, 23, 24, 25, 26, 27, 28, 29]\n"
          ],
          "name": "stdout"
        }
      ]
    },
    {
      "cell_type": "code",
      "metadata": {
        "colab": {
          "base_uri": "https://localhost:8080/"
        },
        "id": "ZhgPb36Zndqw",
        "outputId": "fc0bbfa4-0e9f-4a83-d1da-078193d71f87"
      },
      "source": [
        "print(list('Desenvolvedor Python'))"
      ],
      "execution_count": 5,
      "outputs": [
        {
          "output_type": "stream",
          "text": [
            "['D', 'e', 's', 'e', 'n', 'v', 'o', 'l', 'v', 'e', 'd', 'o', 'r', ' ', 'P', 'y', 't', 'h', 'o', 'n']\n"
          ],
          "name": "stdout"
        }
      ]
    },
    {
      "cell_type": "code",
      "metadata": {
        "colab": {
          "base_uri": "https://localhost:8080/"
        },
        "id": "ZtFe6KJ4nmV7",
        "outputId": "e6bb91fb-e645-44bf-f759-3dfa4d810b93"
      },
      "source": [
        "# lista de lista (MATRIZ)\r\n",
        "\r\n",
        "matriz_de_nomes = [['Alfredo', 28], ['Denise', 30]]\r\n",
        "\r\n",
        "# Acessando items dos items em uma lista\r\n",
        "print(matriz_de_nomes[0])\r\n",
        "print(matriz_de_nomes[0][0])"
      ],
      "execution_count": 6,
      "outputs": [
        {
          "output_type": "stream",
          "text": [
            "['Alfredo', 28]\n",
            "Alfredo\n"
          ],
          "name": "stdout"
        }
      ]
    },
    {
      "cell_type": "markdown",
      "metadata": {
        "id": "QxdCp_BzoEVs"
      },
      "source": [
        "# DESAFIOS\r\n",
        "\r\n",
        "1. Crie uma lista que tenha os nomes dos 3 objetos que você mais usa durante o dia e imprima ele na tela\r\n",
        "\r\n",
        "2. Usando apenas uma linha de código, crie uma lista de 0 a 131.\r\n",
        "\r\n",
        "3. Imprima na tela o resultado da combinação da lista do desafio 1 e desafio 2\r\n",
        "\r\n",
        "4. Crie uma lista de Matriz que tenha os nomes dos 3 objetos que você mais usa durante o dia, mas agora dentro de cada item você vai colocar uma informação extra, coloque o valor em reais desse objeto também e imprima ele na tela. "
      ]
    },
    {
      "cell_type": "code",
      "metadata": {
        "id": "9UvVaEFYo65q"
      },
      "source": [
        "lista_objetos = ['Celular', 'Sapato', 'Bolsa']"
      ],
      "execution_count": 7,
      "outputs": []
    },
    {
      "cell_type": "code",
      "metadata": {
        "id": "3tnrIyKTpBye"
      },
      "source": [
        "lista_numeros = list(range(132))"
      ],
      "execution_count": 8,
      "outputs": []
    },
    {
      "cell_type": "code",
      "metadata": {
        "colab": {
          "base_uri": "https://localhost:8080/"
        },
        "id": "WR1z--K7pHGW",
        "outputId": "d50530e0-8cc0-4705-f40e-313db69319c1"
      },
      "source": [
        "print(lista_objetos + lista_de_numeros)"
      ],
      "execution_count": 9,
      "outputs": [
        {
          "output_type": "stream",
          "text": [
            "['Celular', 'Sapato', 'Bolsa', 0, 1, 2, 3, 4, 5, 6, 7, 8, 9, 10, 11, 12, 13, 14, 15, 16, 17, 18, 19, 20, 21, 22, 23, 24, 25, 26, 27, 28, 29]\n"
          ],
          "name": "stdout"
        }
      ]
    },
    {
      "cell_type": "code",
      "metadata": {
        "colab": {
          "base_uri": "https://localhost:8080/"
        },
        "id": "3eiLBKkcpRbX",
        "outputId": "9c76d641-ead0-490a-c401-60591d800bc5"
      },
      "source": [
        "lista_objetos_updated = [['Celular', 2500],\r\n",
        "                         ['Sapato', 100],\r\n",
        "                         ['Bolsa', 250]]\r\n",
        "print(lista_objetos_updated)"
      ],
      "execution_count": 10,
      "outputs": [
        {
          "output_type": "stream",
          "text": [
            "[['Celular', 2500], ['Sapato', 100], ['Bolsa', 250]]\n"
          ],
          "name": "stdout"
        }
      ]
    },
    {
      "cell_type": "code",
      "metadata": {
        "colab": {
          "base_uri": "https://localhost:8080/"
        },
        "id": "8tPHsSGXqUS9",
        "outputId": "812b7f62-e388-42cc-fb23-6cdc8ea8c66a"
      },
      "source": [
        "valores = [1, 2, 3, 4, 5, 6, 7, 8, 9, 10]\r\n",
        "anos = [2020, 2030, 2040, 2050]\r\n",
        "\r\n",
        "# Adicionando ao final da lista\r\n",
        "valores.append(11)\r\n",
        "print(valores)\r\n",
        "\r\n",
        "# Unir listas\r\n",
        "valores.extend(anos)\r\n",
        "print(valores)\r\n",
        "\r\n",
        "# Adicionar listas\r\n",
        "nova_lista = valores + anos\r\n",
        "print(nova_lista)"
      ],
      "execution_count": 12,
      "outputs": [
        {
          "output_type": "stream",
          "text": [
            "[1, 2, 3, 4, 5, 6, 7, 8, 9, 10, 11]\n",
            "[1, 2, 3, 4, 5, 6, 7, 8, 9, 10, 11, 2020, 2030, 2040, 2050]\n",
            "[1, 2, 3, 4, 5, 6, 7, 8, 9, 10, 11, 2020, 2030, 2040, 2050, 2020, 2030, 2040, 2050]\n"
          ],
          "name": "stdout"
        }
      ]
    },
    {
      "cell_type": "code",
      "metadata": {
        "colab": {
          "base_uri": "https://localhost:8080/"
        },
        "id": "VIutIU06q5um",
        "outputId": "82de1144-68b8-41e3-cb4f-61e4d0d0489e"
      },
      "source": [
        "print(anos[1])"
      ],
      "execution_count": 13,
      "outputs": [
        {
          "output_type": "stream",
          "text": [
            "2030\n"
          ],
          "name": "stdout"
        }
      ]
    },
    {
      "cell_type": "code",
      "metadata": {
        "colab": {
          "base_uri": "https://localhost:8080/"
        },
        "id": "ODiVIZLuq9X0",
        "outputId": "62c70c19-e7b8-408f-cec0-da9d052cf2c8"
      },
      "source": [
        "# Inserindo um novo valor a uma lista\r\n",
        "anos.insert(2, 2031)\r\n",
        "print(anos)"
      ],
      "execution_count": 14,
      "outputs": [
        {
          "output_type": "stream",
          "text": [
            "[2020, 2030, 2031, 2040, 2050]\n"
          ],
          "name": "stdout"
        }
      ]
    },
    {
      "cell_type": "code",
      "metadata": {
        "colab": {
          "base_uri": "https://localhost:8080/"
        },
        "id": "66wm9OS_rIhU",
        "outputId": "0a38f9a6-a598-44e2-e9ff-f24822623d99"
      },
      "source": [
        "# Extrair com base no indice\r\n",
        "anos_2020 = anos.pop(0)\r\n",
        "print(anos_2020)"
      ],
      "execution_count": 15,
      "outputs": [
        {
          "output_type": "stream",
          "text": [
            "2020\n"
          ],
          "name": "stdout"
        }
      ]
    },
    {
      "cell_type": "code",
      "metadata": {
        "colab": {
          "base_uri": "https://localhost:8080/"
        },
        "id": "X2yZyft2rWuG",
        "outputId": "1f779ab5-1f5b-43b2-fc77-b92d2350c08a"
      },
      "source": [
        "# Remover itens de uma lista\r\n",
        "anos.append(2050)\r\n",
        "anos.remove(2050)\r\n",
        "print(anos)"
      ],
      "execution_count": 19,
      "outputs": [
        {
          "output_type": "stream",
          "text": [
            "[2030, 2031, 2040]\n"
          ],
          "name": "stdout"
        }
      ]
    },
    {
      "cell_type": "code",
      "metadata": {
        "colab": {
          "base_uri": "https://localhost:8080/"
        },
        "id": "JsQI_4V5rdfJ",
        "outputId": "9f9fbd03-4428-405b-f539-ef2102bbec3e"
      },
      "source": [
        "anos.append(2050)\r\n",
        "del anos[3]\r\n",
        "print(anos)"
      ],
      "execution_count": 21,
      "outputs": [
        {
          "output_type": "stream",
          "text": [
            "[2030, 2031, 2040]\n"
          ],
          "name": "stdout"
        }
      ]
    },
    {
      "cell_type": "code",
      "metadata": {
        "colab": {
          "base_uri": "https://localhost:8080/"
        },
        "id": "CjD96IOSr_pp",
        "outputId": "c6fa8449-762a-4936-ee31-41d08fe16782"
      },
      "source": [
        "# Removendo um itervalo de uma lista\r\n",
        "del valores [1:5]\r\n",
        "print(valores)"
      ],
      "execution_count": 22,
      "outputs": [
        {
          "output_type": "stream",
          "text": [
            "[1, 6, 7, 8, 9, 10, 11, 2020, 2030, 2040, 2050]\n"
          ],
          "name": "stdout"
        }
      ]
    },
    {
      "cell_type": "code",
      "metadata": {
        "colab": {
          "base_uri": "https://localhost:8080/"
        },
        "id": "9R6sbPS_sQ9m",
        "outputId": "9008a7a5-b557-41f8-9bf6-9fcfc85446d8"
      },
      "source": [
        "# Contando uma ocorrencia em uma lista\r\n",
        "valores.count(2020)"
      ],
      "execution_count": 23,
      "outputs": [
        {
          "output_type": "execute_result",
          "data": {
            "text/plain": [
              "1"
            ]
          },
          "metadata": {
            "tags": []
          },
          "execution_count": 23
        }
      ]
    },
    {
      "cell_type": "code",
      "metadata": {
        "colab": {
          "base_uri": "https://localhost:8080/"
        },
        "id": "PkJC51RMsaMT",
        "outputId": "ad9dfa7f-8982-4e96-88bd-cb0a8b3ea267"
      },
      "source": [
        "# Excluindo todos os itens de uma lista\r\n",
        "valores.clear()\r\n",
        "print(valores)"
      ],
      "execution_count": 24,
      "outputs": [
        {
          "output_type": "stream",
          "text": [
            "[]\n"
          ],
          "name": "stdout"
        }
      ]
    },
    {
      "cell_type": "code",
      "metadata": {
        "colab": {
          "base_uri": "https://localhost:8080/"
        },
        "id": "fWjCrdPSshZG",
        "outputId": "34f01b3e-adb1-4a58-f969-0f74fda197fc"
      },
      "source": [
        "valores = [31, 23, 6, 36, 21, 33, 37, 7, 20, 23]\r\n",
        "valores.sort()\r\n",
        "print(valores)"
      ],
      "execution_count": 25,
      "outputs": [
        {
          "output_type": "stream",
          "text": [
            "[6, 7, 20, 21, 23, 23, 31, 33, 36, 37]\n"
          ],
          "name": "stdout"
        }
      ]
    },
    {
      "cell_type": "code",
      "metadata": {
        "colab": {
          "base_uri": "https://localhost:8080/"
        },
        "id": "3FIMW3mctB6h",
        "outputId": "1ac9bbb2-310c-433d-a99e-78af597a3a3e"
      },
      "source": [
        "valores = [31, 23, 6, 36, 21, 33, 37, 7, 20, 23]\r\n",
        "valores.sort(reverse=True)\r\n",
        "print(valores)"
      ],
      "execution_count": 26,
      "outputs": [
        {
          "output_type": "stream",
          "text": [
            "[37, 36, 33, 31, 23, 23, 21, 20, 7, 6]\n"
          ],
          "name": "stdout"
        }
      ]
    },
    {
      "cell_type": "code",
      "metadata": {
        "colab": {
          "base_uri": "https://localhost:8080/"
        },
        "id": "SRjV_4ZltH5P",
        "outputId": "2b9b662d-9f15-4d42-ddd0-3d07f91fa5fc"
      },
      "source": [
        "# Inverter uma lista\r\n",
        "valores = [31, 23, 6, 36, 21, 33, 37, 7, 20, 23]\r\n",
        "valores.reverse()\r\n",
        "print(valores)"
      ],
      "execution_count": 27,
      "outputs": [
        {
          "output_type": "stream",
          "text": [
            "[23, 20, 7, 37, 33, 21, 36, 6, 23, 31]\n"
          ],
          "name": "stdout"
        }
      ]
    },
    {
      "cell_type": "code",
      "metadata": {
        "colab": {
          "base_uri": "https://localhost:8080/"
        },
        "id": "BYm-e-0Ktcad",
        "outputId": "c31262a2-8f03-4a49-85b9-d441e886c4df"
      },
      "source": [
        "a_lista = ['A', 'B', 'C', 'D', 'E']\r\n",
        "b_lista = [1, 2, 3, 4, 5]\r\n",
        "\r\n",
        "for a,b in zip(a_lista, b_lista):\r\n",
        "  print(a)\r\n",
        "  print(b)"
      ],
      "execution_count": 28,
      "outputs": [
        {
          "output_type": "stream",
          "text": [
            "A\n",
            "1\n",
            "B\n",
            "2\n",
            "C\n",
            "3\n",
            "D\n",
            "4\n",
            "E\n",
            "5\n"
          ],
          "name": "stdout"
        }
      ]
    },
    {
      "cell_type": "code",
      "metadata": {
        "colab": {
          "base_uri": "https://localhost:8080/"
        },
        "id": "OCNrcBz1t1mI",
        "outputId": "8156f97e-941d-4f20-e556-aa51fa7dd8ce"
      },
      "source": [
        "produtos = ['Produto1', 'Produto2', 'Produto3', 'Produto4', 'Produto5']\r\n",
        "precos = [250, 150, 220, 550, 50]\r\n",
        "for a, b in zip(produtos, precos):\r\n",
        "  print(f'Salvando produto {a} valor R$ {b}')"
      ],
      "execution_count": 29,
      "outputs": [
        {
          "output_type": "stream",
          "text": [
            "Salvando produto Produto1 valor R$ 250\n",
            "Salvando produto Produto2 valor R$ 150\n",
            "Salvando produto Produto3 valor R$ 220\n",
            "Salvando produto Produto4 valor R$ 550\n",
            "Salvando produto Produto5 valor R$ 50\n"
          ],
          "name": "stdout"
        }
      ]
    },
    {
      "cell_type": "code",
      "metadata": {
        "colab": {
          "base_uri": "https://localhost:8080/"
        },
        "id": "IcmTVhkwuPZW",
        "outputId": "c30e4ef2-3d96-4e16-afd4-184611619230"
      },
      "source": [
        "from itertools import zip_longest\r\n",
        "\r\n",
        "titulos = ['t1', 't2', 't3', 't4']\r\n",
        "descricoes = ['D1', 'D2', 'D3']\r\n",
        "\r\n",
        "for titulo, descricao in zip_longest(titulos, descricoes):\r\n",
        "  print(f'Encontramos o {titulo} descrição: {descricao}')"
      ],
      "execution_count": 33,
      "outputs": [
        {
          "output_type": "stream",
          "text": [
            "Encontramos o t1 descrição: D1\n",
            "Encontramos o t2 descrição: D2\n",
            "Encontramos o t3 descrição: D3\n",
            "Encontramos o t4 descrição: None\n"
          ],
          "name": "stdout"
        }
      ]
    },
    {
      "cell_type": "code",
      "metadata": {
        "colab": {
          "base_uri": "https://localhost:8080/"
        },
        "id": "ssVdoOHXu9_S",
        "outputId": "fdee40e2-aba0-437b-abde-8287267aff35"
      },
      "source": [
        "from itertools import zip_longest\r\n",
        "\r\n",
        "produtos = ['Produto 1', 'Produto 2', 'Produto 3', 'Produto 4', 'Produto 5']\r\n",
        "precos = ['R$500,00', 'R$1500,00', 'R$2700,00', 'R$5000,00']\r\n",
        "\r\n",
        "for produto, preco in zip_longest(produtos, precos):\r\n",
        "  print(f'Produto: {produto} encontrado no valor de {preco}')"
      ],
      "execution_count": 34,
      "outputs": [
        {
          "output_type": "stream",
          "text": [
            "Produto: Produto 1 encontrado no valor de R$500,00\n",
            "Produto: Produto 2 encontrado no valor de R$1500,00\n",
            "Produto: Produto 3 encontrado no valor de R$2700,00\n",
            "Produto: Produto 4 encontrado no valor de R$5000,00\n",
            "Produto: Produto 5 encontrado no valor de None\n"
          ],
          "name": "stdout"
        }
      ]
    }
  ]
}