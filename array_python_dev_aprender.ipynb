{
  "nbformat": 4,
  "nbformat_minor": 0,
  "metadata": {
    "colab": {
      "name": "Untitled34.ipynb",
      "provenance": [],
      "authorship_tag": "ABX9TyPZ1qUh/j6VBcuxyKWIo7Mg",
      "include_colab_link": true
    },
    "kernelspec": {
      "name": "python3",
      "display_name": "Python 3"
    }
  },
  "cells": [
    {
      "cell_type": "markdown",
      "metadata": {
        "id": "view-in-github",
        "colab_type": "text"
      },
      "source": [
        "<a href=\"https://colab.research.google.com/github/alfmorais/google_colaboratory/blob/main/array_python_dev_aprender.ipynb\" target=\"_parent\"><img src=\"https://colab.research.google.com/assets/colab-badge.svg\" alt=\"Open In Colab\"/></a>"
      ]
    },
    {
      "cell_type": "code",
      "metadata": {
        "id": "Is6sDy08kNv7"
      },
      "source": [
        "# ARRAYS - DEV APRENDER\r\n",
        "import pandas as pd\r\n",
        "\r\n",
        "codigo_tipo = [\"b'\", \"B'\", \"u'\", \"h'\", \"H'\", \"i'\", \"I'\", \"l'\", \"L'\", \"q'\", \"Q'\", \"f'\", \"d'\"]\r\n",
        "\r\n",
        "tipo_em_c = ['signed char', 'usigned char', 'Py_UNICODE', 'signed short', 'usigned short',\r\n",
        "             'signed int', 'unsigned int', 'signed long', 'unsigned long', 'signed long long',\r\n",
        "             'unsigned long long', 'float', 'double']\r\n",
        "\r\n",
        "tipo_em_python = ['int', 'int', 'caracter unicode', 'int', 'int', 'int', 'int',\r\n",
        "                   'int', 'int', 'int', 'int', 'float', 'float']\r\n",
        "\r\n",
        "tamanhos_min_em_bytes = [1, 1, 2, 2, 2, 2, 2, 4, 4, 8, 8, 4, 8]\r\n",
        "\r\n",
        "notas = [' ', ' ', -1, ' ', ' ', ' ', ' ', ' ', ' ', ' ', ' ', ' ', ' ']"
      ],
      "execution_count": 3,
      "outputs": []
    },
    {
      "cell_type": "code",
      "metadata": {
        "colab": {
          "base_uri": "https://localhost:8080/",
          "height": 486
        },
        "id": "LUT7hBrdmXyw",
        "outputId": "09d0ba1b-62ec-4b9f-a46e-23dd7740e323"
      },
      "source": [
        "tabela_aula8 = pd.DataFrame({\r\n",
        "    'Código de Tipo': codigo_tipo,\r\n",
        "    'Tipo em C': tipo_em_c,\r\n",
        "    'Tipo em Python': tipo_em_python,\r\n",
        "    'Tamanho Minimo em Bytes': tamanhos_min_em_bytes,\r\n",
        "    'Notas': notas,\r\n",
        "})\r\n",
        "tabela_aula8"
      ],
      "execution_count": 6,
      "outputs": [
        {
          "output_type": "execute_result",
          "data": {
            "text/html": [
              "<div>\n",
              "<style scoped>\n",
              "    .dataframe tbody tr th:only-of-type {\n",
              "        vertical-align: middle;\n",
              "    }\n",
              "\n",
              "    .dataframe tbody tr th {\n",
              "        vertical-align: top;\n",
              "    }\n",
              "\n",
              "    .dataframe thead th {\n",
              "        text-align: right;\n",
              "    }\n",
              "</style>\n",
              "<table border=\"1\" class=\"dataframe\">\n",
              "  <thead>\n",
              "    <tr style=\"text-align: right;\">\n",
              "      <th></th>\n",
              "      <th>Código de Tipo</th>\n",
              "      <th>Tipo em C</th>\n",
              "      <th>Tipo em Python</th>\n",
              "      <th>Tamanho Minimo em Bytes</th>\n",
              "      <th>Notas</th>\n",
              "    </tr>\n",
              "  </thead>\n",
              "  <tbody>\n",
              "    <tr>\n",
              "      <th>0</th>\n",
              "      <td>b'</td>\n",
              "      <td>signed char</td>\n",
              "      <td>int</td>\n",
              "      <td>1</td>\n",
              "      <td></td>\n",
              "    </tr>\n",
              "    <tr>\n",
              "      <th>1</th>\n",
              "      <td>B'</td>\n",
              "      <td>usigned char</td>\n",
              "      <td>int</td>\n",
              "      <td>1</td>\n",
              "      <td></td>\n",
              "    </tr>\n",
              "    <tr>\n",
              "      <th>2</th>\n",
              "      <td>u'</td>\n",
              "      <td>Py_UNICODE</td>\n",
              "      <td>caracter unicode</td>\n",
              "      <td>2</td>\n",
              "      <td>-1</td>\n",
              "    </tr>\n",
              "    <tr>\n",
              "      <th>3</th>\n",
              "      <td>h'</td>\n",
              "      <td>signed short</td>\n",
              "      <td>int</td>\n",
              "      <td>2</td>\n",
              "      <td></td>\n",
              "    </tr>\n",
              "    <tr>\n",
              "      <th>4</th>\n",
              "      <td>H'</td>\n",
              "      <td>usigned short</td>\n",
              "      <td>int</td>\n",
              "      <td>2</td>\n",
              "      <td></td>\n",
              "    </tr>\n",
              "    <tr>\n",
              "      <th>5</th>\n",
              "      <td>i'</td>\n",
              "      <td>signed int</td>\n",
              "      <td>int</td>\n",
              "      <td>2</td>\n",
              "      <td></td>\n",
              "    </tr>\n",
              "    <tr>\n",
              "      <th>6</th>\n",
              "      <td>I'</td>\n",
              "      <td>unsigned int</td>\n",
              "      <td>int</td>\n",
              "      <td>2</td>\n",
              "      <td></td>\n",
              "    </tr>\n",
              "    <tr>\n",
              "      <th>7</th>\n",
              "      <td>l'</td>\n",
              "      <td>signed long</td>\n",
              "      <td>int</td>\n",
              "      <td>4</td>\n",
              "      <td></td>\n",
              "    </tr>\n",
              "    <tr>\n",
              "      <th>8</th>\n",
              "      <td>L'</td>\n",
              "      <td>unsigned long</td>\n",
              "      <td>int</td>\n",
              "      <td>4</td>\n",
              "      <td></td>\n",
              "    </tr>\n",
              "    <tr>\n",
              "      <th>9</th>\n",
              "      <td>q'</td>\n",
              "      <td>signed long long</td>\n",
              "      <td>int</td>\n",
              "      <td>8</td>\n",
              "      <td></td>\n",
              "    </tr>\n",
              "    <tr>\n",
              "      <th>10</th>\n",
              "      <td>Q'</td>\n",
              "      <td>unsigned long long</td>\n",
              "      <td>int</td>\n",
              "      <td>8</td>\n",
              "      <td></td>\n",
              "    </tr>\n",
              "    <tr>\n",
              "      <th>11</th>\n",
              "      <td>f'</td>\n",
              "      <td>float</td>\n",
              "      <td>float</td>\n",
              "      <td>4</td>\n",
              "      <td></td>\n",
              "    </tr>\n",
              "    <tr>\n",
              "      <th>12</th>\n",
              "      <td>d'</td>\n",
              "      <td>double</td>\n",
              "      <td>float</td>\n",
              "      <td>8</td>\n",
              "      <td></td>\n",
              "    </tr>\n",
              "  </tbody>\n",
              "</table>\n",
              "</div>"
            ],
            "text/plain": [
              "   Código de Tipo           Tipo em C  ... Tamanho Minimo em Bytes  Notas\n",
              "0              b'         signed char  ...                       1       \n",
              "1              B'        usigned char  ...                       1       \n",
              "2              u'          Py_UNICODE  ...                       2     -1\n",
              "3              h'        signed short  ...                       2       \n",
              "4              H'       usigned short  ...                       2       \n",
              "5              i'          signed int  ...                       2       \n",
              "6              I'        unsigned int  ...                       2       \n",
              "7              l'         signed long  ...                       4       \n",
              "8              L'       unsigned long  ...                       4       \n",
              "9              q'    signed long long  ...                       8       \n",
              "10             Q'  unsigned long long  ...                       8       \n",
              "11             f'               float  ...                       4       \n",
              "12             d'              double  ...                       8       \n",
              "\n",
              "[13 rows x 5 columns]"
            ]
          },
          "metadata": {
            "tags": []
          },
          "execution_count": 6
        }
      ]
    },
    {
      "cell_type": "code",
      "metadata": {
        "id": "SkgApvDMnBrD"
      },
      "source": [
        "from array import array\r\n",
        "\r\n",
        "'''Armazena coleção de items apenas do mesmo tipo'''\r\n",
        "\r\n",
        "numeros = array('i', [1, 2, 3, 4, 5, 6])"
      ],
      "execution_count": 10,
      "outputs": []
    },
    {
      "cell_type": "code",
      "metadata": {
        "colab": {
          "base_uri": "https://localhost:8080/"
        },
        "id": "RqU7hHRYrHIn",
        "outputId": "f29d53c0-f6ad-4f88-e4a1-1f6c8bd6ffe9"
      },
      "source": [
        "print(numeros)\r\n",
        "\r\n",
        "# Adicionando um elemento\r\n",
        "numeros.append(10)\r\n",
        "print(numeros)\r\n",
        "\r\n",
        "# Inserindo um item em um determinado indice\r\n",
        "numeros.insert(5, 200)\r\n",
        "print(numeros)\r\n",
        "\r\n",
        "# remove um item no indice especificado\r\n",
        "numeros.pop(1)\r\n",
        "print(numeros)\r\n",
        "\r\n",
        "# remove permanente um elemento especificado\r\n",
        "numeros.remove(5)\r\n",
        "print(numeros)\r\n",
        "\r\n",
        "# deleta o indice especificado\r\n",
        "del numeros[1]\r\n",
        "print(numeros)"
      ],
      "execution_count": 11,
      "outputs": [
        {
          "output_type": "stream",
          "text": [
            "array('i', [1, 2, 3, 4, 5, 6])\n",
            "array('i', [1, 2, 3, 4, 5, 6, 10])\n",
            "array('i', [1, 2, 3, 4, 5, 200, 6, 10])\n",
            "array('i', [1, 3, 4, 5, 200, 6, 10])\n",
            "array('i', [1, 3, 4, 200, 6, 10])\n",
            "array('i', [1, 4, 200, 6, 10])\n"
          ],
          "name": "stdout"
        }
      ]
    }
  ]
}