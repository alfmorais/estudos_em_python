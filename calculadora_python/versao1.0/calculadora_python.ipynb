{
  "nbformat": 4,
  "nbformat_minor": 0,
  "metadata": {
    "colab": {
      "name": "Untitled51.ipynb",
      "provenance": [],
      "authorship_tag": "ABX9TyOiYFGLyRpPAazXW24q50S8",
      "include_colab_link": true
    },
    "kernelspec": {
      "name": "python3",
      "display_name": "Python 3"
    }
  },
  "cells": [
    {
      "cell_type": "markdown",
      "metadata": {
        "id": "view-in-github",
        "colab_type": "text"
      },
      "source": [
        "<a href=\"https://colab.research.google.com/github/alfmorais/estudos_em_python/blob/main/calculadora_python.ipynb\" target=\"_parent\"><img src=\"https://colab.research.google.com/assets/colab-badge.svg\" alt=\"Open In Colab\"/></a>"
      ]
    },
    {
      "cell_type": "markdown",
      "metadata": {
        "id": "Du8Y3l_6KZDY"
      },
      "source": [
        "# Desenvolvimento de um aplicativo calculadora em Python\r\n",
        "\r\n",
        "---\r\n",
        "\r\n"
      ]
    },
    {
      "cell_type": "code",
      "metadata": {
        "id": "IC2EudGeLCZl"
      },
      "source": [
        "# Fornecendo uma variavel\r\n",
        "\r\n",
        "def variavel_1():\r\n",
        "  '''Função que tem como objetivo chamar a função input.'''\r\n",
        "\r\n",
        "  variavel_1 = float(input('Digite o primeiro número: '))\r\n",
        "  return round(variavel_1, 2)\r\n",
        "\r\n",
        "def variavel_2():\r\n",
        "  '''Função que tem como objetivo chamar a função input.'''\r\n",
        "\r\n",
        "  variavel_2 = float(input('Digite o segundo número: '))\r\n",
        "  return round(variavel_2, 2)"
      ],
      "execution_count": 1,
      "outputs": []
    },
    {
      "cell_type": "code",
      "metadata": {
        "id": "nHz6cTzTNjdJ"
      },
      "source": [
        "def soma():\r\n",
        "  '''Função que faz a soma de dois numeros.'''\r\n",
        "\r\n",
        "  numero_1 = variavel_1()\r\n",
        "  numero_2 = variavel_2()\r\n",
        "  total = round((numero_1 + numero_2), 2)\r\n",
        "\r\n",
        "  print(f'{numero_1} + {numero_2} = {total}')"
      ],
      "execution_count": 2,
      "outputs": []
    },
    {
      "cell_type": "code",
      "metadata": {
        "id": "jC6CojbHOPvg"
      },
      "source": [
        "def subtracao():\r\n",
        "  '''Função que faz a subtração de dois numeros.'''\r\n",
        "\r\n",
        "  numero_1 = variavel_1()\r\n",
        "  numero_2 = variavel_2()\r\n",
        "  total = round((numero_1 - numero_2), 2)\r\n",
        "\r\n",
        "  print(f'{numero_1} - {numero_2} = {total}')"
      ],
      "execution_count": 3,
      "outputs": []
    },
    {
      "cell_type": "code",
      "metadata": {
        "id": "8Jd92DKaQAUv"
      },
      "source": [
        "def multiplicacao():\r\n",
        "  '''Função que faz a multiplicação de dois numeros.'''\r\n",
        "\r\n",
        "  numero_1 = variavel_1()\r\n",
        "  numero_2 = variavel_2()\r\n",
        "  total = round((numero_1 * numero_2), 2)\r\n",
        "\r\n",
        "  print(f'{numero_1} * {numero_2} = {total}')"
      ],
      "execution_count": 4,
      "outputs": []
    },
    {
      "cell_type": "code",
      "metadata": {
        "id": "TRe_SQ2nQiq_"
      },
      "source": [
        "def divisao():\r\n",
        "  '''Função que faz a divisão de dois numeros.'''\r\n",
        "\r\n",
        "  numero_1 = variavel_1()\r\n",
        "  numero_2 = variavel_2()\r\n",
        "  \r\n",
        "  try:\r\n",
        "    total = round((numero_1 / numero_2), 2)\r\n",
        "    print(f'{numero_1} / {numero_2} = {total}')\r\n",
        "\r\n",
        "  except ZeroDivisionError:\r\n",
        "    print('Não é possivél dividir por zero!')\r\n"
      ],
      "execution_count": 13,
      "outputs": []
    },
    {
      "cell_type": "code",
      "metadata": {
        "colab": {
          "base_uri": "https://localhost:8080/"
        },
        "id": "Y5k8mjhjRWz9",
        "outputId": "f6ffc862-9b16-4573-d110-bc423c3e76d4"
      },
      "source": [
        "# Estrutura do Programa\r\n",
        "\r\n",
        "decisao = input('''\r\n",
        "Bem-vindo a Calculadora Python\r\n",
        "Digite a operação que deseja fazer: \r\n",
        "\r\n",
        "1 = SOMA\r\n",
        "2 = SUBTRAÇÃO\r\n",
        "3 = MULTIPLICAÇÃO\r\n",
        "4 = DIVISÃO\r\n",
        "\r\n",
        "''')\r\n",
        "\r\n",
        "if decisao == '1':\r\n",
        "  soma()\r\n",
        "\r\n",
        "elif decisao == '2':\r\n",
        "  subtracao()\r\n",
        "\r\n",
        "elif decisao == '3':\r\n",
        "  multiplicacao()\r\n",
        "\r\n",
        "elif decisao == '4':\r\n",
        "  divisao()\r\n",
        "\r\n",
        "else:\r\n",
        "  print('Fim do Programa!')\r\n"
      ],
      "execution_count": 19,
      "outputs": [
        {
          "output_type": "stream",
          "text": [
            "\n",
            "Bem-vindo a Calculadora Python\n",
            "Digite a operação que deseja fazer: \n",
            "\n",
            "1 = SOMA\n",
            "2 = SUBTRAÇÃO\n",
            "3 = MULTIPLICAÇÃO\n",
            "4 = DIVISÃO\n",
            "\n",
            "1\n",
            "Digite o primeiro número: 45\n",
            "Digite o segundo número: 85\n",
            "45.0 + 85.0 = 130.0\n"
          ],
          "name": "stdout"
        }
      ]
    }
  ]
}
