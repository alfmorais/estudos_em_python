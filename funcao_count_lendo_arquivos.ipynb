{
  "nbformat": 4,
  "nbformat_minor": 0,
  "metadata": {
    "colab": {
      "name": "Untitled50.ipynb",
      "provenance": [],
      "authorship_tag": "ABX9TyMLZpOqLd8t+l1tEexRKVrf",
      "include_colab_link": true
    },
    "kernelspec": {
      "name": "python3",
      "display_name": "Python 3"
    }
  },
  "cells": [
    {
      "cell_type": "markdown",
      "metadata": {
        "id": "view-in-github",
        "colab_type": "text"
      },
      "source": [
        "<a href=\"https://colab.research.google.com/github/alfmorais/estudos_em_python/blob/main/funcao_count_lendo_arquivos.ipynb\" target=\"_parent\"><img src=\"https://colab.research.google.com/assets/colab-badge.svg\" alt=\"Open In Colab\"/></a>"
      ]
    },
    {
      "cell_type": "code",
      "metadata": {
        "colab": {
          "base_uri": "https://localhost:8080/"
        },
        "id": "KDO6ZNFvASYj",
        "outputId": "b055bca9-378d-4272-d4d0-e0d22c768253"
      },
      "source": [
        "filename = 'alice.txt'\r\n",
        "\r\n",
        "try:\r\n",
        "  with open(filename) as f_obj:\r\n",
        "    contents = f_obj.read()\r\n",
        "except FileNotFoundError:\r\n",
        "  msg = 'Sorry, the file ' + filename + ' does not exist.'\r\n",
        "  print(msg)\r\n",
        "else:\r\n",
        "  # Conta o número aproximado de palavras do arquivo\r\n",
        "  words = contents.split()\r\n",
        "  num_words = len(words)\r\n",
        "  print('The file ' + filename + ' has about ' + str(num_words) + ' words.')"
      ],
      "execution_count": 4,
      "outputs": [
        {
          "output_type": "stream",
          "text": [
            "Sorry, the file alice.txt does not exist.\n"
          ],
          "name": "stdout"
        }
      ]
    },
    {
      "cell_type": "code",
      "metadata": {
        "colab": {
          "base_uri": "https://localhost:8080/"
        },
        "id": "PyBf8eRD493F",
        "outputId": "a744b9eb-d93a-48ef-d6b4-e3987d9a18d5"
      },
      "source": [
        "title = 'Alice in Wonderland'\r\n",
        "title.split()"
      ],
      "execution_count": 3,
      "outputs": [
        {
          "output_type": "execute_result",
          "data": {
            "text/plain": [
              "['Alice', 'in', 'Wonderland']"
            ]
          },
          "metadata": {
            "tags": []
          },
          "execution_count": 3
        }
      ]
    },
    {
      "cell_type": "code",
      "metadata": {
        "colab": {
          "base_uri": "https://localhost:8080/"
        },
        "id": "RmHgoZNq5pxR",
        "outputId": "0e83e670-b0ab-4c29-f96a-c3e201be4135"
      },
      "source": [
        "# Função\r\n",
        "\r\n",
        "def count_words(filename):\r\n",
        "  try:\r\n",
        "    with open(filename) as f_obj:\r\n",
        "      contents = f_obj.read()\r\n",
        "  \r\n",
        "  except FileNotFoundError:\r\n",
        "    msg = 'Sorry, the file ' + filename + 'does not exist.'\r\n",
        "    print(msg)\r\n",
        "  \r\n",
        "  else:\r\n",
        "    words = contents.split()\r\n",
        "    num_words = len(words)\r\n",
        "    print('The file ' + filename + ' has about ' + str(num_words) + ' words.')\r\n",
        "\r\n",
        "arquivo_1 = '/content/pg1249.txt'\r\n",
        "arquivo_2 = '/content/pg35688.txt'\r\n",
        "arquivo_3 = '/content/pg46409.txt'\r\n",
        "\r\n",
        "filenames = [arquivo_1, arquivo_2, arquivo_3]\r\n",
        "\r\n",
        "for filename in filenames:\r\n",
        "  count_words(filename)"
      ],
      "execution_count": 6,
      "outputs": [
        {
          "output_type": "stream",
          "text": [
            "The file /content/pg1249.txt has about 23383 words.\n",
            "The file /content/pg35688.txt has about 17842 words.\n",
            "The file /content/pg46409.txt has about 69753 words.\n"
          ],
          "name": "stdout"
        }
      ]
    }
  ]
}