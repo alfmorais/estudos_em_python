{
  "nbformat": 4,
  "nbformat_minor": 0,
  "metadata": {
    "colab": {
      "name": "Untitled101.ipynb",
      "provenance": [],
      "authorship_tag": "ABX9TyNpSdFUg4wmAarj3JNIAfPT",
      "include_colab_link": true
    },
    "kernelspec": {
      "name": "python3",
      "display_name": "Python 3"
    },
    "language_info": {
      "name": "python"
    }
  },
  "cells": [
    {
      "cell_type": "markdown",
      "metadata": {
        "id": "view-in-github",
        "colab_type": "text"
      },
      "source": [
        "<a href=\"https://colab.research.google.com/github/alfmorais/estudos_em_python/blob/main/curso_python_3/secao_2/aula_45.ipynb\" target=\"_parent\"><img src=\"https://colab.research.google.com/assets/colab-badge.svg\" alt=\"Open In Colab\"/></a>"
      ]
    },
    {
      "cell_type": "markdown",
      "metadata": {
        "id": "RxuCUL7gUTDu"
      },
      "source": [
        "# Aula 45\n",
        "## Desafios de Contadores"
      ]
    },
    {
      "cell_type": "code",
      "metadata": {
        "id": "TtilVwprURRC"
      },
      "source": [
        "\"\"\"\n",
        "for / while\n",
        "0 10\n",
        "1 9\n",
        "2 8\n",
        "3 7\n",
        "4 6\n",
        "5 5\n",
        "6 4\n",
        "7 3\n",
        "8 2\n",
        "\"\"\""
      ],
      "execution_count": null,
      "outputs": []
    },
    {
      "cell_type": "code",
      "metadata": {
        "colab": {
          "base_uri": "https://localhost:8080/"
        },
        "id": "rqU6RackU0lV",
        "outputId": "350e3615-0df1-4fc0-bd9a-179c6e9600c7"
      },
      "source": [
        "contador_positivo = 0\n",
        "contador_negativo = 10\n",
        "\n",
        "while contador_positivo != 9 and contador_negativo != 1:\n",
        "  print(f'{contador_positivo} {contador_negativo}')\n",
        "  contador_positivo += 1\n",
        "  contador_negativo -= 1"
      ],
      "execution_count": 3,
      "outputs": [
        {
          "output_type": "stream",
          "text": [
            "0 10\n",
            "1 9\n",
            "2 8\n",
            "3 7\n",
            "4 6\n",
            "5 5\n",
            "6 4\n",
            "7 3\n",
            "8 2\n"
          ],
          "name": "stdout"
        }
      ]
    },
    {
      "cell_type": "code",
      "metadata": {
        "colab": {
          "base_uri": "https://localhost:8080/"
        },
        "id": "53dDXZCUWbB7",
        "outputId": "bf5bb21a-906e-4f87-fbf5-7aeac791868b"
      },
      "source": [
        "# Resultado do Professor\n",
        "for p, r in enumerate(range(10, 1, -1)):\n",
        "  print(p, r)"
      ],
      "execution_count": 4,
      "outputs": [
        {
          "output_type": "stream",
          "text": [
            "0 10\n",
            "1 9\n",
            "2 8\n",
            "3 7\n",
            "4 6\n",
            "5 5\n",
            "6 4\n",
            "7 3\n",
            "8 2\n"
          ],
          "name": "stdout"
        }
      ]
    }
  ]
}