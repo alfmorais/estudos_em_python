{
  "nbformat": 4,
  "nbformat_minor": 0,
  "metadata": {
    "colab": {
      "name": "Untitled89.ipynb",
      "provenance": [],
      "authorship_tag": "ABX9TyMy1lO3vJEzZGWSuJAhYHKj",
      "include_colab_link": true
    },
    "kernelspec": {
      "name": "python3",
      "display_name": "Python 3"
    },
    "language_info": {
      "name": "python"
    }
  },
  "cells": [
    {
      "cell_type": "markdown",
      "metadata": {
        "id": "view-in-github",
        "colab_type": "text"
      },
      "source": [
        "<a href=\"https://colab.research.google.com/github/alfmorais/estudos_em_python/blob/main/curso_python_3/secao_2/aula_11.ipynb\" target=\"_parent\"><img src=\"https://colab.research.google.com/assets/colab-badge.svg\" alt=\"Open In Colab\"/></a>"
      ]
    },
    {
      "cell_type": "markdown",
      "metadata": {
        "id": "fmbHccURJmTC"
      },
      "source": [
        "# Seção 2 - Aula 11\n",
        "\n",
        "## Comentários de Código Python"
      ]
    },
    {
      "cell_type": "code",
      "metadata": {
        "id": "xE0bFzs6Ai66"
      },
      "source": [
        "print('Linha 1')\n",
        "\n",
        "print('Linha 2')\n",
        "\n",
        "# Falando sobre do que se trata essa linha\n",
        "print('Linha 3')\n",
        "\n",
        "print('Linha 4')  # Comentário na frente do código\n",
        "\n",
        "print('Linha 5')\n",
        "\n",
        "print('Linha 6')\n",
        "\n",
        "# Final do código"
      ],
      "execution_count": null,
      "outputs": []
    },
    {
      "cell_type": "code",
      "metadata": {
        "id": "oNz0eKuJLLYB"
      },
      "source": [
        "\"\"\"\n",
        "DOC STRING\n",
        "\"\"\"\n",
        "\n",
        "'''\n",
        "Algum comentário\n",
        "'''\n",
        "\n",
        "# Explicando\n",
        "print(123456)"
      ],
      "execution_count": null,
      "outputs": []
    }
  ]
}