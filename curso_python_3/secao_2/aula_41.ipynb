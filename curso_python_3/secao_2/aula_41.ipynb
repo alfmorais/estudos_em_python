{
  "nbformat": 4,
  "nbformat_minor": 0,
  "metadata": {
    "colab": {
      "name": "Untitled97.ipynb",
      "provenance": [],
      "authorship_tag": "ABX9TyMEx6jx4BoiumozYFC/vTKF",
      "include_colab_link": true
    },
    "kernelspec": {
      "name": "python3",
      "display_name": "Python 3"
    },
    "language_info": {
      "name": "python"
    }
  },
  "cells": [
    {
      "cell_type": "markdown",
      "metadata": {
        "id": "view-in-github",
        "colab_type": "text"
      },
      "source": [
        "<a href=\"https://colab.research.google.com/github/alfmorais/estudos_em_python/blob/main/curso_python_3/secao_2/aula_41.ipynb\" target=\"_parent\"><img src=\"https://colab.research.google.com/assets/colab-badge.svg\" alt=\"Open In Colab\"/></a>"
      ]
    },
    {
      "cell_type": "markdown",
      "metadata": {
        "id": "V__T5EWvFtpe"
      },
      "source": [
        "# Desempacotamento de Lista em Python"
      ]
    },
    {
      "cell_type": "code",
      "metadata": {
        "colab": {
          "base_uri": "https://localhost:8080/"
        },
        "id": "Ham8Y7-tFhK5",
        "outputId": "526abf2e-c05a-4566-c5e0-5b6b09819a49"
      },
      "source": [
        "lista = ['Luiz', 'João', 'Mara']\n",
        "\n",
        "n1, n2, n3 = lista\n",
        "print(n1)\n",
        "print(n2)\n",
        "print(n3)"
      ],
      "execution_count": 1,
      "outputs": [
        {
          "output_type": "stream",
          "text": [
            "Luiz\n",
            "João\n",
            "Mara\n"
          ],
          "name": "stdout"
        }
      ]
    },
    {
      "cell_type": "code",
      "metadata": {
        "colab": {
          "base_uri": "https://localhost:8080/"
        },
        "id": "yHlZOkf9GBYb",
        "outputId": "003d99e5-2922-48bb-8be9-8c00f4eea3b6"
      },
      "source": [
        "lista = ['Luiz', 'João', 'Mara', 1, 2, 3, 4, 5, 6, 7]\n",
        "\n",
        "n1, n2, n3, *outra_lista, ultimo_da_lista = lista\n",
        "print(n1)\n",
        "print(n2)\n",
        "print(n3)\n",
        "print(outra_lista)\n",
        "print(ultimo_da_lista)\n"
      ],
      "execution_count": 4,
      "outputs": [
        {
          "output_type": "stream",
          "text": [
            "Luiz\n",
            "João\n",
            "Mara\n",
            "[1, 2, 3, 4, 5, 6]\n",
            "7\n"
          ],
          "name": "stdout"
        }
      ]
    }
  ]
}