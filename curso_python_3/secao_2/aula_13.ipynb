{
  "nbformat": 4,
  "nbformat_minor": 0,
  "metadata": {
    "colab": {
      "name": "Untitled91.ipynb",
      "provenance": [],
      "authorship_tag": "ABX9TyPKXWx6MxyE2MJj1lxR979A",
      "include_colab_link": true
    },
    "kernelspec": {
      "name": "python3",
      "display_name": "Python 3"
    },
    "language_info": {
      "name": "python"
    }
  },
  "cells": [
    {
      "cell_type": "markdown",
      "metadata": {
        "id": "view-in-github",
        "colab_type": "text"
      },
      "source": [
        "<a href=\"https://colab.research.google.com/github/alfmorais/estudos_em_python/blob/main/curso_python_3/secao_2/aula_13.ipynb\" target=\"_parent\"><img src=\"https://colab.research.google.com/assets/colab-badge.svg\" alt=\"Open In Colab\"/></a>"
      ]
    },
    {
      "cell_type": "markdown",
      "metadata": {
        "id": "gzVC-yN0X1Wz"
      },
      "source": [
        "# Seção 2 - Aula 13\n",
        "\n",
        "## Strings (texto) e aspas em Python\n",
        "\n",
        "Tipo de dado primitivo em Python"
      ]
    },
    {
      "cell_type": "code",
      "metadata": {
        "colab": {
          "base_uri": "https://localhost:8080/"
        },
        "id": "uEFGYTM9Xzbf",
        "outputId": "5c0aff42-2457-40df-abac-afb33e8f2229"
      },
      "source": [
        "var = 12345\n",
        "var = str(var)\n",
        "\n",
        "print(type(var))"
      ],
      "execution_count": 2,
      "outputs": [
        {
          "output_type": "stream",
          "text": [
            "<class 'str'>\n"
          ],
          "name": "stdout"
        }
      ]
    },
    {
      "cell_type": "code",
      "metadata": {
        "colab": {
          "base_uri": "https://localhost:8080/"
        },
        "id": "xZ7jIZYvf8wo",
        "outputId": "b95d6f14-9a47-4184-ca4a-201f57eddea9"
      },
      "source": [
        "print('string com aspa simples')\n",
        "print(\"string com aspa dupla\")\n",
        "print('''string com aspa simples tripla''')\n",
        "print(\"\"\"string com aspa dupla tripla\"\"\")"
      ],
      "execution_count": 4,
      "outputs": [
        {
          "output_type": "stream",
          "text": [
            "string com aspa simples\n",
            "string com aspa dupla\n",
            "string com aspa simples tripla\n",
            "string com aspa dupla tripla\n"
          ],
          "name": "stdout"
        }
      ]
    },
    {
      "cell_type": "code",
      "metadata": {
        "colab": {
          "base_uri": "https://localhost:8080/"
        },
        "id": "XUlzxZ-sgtXs",
        "outputId": "9d3a1c43-347e-4b05-d8bd-1fb398b0d0a1"
      },
      "source": [
        "# Caracter de Escape\n",
        "print('Esse é meu \\'texto\\' (str)')"
      ],
      "execution_count": 5,
      "outputs": [
        {
          "output_type": "stream",
          "text": [
            "Esse é meu 'texto' (str)\n"
          ],
          "name": "stdout"
        }
      ]
    },
    {
      "cell_type": "code",
      "metadata": {
        "colab": {
          "base_uri": "https://localhost:8080/"
        },
        "id": "LY3vGKqwg_Dz",
        "outputId": "092968d7-b094-4976-94bb-ee01da2109cb"
      },
      "source": [
        "# Caracter de r\n",
        "print(r'Esse é meu \\n texto')"
      ],
      "execution_count": 6,
      "outputs": [
        {
          "output_type": "stream",
          "text": [
            "Esse é meu \\n texto\n"
          ],
          "name": "stdout"
        }
      ]
    }
  ]
}