{
  "nbformat": 4,
  "nbformat_minor": 0,
  "metadata": {
    "colab": {
      "name": "Untitled98.ipynb",
      "provenance": [],
      "authorship_tag": "ABX9TyMY1AzmVrTKWfp5w3dmSY/y",
      "include_colab_link": true
    },
    "kernelspec": {
      "name": "python3",
      "display_name": "Python 3"
    },
    "language_info": {
      "name": "python"
    }
  },
  "cells": [
    {
      "cell_type": "markdown",
      "metadata": {
        "id": "view-in-github",
        "colab_type": "text"
      },
      "source": [
        "<a href=\"https://colab.research.google.com/github/alfmorais/estudos_em_python/blob/main/curso_python_3/secao_2/aula_42.ipynb\" target=\"_parent\"><img src=\"https://colab.research.google.com/assets/colab-badge.svg\" alt=\"Open In Colab\"/></a>"
      ]
    },
    {
      "cell_type": "code",
      "metadata": {
        "colab": {
          "base_uri": "https://localhost:8080/"
        },
        "id": "DTwjOH2_HI8G",
        "outputId": "bd410c81-de7c-4f62-b9f5-3fa7b9d08ea7"
      },
      "source": [
        "x = 10\n",
        "y = 'Alfredo'\n",
        "print(f'Esse é o valor de x: {x} e esse é o valor de y: {y}')\n",
        "\n",
        "# Inverter os valores\n",
        "z = x\n",
        "x = y\n",
        "y = z\n",
        "print(f'Esse é o valor de x: {x} e esse é o valor de y: {y}')"
      ],
      "execution_count": 1,
      "outputs": [
        {
          "output_type": "stream",
          "text": [
            "Esse é o valor de x: 10 e esse é o valor de y: Alfredo\n",
            "Esse é o valor de x: Alfredo e esse é o valor de y: 10\n"
          ],
          "name": "stdout"
        }
      ]
    },
    {
      "cell_type": "code",
      "metadata": {
        "colab": {
          "base_uri": "https://localhost:8080/"
        },
        "id": "VnUOtjSZHs--",
        "outputId": "395e6f73-a146-4cb1-96c9-cf3ca8d20670"
      },
      "source": [
        "x = 10\n",
        "y = 'Alfredo'\n",
        "print(f'Esse é o valor de x: {x} e esse é o valor de y: {y}')\n",
        "\n",
        "# Inverter os valores das variaveis\n",
        "x, y = y, x\n",
        "print(f'Esse é o valor de x: {x} e esse é o valor de y: {y}')"
      ],
      "execution_count": 2,
      "outputs": [
        {
          "output_type": "stream",
          "text": [
            "Esse é o valor de x: 10 e esse é o valor de y: Alfredo\n",
            "Esse é o valor de x: Alfredo e esse é o valor de y: 10\n"
          ],
          "name": "stdout"
        }
      ]
    }
  ]
}