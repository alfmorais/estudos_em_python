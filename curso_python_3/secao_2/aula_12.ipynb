{
  "nbformat": 4,
  "nbformat_minor": 0,
  "metadata": {
    "colab": {
      "name": "Untitled90.ipynb",
      "provenance": [],
      "authorship_tag": "ABX9TyMkbthtqbw09JlceHQ89cyH",
      "include_colab_link": true
    },
    "kernelspec": {
      "name": "python3",
      "display_name": "Python 3"
    },
    "language_info": {
      "name": "python"
    }
  },
  "cells": [
    {
      "cell_type": "markdown",
      "metadata": {
        "id": "view-in-github",
        "colab_type": "text"
      },
      "source": [
        "<a href=\"https://colab.research.google.com/github/alfmorais/estudos_em_python/blob/main/curso_python_3/secao_2/aula_12.ipynb\" target=\"_parent\"><img src=\"https://colab.research.google.com/assets/colab-badge.svg\" alt=\"Open In Colab\"/></a>"
      ]
    },
    {
      "cell_type": "markdown",
      "metadata": {
        "id": "FCzJpAiKTJl_"
      },
      "source": [
        "# Seção 2 - Aula 12\n",
        "\n",
        "## Comando Print"
      ]
    },
    {
      "cell_type": "code",
      "metadata": {
        "id": "5L_04az-Nsxk"
      },
      "source": [
        "\"\"\"\n",
        "Algum Texto\n",
        "\"\"\"\n",
        "\n",
        "'''\n",
        "Um comentário\n",
        "'''\n",
        "\n",
        "print('Meu nome é Alfredo')\n",
        "\n",
        "# Explicando...\n",
        "print(123456)\n",
        "\n",
        "print('Python é legal')  # Outro comentário"
      ],
      "execution_count": null,
      "outputs": []
    },
    {
      "cell_type": "markdown",
      "metadata": {
        "id": "arQ6as-KT4sx"
      },
      "source": [
        "sintaxe em python:\n",
        "\n",
        "- Funções\n",
        "- Classes\n",
        "\n",
        "Exemplo: print()"
      ]
    },
    {
      "cell_type": "code",
      "metadata": {
        "colab": {
          "base_uri": "https://localhost:8080/"
        },
        "id": "SgzENQKiTqur",
        "outputId": "cd1cfb94-231b-4813-dc98-025c96d2cc9a"
      },
      "source": [
        "print('Alfredo', 'de', 'Morais')"
      ],
      "execution_count": 1,
      "outputs": [
        {
          "output_type": "stream",
          "text": [
            "Alfredo de Morais\n"
          ],
          "name": "stdout"
        }
      ]
    },
    {
      "cell_type": "code",
      "metadata": {
        "colab": {
          "base_uri": "https://localhost:8080/"
        },
        "id": "ko1nSFUuUU8i",
        "outputId": "42cdf38c-750a-4d13-d19f-2a5c26542f34"
      },
      "source": [
        "print('Alfredo', 'de', 'Morais', sep='-')"
      ],
      "execution_count": 2,
      "outputs": [
        {
          "output_type": "stream",
          "text": [
            "Alfredo-de-Morais\n"
          ],
          "name": "stdout"
        }
      ]
    },
    {
      "cell_type": "code",
      "metadata": {
        "colab": {
          "base_uri": "https://localhost:8080/"
        },
        "id": "YzNCWDKCUaE4",
        "outputId": "c64066d6-4fa0-4ff2-88d6-d27f095c8738"
      },
      "source": [
        "print('Alfredo', 'de', 'Morais', sep='|')"
      ],
      "execution_count": 3,
      "outputs": [
        {
          "output_type": "stream",
          "text": [
            "Alfredo|de|Morais\n"
          ],
          "name": "stdout"
        }
      ]
    },
    {
      "cell_type": "code",
      "metadata": {
        "colab": {
          "base_uri": "https://localhost:8080/"
        },
        "id": "U76Dqf1TUhEd",
        "outputId": "087cb9d7-6630-4935-e9af-b105eb488754"
      },
      "source": [
        "print('Alfredo', 'de', 'Morais', end='')\n",
        "print('Alfredo', 'de', 'Morais', sep='')"
      ],
      "execution_count": 4,
      "outputs": [
        {
          "output_type": "stream",
          "text": [
            "Alfredo de MoraisAlfredodeMorais\n"
          ],
          "name": "stdout"
        }
      ]
    },
    {
      "cell_type": "code",
      "metadata": {
        "colab": {
          "base_uri": "https://localhost:8080/"
        },
        "id": "G2Lh0fblUohg",
        "outputId": "e2080ff1-3897-4a80-b859-899400d980f3"
      },
      "source": [
        "# CPF = 824.176.070-18\n",
        "print('824', '176', '070', sep='.', end='-')\n",
        "print('18')"
      ],
      "execution_count": 12,
      "outputs": [
        {
          "output_type": "stream",
          "text": [
            "824.176.070-18\n"
          ],
          "name": "stdout"
        }
      ]
    }
  ]
}