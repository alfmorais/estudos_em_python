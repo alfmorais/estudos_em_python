{
  "nbformat": 4,
  "nbformat_minor": 0,
  "metadata": {
    "colab": {
      "name": "Untitled99.ipynb",
      "provenance": [],
      "authorship_tag": "ABX9TyMUoTNxlWxig7JlITGauucP",
      "include_colab_link": true
    },
    "kernelspec": {
      "name": "python3",
      "display_name": "Python 3"
    },
    "language_info": {
      "name": "python"
    }
  },
  "cells": [
    {
      "cell_type": "markdown",
      "metadata": {
        "id": "view-in-github",
        "colab_type": "text"
      },
      "source": [
        "<a href=\"https://colab.research.google.com/github/alfmorais/estudos_em_python/blob/main/curso_python_3/secao_2/aula_43.ipynb\" target=\"_parent\"><img src=\"https://colab.research.google.com/assets/colab-badge.svg\" alt=\"Open In Colab\"/></a>"
      ]
    },
    {
      "cell_type": "markdown",
      "metadata": {
        "id": "hT-HZQWTUXar"
      },
      "source": [
        "# Operador Ternário em Python"
      ]
    },
    {
      "cell_type": "code",
      "metadata": {
        "colab": {
          "base_uri": "https://localhost:8080/"
        },
        "id": "UoqHmKxZIO6a",
        "outputId": "1bb5db50-4f9b-4a74-f877-bc7d91c5778b"
      },
      "source": [
        "logged_user = False\n",
        "\n",
        "if logged_user:\n",
        "  msg = 'Usuário Logado.'\n",
        "else:\n",
        "  msg = 'Usuário precisa logar.'\n",
        "\n",
        "print(msg)"
      ],
      "execution_count": 1,
      "outputs": [
        {
          "output_type": "stream",
          "text": [
            "Usuário Logado.\n"
          ],
          "name": "stdout"
        }
      ]
    },
    {
      "cell_type": "code",
      "metadata": {
        "colab": {
          "base_uri": "https://localhost:8080/"
        },
        "id": "COn5-i5-U9WE",
        "outputId": "15138db6-e7a5-4509-a21f-1968752cc0b8"
      },
      "source": [
        "logged_user = True\n",
        "msg = 'Usuário Logado' if logged_user else 'Usuário precisa logar'\n",
        "\n",
        "print(msg)"
      ],
      "execution_count": 4,
      "outputs": [
        {
          "output_type": "stream",
          "text": [
            "Usuário Logado\n"
          ],
          "name": "stdout"
        }
      ]
    },
    {
      "cell_type": "code",
      "metadata": {
        "colab": {
          "base_uri": "https://localhost:8080/"
        },
        "id": "ns-lkIOfVQBb",
        "outputId": "d61b2311-494e-4816-a5cd-58421f9d10ca"
      },
      "source": [
        "idade = 18\n",
        "if idade >= 18:\n",
        "  print('Pode acessar')\n",
        "else:\n",
        "  print('Não pode acessar')"
      ],
      "execution_count": 5,
      "outputs": [
        {
          "output_type": "stream",
          "text": [
            "Pode acessar\n"
          ],
          "name": "stdout"
        }
      ]
    },
    {
      "cell_type": "code",
      "metadata": {
        "colab": {
          "base_uri": "https://localhost:8080/"
        },
        "id": "cp5VdbiyVbAp",
        "outputId": "001f66fe-6c8a-4233-a723-9c6bd2439c86"
      },
      "source": [
        "idade = 25\n",
        "e_de_maior = (idade >= 18)\n",
        "msg = 'Pode acessar' if e_de_maior else 'Não pode acessar'\n",
        "\n",
        "print(msg)"
      ],
      "execution_count": 7,
      "outputs": [
        {
          "output_type": "stream",
          "text": [
            "Pode acessar\n"
          ],
          "name": "stdout"
        }
      ]
    }
  ]
}