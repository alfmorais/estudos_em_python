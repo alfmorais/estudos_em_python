{
  "nbformat": 4,
  "nbformat_minor": 0,
  "metadata": {
    "colab": {
      "name": "Untitled93.ipynb",
      "provenance": [],
      "authorship_tag": "ABX9TyO8c+gTKcPYAWNtDSps+dJa",
      "include_colab_link": true
    },
    "kernelspec": {
      "name": "python3",
      "display_name": "Python 3"
    },
    "language_info": {
      "name": "python"
    }
  },
  "cells": [
    {
      "cell_type": "markdown",
      "metadata": {
        "id": "view-in-github",
        "colab_type": "text"
      },
      "source": [
        "<a href=\"https://colab.research.google.com/github/alfmorais/estudos_em_python/blob/main/curso_python_3/secao_2/aula_15.ipynb\" target=\"_parent\"><img src=\"https://colab.research.google.com/assets/colab-badge.svg\" alt=\"Open In Colab\"/></a>"
      ]
    },
    {
      "cell_type": "markdown",
      "metadata": {
        "id": "mRimTiTkZVkx"
      },
      "source": [
        "# Seção 2 - Aula 15\n",
        "\n",
        "## Operadores Aritméticos\n",
        "\n",
        "- +\n",
        "- -\n",
        "- * \n",
        "- /\n",
        "- //\n",
        "- **\n",
        "- % \n",
        "- ()\n",
        "\n"
      ]
    },
    {
      "cell_type": "code",
      "metadata": {
        "id": "N8LAHuYhZSj0"
      },
      "source": [
        "# Adição +\n",
        "print(10 + 10)"
      ],
      "execution_count": null,
      "outputs": []
    },
    {
      "cell_type": "code",
      "metadata": {
        "id": "DZwg0FLOjGiR"
      },
      "source": [
        "# Subtração -\n",
        "print(10-20)"
      ],
      "execution_count": null,
      "outputs": []
    },
    {
      "cell_type": "code",
      "metadata": {
        "id": "U3er2O_6jLuc"
      },
      "source": [
        "# Multiplicação\n",
        "print(10*30)\n",
        "print('Alfredo' * 30)"
      ],
      "execution_count": null,
      "outputs": []
    },
    {
      "cell_type": "code",
      "metadata": {
        "id": "9Qj6AptOjTDb"
      },
      "source": [
        "# Divisão\n",
        "print(10/2)"
      ],
      "execution_count": null,
      "outputs": []
    },
    {
      "cell_type": "code",
      "metadata": {
        "id": "8Vp3LBwwjlCp"
      },
      "source": [
        "# Divisão Inteira\n",
        "print(10//3)"
      ],
      "execution_count": null,
      "outputs": []
    },
    {
      "cell_type": "code",
      "metadata": {
        "id": "LnT0fQ2sj4Se"
      },
      "source": [
        "# Potencia\n",
        "print(3 ** 10)"
      ],
      "execution_count": null,
      "outputs": []
    },
    {
      "cell_type": "code",
      "metadata": {
        "id": "GWeZyY5ojtmf"
      },
      "source": [
        "# Módulo\n",
        "print(10%5)"
      ],
      "execution_count": null,
      "outputs": []
    },
    {
      "cell_type": "code",
      "metadata": {
        "id": "DLY9pYpXj92W"
      },
      "source": [
        ""
      ],
      "execution_count": null,
      "outputs": []
    }
  ]
}