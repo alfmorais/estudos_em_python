{
  "nbformat": 4,
  "nbformat_minor": 0,
  "metadata": {
    "colab": {
      "name": "Untitled94.ipynb",
      "provenance": [],
      "authorship_tag": "ABX9TyPnjxWRz/q8qv+Mi+JP+Bz+",
      "include_colab_link": true
    },
    "kernelspec": {
      "name": "python3",
      "display_name": "Python 3"
    },
    "language_info": {
      "name": "python"
    }
  },
  "cells": [
    {
      "cell_type": "markdown",
      "metadata": {
        "id": "view-in-github",
        "colab_type": "text"
      },
      "source": [
        "<a href=\"https://colab.research.google.com/github/alfmorais/estudos_em_python/blob/main/curso_python_3/secao_2/aula_17.ipynb\" target=\"_parent\"><img src=\"https://colab.research.google.com/assets/colab-badge.svg\" alt=\"Open In Colab\"/></a>"
      ]
    },
    {
      "cell_type": "markdown",
      "metadata": {
        "id": "PazqFNwmuWCR"
      },
      "source": [
        "# Seção 2 - Aula 17\n",
        "\n",
        "## Variaveis\n",
        "\n",
        "Iniciar com letras, pode conter números, separar com '_', letras minúsculas."
      ]
    },
    {
      "cell_type": "code",
      "metadata": {
        "colab": {
          "base_uri": "https://localhost:8080/"
        },
        "id": "ValfZOkcuTbn",
        "outputId": "78bd5c8d-f754-46bf-8264-a2f103f0a56b"
      },
      "source": [
        "nome = 'Alfredo'\n",
        "print(nome, type(nome))"
      ],
      "execution_count": 2,
      "outputs": [
        {
          "output_type": "stream",
          "text": [
            "Alfredo <class 'str'>\n"
          ],
          "name": "stdout"
        }
      ]
    },
    {
      "cell_type": "code",
      "metadata": {
        "id": "5z20IW0Vuz5W"
      },
      "source": [
        "idade = 28\n",
        "altura = 1.58\n",
        "e_maior = idade > 18\n",
        "peso = 85\n",
        "\n",
        "print('Nome: ', nome)\n",
        "print('Idade: ', idade)\n",
        "print('Altura: ', altura)\n",
        "print('É maior: ', e_maior)\n",
        "\n",
        "imc = round((peso) / (altura * altura), 2)"
      ],
      "execution_count": null,
      "outputs": []
    },
    {
      "cell_type": "code",
      "metadata": {
        "colab": {
          "base_uri": "https://localhost:8080/"
        },
        "id": "Ut8lzY5FvQhO",
        "outputId": "5dd6776d-d2d5-4ea2-d9f9-d4960b78cd13"
      },
      "source": [
        "print(nome, ' tem ', idade, ' de idade e seu IMC é: ', imc)"
      ],
      "execution_count": 8,
      "outputs": [
        {
          "output_type": "stream",
          "text": [
            "Alfredo  tem  28  de idade e seu IMC é:  34.05\n"
          ],
          "name": "stdout"
        }
      ]
    }
  ]
}