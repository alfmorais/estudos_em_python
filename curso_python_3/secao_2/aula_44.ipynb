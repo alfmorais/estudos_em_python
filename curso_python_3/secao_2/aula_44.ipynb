{
  "nbformat": 4,
  "nbformat_minor": 0,
  "metadata": {
    "colab": {
      "name": "Untitled100.ipynb",
      "provenance": [],
      "authorship_tag": "ABX9TyNJ6q+/UScwwzRw4WLKICPT",
      "include_colab_link": true
    },
    "kernelspec": {
      "name": "python3",
      "display_name": "Python 3"
    },
    "language_info": {
      "name": "python"
    }
  },
  "cells": [
    {
      "cell_type": "markdown",
      "metadata": {
        "id": "view-in-github",
        "colab_type": "text"
      },
      "source": [
        "<a href=\"https://colab.research.google.com/github/alfmorais/estudos_em_python/blob/main/curso_python_3/secao_2/aula_44.ipynb\" target=\"_parent\"><img src=\"https://colab.research.google.com/assets/colab-badge.svg\" alt=\"Open In Colab\"/></a>"
      ]
    },
    {
      "cell_type": "code",
      "metadata": {
        "id": "SPIjYgDJShI2"
      },
      "source": [
        ""
      ],
      "execution_count": null,
      "outputs": []
    },
    {
      "cell_type": "markdown",
      "metadata": {
        "id": "wRdQqYGESyFl"
      },
      "source": [
        "# Aula 44\n",
        "## Expressão condicional com operador OR"
      ]
    },
    {
      "cell_type": "code",
      "metadata": {
        "colab": {
          "base_uri": "https://localhost:8080/"
        },
        "id": "EdPl3xXNS6oA",
        "outputId": "90062ab1-6399-47e4-fc92-7fd3b205f821"
      },
      "source": [
        "nome = input('Qual é o seu nome? ')\n",
        "\n",
        "if nome:\n",
        "  print(nome)\n",
        "else:\n",
        "  print('Você não digitou nada =(')"
      ],
      "execution_count": 1,
      "outputs": [
        {
          "output_type": "stream",
          "text": [
            "Qual é o seu nome? \n",
            "Você não digitou nada =(\n"
          ],
          "name": "stdout"
        }
      ]
    },
    {
      "cell_type": "code",
      "metadata": {
        "colab": {
          "base_uri": "https://localhost:8080/"
        },
        "id": "aa3SnoR4TSSW",
        "outputId": "42350c10-7fb5-40b9-8298-f4d84d225b21"
      },
      "source": [
        "nome = input('Qual é o seu nome? ')\n",
        "print(nome or 'Você não digitou nada =(')"
      ],
      "execution_count": 2,
      "outputs": [
        {
          "output_type": "stream",
          "text": [
            "Qual é o seu nome? \n",
            "Você não digitou nada =(\n"
          ],
          "name": "stdout"
        }
      ]
    },
    {
      "cell_type": "code",
      "metadata": {
        "colab": {
          "base_uri": "https://localhost:8080/"
        },
        "id": "nK_gvLUKTqRy",
        "outputId": "513012ce-ad41-47d6-f742-d65e23db4678"
      },
      "source": [
        "a = 0\n",
        "b = None\n",
        "c = False\n",
        "d = []\n",
        "e = {}\n",
        "f = 22\n",
        "g = 'Alfredo'\n",
        "\n",
        "variavel = a or b or c or d or e or f or g\n",
        "print(variavel)"
      ],
      "execution_count": 3,
      "outputs": [
        {
          "output_type": "stream",
          "text": [
            "22\n"
          ],
          "name": "stdout"
        }
      ]
    }
  ]
}