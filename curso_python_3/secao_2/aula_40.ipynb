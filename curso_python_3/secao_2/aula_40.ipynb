{
  "nbformat": 4,
  "nbformat_minor": 0,
  "metadata": {
    "colab": {
      "name": "Untitled96.ipynb",
      "provenance": [],
      "authorship_tag": "ABX9TyMEXJ9GFHlRKPEAe23UCC2U",
      "include_colab_link": true
    },
    "kernelspec": {
      "name": "python3",
      "display_name": "Python 3"
    },
    "language_info": {
      "name": "python"
    }
  },
  "cells": [
    {
      "cell_type": "markdown",
      "metadata": {
        "id": "view-in-github",
        "colab_type": "text"
      },
      "source": [
        "<a href=\"https://colab.research.google.com/github/alfmorais/estudos_em_python/blob/main/curso_python_3/secao_2/aula_40.ipynb\" target=\"_parent\"><img src=\"https://colab.research.google.com/assets/colab-badge.svg\" alt=\"Open In Colab\"/></a>"
      ]
    },
    {
      "cell_type": "markdown",
      "metadata": {
        "id": "4lv4N5mq8e-N"
      },
      "source": [
        "# Split, Join, Enumerate em Python\n",
        "\n",
        "1. Split - Dividir uma string #str\n",
        "2. Join - Juntar uma lista #str\n",
        "3. Enumerate - Enumerar elementos da lista #list"
      ]
    },
    {
      "cell_type": "code",
      "metadata": {
        "id": "Hyh55mF98eFC"
      },
      "source": [
        "frase = \"O Brasil é o pais do Jiu Jitsu, temos vários campeões no Brasil e no mundo afora\""
      ],
      "execution_count": 1,
      "outputs": []
    },
    {
      "cell_type": "code",
      "metadata": {
        "colab": {
          "base_uri": "https://localhost:8080/"
        },
        "id": "cz4WcVC188NC",
        "outputId": "89178385-8407-4c79-9c90-90a52dcfdd06"
      },
      "source": [
        "lista = frase.split(' ')\n",
        "print(lista)"
      ],
      "execution_count": 2,
      "outputs": [
        {
          "output_type": "stream",
          "text": [
            "['O', 'Brasil', 'é', 'o', 'pais', 'do', 'Jiu', 'Jitsu,', 'temos', 'vários', 'campeões', 'no', 'Brasil', 'e', 'no', 'mundo', 'afora']\n"
          ],
          "name": "stdout"
        }
      ]
    },
    {
      "cell_type": "code",
      "metadata": {
        "colab": {
          "base_uri": "https://localhost:8080/"
        },
        "id": "nXQb-9aj9SkA",
        "outputId": "df915f15-50bb-4a94-fd36-3a6e6d654f40"
      },
      "source": [
        "lista_2 = frase.split(',')\n",
        "print(lista_2)"
      ],
      "execution_count": 3,
      "outputs": [
        {
          "output_type": "stream",
          "text": [
            "['O Brasil é o pais do Jiu Jitsu', ' temos vários campeões no Brasil e no mundo afora']\n"
          ],
          "name": "stdout"
        }
      ]
    },
    {
      "cell_type": "code",
      "metadata": {
        "colab": {
          "base_uri": "https://localhost:8080/"
        },
        "id": "pvSX4yow9g80",
        "outputId": "662b3d0e-d6ff-49f9-8ac6-161875cab004"
      },
      "source": [
        "for palavra in lista:\n",
        "  print(f'A palavra {palavra} apareceu {lista.count(palavra)}x na frase')\n"
      ],
      "execution_count": 4,
      "outputs": [
        {
          "output_type": "stream",
          "text": [
            "A palavra O apareceu 1x na frase\n",
            "A palavra Brasil apareceu 2x na frase\n",
            "A palavra é apareceu 1x na frase\n",
            "A palavra o apareceu 1x na frase\n",
            "A palavra pais apareceu 1x na frase\n",
            "A palavra do apareceu 1x na frase\n",
            "A palavra Jiu apareceu 1x na frase\n",
            "A palavra Jitsu, apareceu 1x na frase\n",
            "A palavra temos apareceu 1x na frase\n",
            "A palavra vários apareceu 1x na frase\n",
            "A palavra campeões apareceu 1x na frase\n",
            "A palavra no apareceu 2x na frase\n",
            "A palavra Brasil apareceu 2x na frase\n",
            "A palavra e apareceu 1x na frase\n",
            "A palavra no apareceu 2x na frase\n",
            "A palavra mundo apareceu 1x na frase\n",
            "A palavra afora apareceu 1x na frase\n"
          ],
          "name": "stdout"
        }
      ]
    },
    {
      "cell_type": "code",
      "metadata": {
        "colab": {
          "base_uri": "https://localhost:8080/"
        },
        "id": "yBnfQvNN-WPo",
        "outputId": "1f0f8955-6e83-44d3-910e-2963a35d203d"
      },
      "source": [
        "palavra = ''\n",
        "contagem = 0\n",
        "\n",
        "for letra in lista:\n",
        "  quantidade = lista.count(letra)\n",
        "\n",
        "  if quantidade > contagem:\n",
        "    contagem = quantidade\n",
        "    palavra = valor\n",
        "\n",
        "print(f'A palavra que apareceu mais vezes é {palavra} ({contagem}x)')"
      ],
      "execution_count": 7,
      "outputs": [
        {
          "output_type": "stream",
          "text": [
            "A palavra que apareceu mais vezes é  (2x)\n"
          ],
          "name": "stdout"
        }
      ]
    },
    {
      "cell_type": "code",
      "metadata": {
        "colab": {
          "base_uri": "https://localhost:8080/"
        },
        "id": "ZzPvgcxr_R4A",
        "outputId": "a914238e-eea0-495c-ee1e-5f2c8737472e"
      },
      "source": [
        "lista = ['O', 'Brasil', 'é', 'o', 'pais', 'do', 'Jiu', 'Jitsu,', 'temos', 'vários', 'campeões', 'no', 'Brasil', 'e', 'no', 'mundo', 'afora']\n",
        "\n",
        "frase = ','.join(lista)\n",
        "print(frase)"
      ],
      "execution_count": 8,
      "outputs": [
        {
          "output_type": "stream",
          "text": [
            "O,Brasil,é,o,pais,do,Jiu,Jitsu,,temos,vários,campeões,no,Brasil,e,no,mundo,afora\n"
          ],
          "name": "stdout"
        }
      ]
    },
    {
      "cell_type": "code",
      "metadata": {
        "colab": {
          "base_uri": "https://localhost:8080/"
        },
        "id": "d7EH9g51_9kT",
        "outputId": "0fb8c79d-9470-4659-c67e-5292afe73ffa"
      },
      "source": [
        "frase = ' '.join(lista)\n",
        "print(frase)"
      ],
      "execution_count": 9,
      "outputs": [
        {
          "output_type": "stream",
          "text": [
            "O Brasil é o pais do Jiu Jitsu, temos vários campeões no Brasil e no mundo afora\n"
          ],
          "name": "stdout"
        }
      ]
    },
    {
      "cell_type": "code",
      "metadata": {
        "colab": {
          "base_uri": "https://localhost:8080/"
        },
        "id": "P2byZmpNAEbV",
        "outputId": "2db13a76-8d2d-4087-ad63-1f38d1e38a28"
      },
      "source": [
        "for indice, valor in enumerate(lista):\n",
        "  print(f'O indice da lista {indice} e a palavra {valor}')"
      ],
      "execution_count": 10,
      "outputs": [
        {
          "output_type": "stream",
          "text": [
            "O indice da lista 0 e a palavra O\n",
            "O indice da lista 1 e a palavra Brasil\n",
            "O indice da lista 2 e a palavra é\n",
            "O indice da lista 3 e a palavra o\n",
            "O indice da lista 4 e a palavra pais\n",
            "O indice da lista 5 e a palavra do\n",
            "O indice da lista 6 e a palavra Jiu\n",
            "O indice da lista 7 e a palavra Jitsu,\n",
            "O indice da lista 8 e a palavra temos\n",
            "O indice da lista 9 e a palavra vários\n",
            "O indice da lista 10 e a palavra campeões\n",
            "O indice da lista 11 e a palavra no\n",
            "O indice da lista 12 e a palavra Brasil\n",
            "O indice da lista 13 e a palavra e\n",
            "O indice da lista 14 e a palavra no\n",
            "O indice da lista 15 e a palavra mundo\n",
            "O indice da lista 16 e a palavra afora\n"
          ],
          "name": "stdout"
        }
      ]
    },
    {
      "cell_type": "code",
      "metadata": {
        "colab": {
          "base_uri": "https://localhost:8080/"
        },
        "id": "8IYAKbuBAnUJ",
        "outputId": "3b5cf179-6a36-499a-8cc0-a1cc3b24b48e"
      },
      "source": [
        "lista_2 = [\n",
        "           [1, 2, 3],\n",
        "           [4, 5, 6],\n",
        "           [7, 8, 9],\n",
        "]\n",
        "\n",
        "for v in lista_2:\n",
        "  print(v[0], v[1], v[2])"
      ],
      "execution_count": 13,
      "outputs": [
        {
          "output_type": "stream",
          "text": [
            "1 2 3\n",
            "4 5 6\n",
            "7 8 9\n"
          ],
          "name": "stdout"
        }
      ]
    },
    {
      "cell_type": "code",
      "metadata": {
        "colab": {
          "base_uri": "https://localhost:8080/"
        },
        "id": "O9muwsqnBNuH",
        "outputId": "8e5ea1fa-e08b-4b8f-e8d9-a7febeada0d1"
      },
      "source": [
        "lista = ['Alfredo', 'Morais', 'Neto']\n",
        "\n",
        "n1, n2, n3 = lista\n",
        "print(n1)\n",
        "print(n2)\n",
        "print(n3)"
      ],
      "execution_count": 14,
      "outputs": [
        {
          "output_type": "stream",
          "text": [
            "Alfredo\n",
            "Morais\n",
            "Neto\n"
          ],
          "name": "stdout"
        }
      ]
    },
    {
      "cell_type": "code",
      "metadata": {
        "colab": {
          "base_uri": "https://localhost:8080/"
        },
        "id": "AjqUlUg7ClX6",
        "outputId": "0ba7f636-b0b8-4a6b-e0e1-6f4c9869824e"
      },
      "source": [
        "lista = [\n",
        "         ['Edu', 'Maria', 'Itu'],\n",
        "         ['Vil', 'Joana', 'Giu'],\n",
        "         ['Alf', 'Vilma', 'Joa'],\n",
        "]\n",
        "\n",
        "print(lista[1][2])"
      ],
      "execution_count": 15,
      "outputs": [
        {
          "output_type": "stream",
          "text": [
            "Giu\n"
          ],
          "name": "stdout"
        }
      ]
    },
    {
      "cell_type": "code",
      "metadata": {
        "colab": {
          "base_uri": "https://localhost:8080/"
        },
        "id": "5DoUtMvIDIJ7",
        "outputId": "3b115394-3f65-41f5-b158-daf01e6841bb"
      },
      "source": [
        "enumerada = enumerate(lista)\n",
        "print(list(enumerada))"
      ],
      "execution_count": 17,
      "outputs": [
        {
          "output_type": "stream",
          "text": [
            "[(0, ['Edu', 'Maria', 'Itu']), (1, ['Vil', 'Joana', 'Giu']), (2, ['Alf', 'Vilma', 'Joa'])]\n"
          ],
          "name": "stdout"
        }
      ]
    },
    {
      "cell_type": "code",
      "metadata": {
        "colab": {
          "base_uri": "https://localhost:8080/"
        },
        "id": "Bs5fuLn1ERat",
        "outputId": "49fb6e9b-2574-49ed-e082-fafa9e3fbee3"
      },
      "source": [
        "for v1, v2 in enumerate(lista, 158):\n",
        "  print(v1, v2)\n",
        "\n",
        "for v1 in enumerate(lista, 158):\n",
        "  print(v1)"
      ],
      "execution_count": 22,
      "outputs": [
        {
          "output_type": "stream",
          "text": [
            "158 ['Edu', 'Maria', 'Itu']\n",
            "159 ['Vil', 'Joana', 'Giu']\n",
            "160 ['Alf', 'Vilma', 'Joa']\n",
            "(158, ['Edu', 'Maria', 'Itu'])\n",
            "(159, ['Vil', 'Joana', 'Giu'])\n",
            "(160, ['Alf', 'Vilma', 'Joa'])\n"
          ],
          "name": "stdout"
        }
      ]
    },
    {
      "cell_type": "code",
      "metadata": {
        "id": "LIwCii7QEkoN"
      },
      "source": [
        ""
      ],
      "execution_count": null,
      "outputs": []
    }
  ]
}