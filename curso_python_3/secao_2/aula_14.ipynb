{
  "nbformat": 4,
  "nbformat_minor": 0,
  "metadata": {
    "colab": {
      "name": "Untitled92.ipynb",
      "provenance": [],
      "authorship_tag": "ABX9TyOhoS24s0qdEkzlIKgfDiek",
      "include_colab_link": true
    },
    "kernelspec": {
      "name": "python3",
      "display_name": "Python 3"
    },
    "language_info": {
      "name": "python"
    }
  },
  "cells": [
    {
      "cell_type": "markdown",
      "metadata": {
        "id": "view-in-github",
        "colab_type": "text"
      },
      "source": [
        "<a href=\"https://colab.research.google.com/github/alfmorais/estudos_em_python/blob/main/curso_python_3/secao_2/aula_14.ipynb\" target=\"_parent\"><img src=\"https://colab.research.google.com/assets/colab-badge.svg\" alt=\"Open In Colab\"/></a>"
      ]
    },
    {
      "cell_type": "markdown",
      "metadata": {
        "id": "OLaX4AqU-AXv"
      },
      "source": [
        "# Seção 2 - Aula 14\n",
        "\n",
        "## Tipos de Dados Primitivos\n",
        "\n",
        "\n",
        "*   str - String -> 'alfredo'\n",
        "*   int - inteiro -> 8, 80, 800\n",
        "*   float - real/ponto flutuante -> 3.14, 15.14\n",
        "*   bool - booleano /lógico -> True ou False\n",
        "\n",
        "\n",
        "\n"
      ]
    },
    {
      "cell_type": "code",
      "metadata": {
        "colab": {
          "base_uri": "https://localhost:8080/"
        },
        "id": "EOLdJfc997FP",
        "outputId": "b681e36e-6294-41ec-940d-83f27b3714ce"
      },
      "source": [
        "print(type('Alfredo'))\n"
      ],
      "execution_count": 1,
      "outputs": [
        {
          "output_type": "stream",
          "text": [
            "<class 'str'>\n"
          ],
          "name": "stdout"
        }
      ]
    },
    {
      "cell_type": "code",
      "metadata": {
        "colab": {
          "base_uri": "https://localhost:8080/"
        },
        "id": "3y6GzHjENxqy",
        "outputId": "c4efdeb6-56c3-4500-b168-fbb7d85e392d"
      },
      "source": [
        "print(type(5))"
      ],
      "execution_count": 2,
      "outputs": [
        {
          "output_type": "stream",
          "text": [
            "<class 'int'>\n"
          ],
          "name": "stdout"
        }
      ]
    },
    {
      "cell_type": "code",
      "metadata": {
        "colab": {
          "base_uri": "https://localhost:8080/"
        },
        "id": "X_8VUUksN3By",
        "outputId": "2f4db318-740b-4de6-9663-6a8650988665"
      },
      "source": [
        "print(type(5.5))"
      ],
      "execution_count": 3,
      "outputs": [
        {
          "output_type": "stream",
          "text": [
            "<class 'float'>\n"
          ],
          "name": "stdout"
        }
      ]
    },
    {
      "cell_type": "code",
      "metadata": {
        "colab": {
          "base_uri": "https://localhost:8080/"
        },
        "id": "MEmOSgDJN7bi",
        "outputId": "e204eab2-4f0b-4669-9bb6-dc420979a922"
      },
      "source": [
        "print(type(True))"
      ],
      "execution_count": 4,
      "outputs": [
        {
          "output_type": "stream",
          "text": [
            "<class 'bool'>\n"
          ],
          "name": "stdout"
        }
      ]
    },
    {
      "cell_type": "code",
      "metadata": {
        "colab": {
          "base_uri": "https://localhost:8080/"
        },
        "id": "teGiyml1OClM",
        "outputId": "4a4d7c99-892a-4fb2-c6ee-d62e066ff54b"
      },
      "source": [
        "print('Alfredo', type('Alfredo'), bool('Alfredo'))"
      ],
      "execution_count": 5,
      "outputs": [
        {
          "output_type": "stream",
          "text": [
            "Alfredo <class 'str'> True\n"
          ],
          "name": "stdout"
        }
      ]
    },
    {
      "cell_type": "code",
      "metadata": {
        "colab": {
          "base_uri": "https://localhost:8080/"
        },
        "id": "AYK0vVs6PeI8",
        "outputId": "123d7f4a-22f3-4074-bdd2-8f1563d5b4f3"
      },
      "source": [
        "print('10', type('10'), type(int('10')))"
      ],
      "execution_count": 6,
      "outputs": [
        {
          "output_type": "stream",
          "text": [
            "10 <class 'str'> <class 'int'>\n"
          ],
          "name": "stdout"
        }
      ]
    },
    {
      "cell_type": "code",
      "metadata": {
        "id": "z_XF53BpPndu"
      },
      "source": [
        "print(10 + 10)"
      ],
      "execution_count": null,
      "outputs": []
    },
    {
      "cell_type": "code",
      "metadata": {
        "id": "H_5emYH3QDf4"
      },
      "source": [
        "# Strig: Nome\n",
        "# Idade: Int\n",
        "# Altura: Float\n",
        "# Maior que 18 anos"
      ],
      "execution_count": null,
      "outputs": []
    },
    {
      "cell_type": "code",
      "metadata": {
        "id": "63N9ZrcNQ2ow"
      },
      "source": [
        "def info(nome, idade, altura):\n",
        "  \"\"\"\n",
        "    Recebe as variaveis: nome(str), idade(int), altura(float)\n",
        "    Retorna uma string formatada. \n",
        "  \"\"\"\n",
        "\n",
        "  if idade > 18:\n",
        "    status = 'maior que 18 anos'\n",
        "  else: \n",
        "    status = 'menor que 18 anos'\n",
        "    \n",
        "  print(f'Nome: {nome}, Idade: {idade}, Altura: {altura} metros, {status}')\n"
      ],
      "execution_count": 9,
      "outputs": []
    },
    {
      "cell_type": "code",
      "metadata": {
        "colab": {
          "base_uri": "https://localhost:8080/"
        },
        "id": "T6KB94KtSsV7",
        "outputId": "ec17e9c6-2808-4a44-d26c-18203dcd586d"
      },
      "source": [
        "info('Alfredo', 28, 1.58)"
      ],
      "execution_count": 10,
      "outputs": [
        {
          "output_type": "stream",
          "text": [
            "Nome: Alfredo, Idade: 28, Altura: 1.58 metros, maior que 18 anos\n"
          ],
          "name": "stdout"
        }
      ]
    }
  ]
}