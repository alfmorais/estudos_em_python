{
  "nbformat": 4,
  "nbformat_minor": 0,
  "metadata": {
    "colab": {
      "name": "Untitled102.ipynb",
      "provenance": [],
      "authorship_tag": "ABX9TyNHfl8/SwWfvGDwOSs1MM1a",
      "include_colab_link": true
    },
    "kernelspec": {
      "name": "python3",
      "display_name": "Python 3"
    },
    "language_info": {
      "name": "python"
    }
  },
  "cells": [
    {
      "cell_type": "markdown",
      "metadata": {
        "id": "view-in-github",
        "colab_type": "text"
      },
      "source": [
        "<a href=\"https://colab.research.google.com/github/alfmorais/estudos_em_python/blob/main/curso_python_3/secao_2/aula_47.ipynb\" target=\"_parent\"><img src=\"https://colab.research.google.com/assets/colab-badge.svg\" alt=\"Open In Colab\"/></a>"
      ]
    },
    {
      "cell_type": "markdown",
      "metadata": {
        "id": "c9jrS9vPWtZl"
      },
      "source": [
        "# Aula 47\n",
        "\n",
        "# valide um CPF\n",
        "\n",
        "<hr>\n",
        "CPF = 168.995.350-09\n",
        "<hr>"
      ]
    },
    {
      "cell_type": "code",
      "metadata": {
        "id": "4OWmWrvEY30A"
      },
      "source": [
        "\"\"\"\n",
        "1 * 10 = 10           #    1 * 11 = 11 <-\n",
        "6 *  9 = 54           #    6 * 10 = 60\n",
        "8 *  8 = 64           #    8 *  9 = 72\n",
        "9 *  7 = 63           #    9 *  8 = 72\n",
        "9 *  6 = 54           #    9 *  7 = 63\n",
        "5 *  5 = 25           #    5 *  6 = 30\n",
        "3 *  4 = 12           #    3 *  5 = 15\n",
        "5 *  3 = 15           #    0 *  4 = 20\n",
        "0 *  2 =  0           #    0 *  3 =  0\n",
        "                      # -> 0 *  2 =  0\n",
        "           297        #              343\n",
        " 11 - (297 % 11) = 11 # 11 - (343 % 11) = 9\n",
        " 11 > 9 = 0           #\n",
        " Digito 1 = 0         # Digito 2 = 9\n",
        "\"\"\""
      ],
      "execution_count": null,
      "outputs": []
    },
    {
      "cell_type": "code",
      "metadata": {
        "colab": {
          "base_uri": "https://localhost:8080/"
        },
        "id": "_POgEk7SV0ho",
        "outputId": "11ada148-087c-4705-ca39-6c7cb1308601"
      },
      "source": [
        "import itertools\n",
        "\n",
        "cpf = input('Digite um CPF: ')\n",
        "\n",
        "# Criando as variaveis de multiplicação\n",
        "lista_1 = list(range(10, 1, -1))\n",
        "lista_2 = list(range(11, 1, -1))\n",
        "\n",
        "# Manipulação dos dados de CPF\n",
        "cpf_nove = cpf[:9]\n",
        "cpf_nove = list(cpf_nove)\n",
        "print(type(cpf_nove))\n",
        "\n",
        "cpf_dois = cpf[9:]\n",
        "cpf_dois = list(cpf_dois)\n",
        "print(type(cpf_dois))"
      ],
      "execution_count": 1,
      "outputs": [
        {
          "output_type": "stream",
          "text": [
            "Digite um CPF: 31748861808\n",
            "<class 'list'>\n",
            "<class 'list'>\n"
          ],
          "name": "stdout"
        }
      ]
    },
    {
      "cell_type": "code",
      "metadata": {
        "id": "eb0pmhNHlOFt"
      },
      "source": [
        "def primeiro_digito(cpf_nove, lista_1):\n",
        "  \"\"\"\n",
        "  \n",
        "  \"\"\"\n",
        "  lista_interna = []\n",
        "\n",
        "  for numero_1, numero_2 in itertools.zip_longest(cpf_nove, lista_1):\n",
        "    resultado = int(numero_1) * int(numero_2)\n",
        "    lista_interna.append(resultado)\n",
        "  \n",
        "  somatoria = sum(lista_interna)\n",
        "  numero = 11 - (somatoria % 11)\n",
        "\n",
        "  if numero > 9:\n",
        "    return 0"
      ],
      "execution_count": 2,
      "outputs": []
    },
    {
      "cell_type": "code",
      "metadata": {
        "colab": {
          "base_uri": "https://localhost:8080/"
        },
        "id": "HqBJHSWmnzim",
        "outputId": "ab6fc6e8-e31a-43fd-ab35-2fa864d7e1e5"
      },
      "source": [
        "primeiro_dig = primeiro_digito(cpf_nove, lista_1)\n",
        "print(primeiro_dig)"
      ],
      "execution_count": 3,
      "outputs": [
        {
          "output_type": "stream",
          "text": [
            "0\n"
          ],
          "name": "stdout"
        }
      ]
    },
    {
      "cell_type": "code",
      "metadata": {
        "id": "U8so1-HksJjJ"
      },
      "source": [
        "def segundo_digito(cpf_nove, lista_2, primeiro_dig):\n",
        "  \"\"\"\n",
        "\n",
        "  \"\"\"\n",
        "  cpf_nove.append(primeiro_dig)\n",
        "  \n",
        "  lista_interna = []\n",
        "\n",
        "  for numero_1, numero_2 in itertools.zip_longest(cpf_nove, lista_2):\n",
        "    resultado = int(numero_1) * int(numero_2)\n",
        "    lista_interna.append(resultado)\n",
        "\n",
        "  somatoria = sum(lista_interna)\n",
        "  numero = 11 - (somatoria % 11)\n",
        "  return numero"
      ],
      "execution_count": 4,
      "outputs": []
    },
    {
      "cell_type": "code",
      "metadata": {
        "colab": {
          "base_uri": "https://localhost:8080/"
        },
        "id": "MIpkJFxrtU1h",
        "outputId": "e30798a9-b40a-4bde-bd29-d3a3b7ca13b6"
      },
      "source": [
        "segundo_dig = segundo_digito(cpf_nove, lista_2, primeiro_dig)\n",
        "print(segundo_dig)"
      ],
      "execution_count": 5,
      "outputs": [
        {
          "output_type": "stream",
          "text": [
            "8\n"
          ],
          "name": "stdout"
        }
      ]
    },
    {
      "cell_type": "code",
      "metadata": {
        "id": "I6NH_MN7t3B2"
      },
      "source": [
        ""
      ],
      "execution_count": null,
      "outputs": []
    }
  ]
}