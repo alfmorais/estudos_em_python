{
  "nbformat": 4,
  "nbformat_minor": 0,
  "metadata": {
    "colab": {
      "name": "Untitled66.ipynb",
      "provenance": [],
      "authorship_tag": "ABX9TyPUDpgP1y9ZP0KmKPcaeeGA",
      "include_colab_link": true
    },
    "kernelspec": {
      "name": "python3",
      "display_name": "Python 3"
    }
  },
  "cells": [
    {
      "cell_type": "markdown",
      "metadata": {
        "id": "view-in-github",
        "colab_type": "text"
      },
      "source": [
        "<a href=\"https://colab.research.google.com/github/alfmorais/estudos_em_python/blob/main/polimorfismo.ipynb\" target=\"_parent\"><img src=\"https://colab.research.google.com/assets/colab-badge.svg\" alt=\"Open In Colab\"/></a>"
      ]
    },
    {
      "cell_type": "code",
      "metadata": {
        "colab": {
          "base_uri": "https://localhost:8080/"
        },
        "id": "t8gYlILriM9q",
        "outputId": "803e3a85-c23e-4baa-f4f8-ee851bd00d55"
      },
      "source": [
        "# Polimorfismo\r\n",
        "\r\n",
        "print(10 + 20)\r\n",
        "'''Operador de '+' é um otimo exemplo de polimorfismo'''\r\n",
        "\r\n",
        "print('Olá' + 'Devs')\r\n",
        "print(len('livros'))"
      ],
      "execution_count": 2,
      "outputs": [
        {
          "output_type": "stream",
          "text": [
            "30\n",
            "OláDevs\n",
            "6\n"
          ],
          "name": "stdout"
        }
      ]
    },
    {
      "cell_type": "code",
      "metadata": {
        "colab": {
          "base_uri": "https://localhost:8080/"
        },
        "id": "cr5puzbDitQW",
        "outputId": "2eda29d7-e671-4758-ace0-e663c73b78da"
      },
      "source": [
        "class Carro:\r\n",
        "  def ligar(self):\r\n",
        "    print('ligando o carro')\r\n",
        "\r\n",
        "class Moto:\r\n",
        "  def ligar(self):\r\n",
        "    print('ligando a moto')\r\n",
        "\r\n",
        "def iniciar(veiculo):\r\n",
        "  veiculo.ligar()\r\n",
        "\r\n",
        "carro = Carro()\r\n",
        "moto = Moto()\r\n",
        "\r\n",
        "iniciar(carro)\r\n",
        "iniciar(moto)"
      ],
      "execution_count": 3,
      "outputs": [
        {
          "output_type": "stream",
          "text": [
            "ligando o carro\n",
            "ligando a moto\n"
          ],
          "name": "stdout"
        }
      ]
    }
  ]
}