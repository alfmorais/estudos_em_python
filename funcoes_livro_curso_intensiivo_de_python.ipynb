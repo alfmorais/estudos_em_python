{
  "nbformat": 4,
  "nbformat_minor": 0,
  "metadata": {
    "colab": {
      "name": "Untitled20.ipynb",
      "provenance": [],
      "authorship_tag": "ABX9TyMS8PTunAgzrD7h7+jZJY1/",
      "include_colab_link": true
    },
    "kernelspec": {
      "name": "python3",
      "display_name": "Python 3"
    }
  },
  "cells": [
    {
      "cell_type": "markdown",
      "metadata": {
        "id": "view-in-github",
        "colab_type": "text"
      },
      "source": [
        "<a href=\"https://colab.research.google.com/github/alfmorais/google_colaboratory/blob/main/funcoes_livro_curso_intensiivo_de_python.ipynb\" target=\"_parent\"><img src=\"https://colab.research.google.com/assets/colab-badge.svg\" alt=\"Open In Colab\"/></a>"
      ]
    },
    {
      "cell_type": "code",
      "metadata": {
        "colab": {
          "base_uri": "https://localhost:8080/"
        },
        "id": "mqLXfY0TvgA_",
        "outputId": "8bd377d7-a504-4ce0-cc0f-14122dd81cc1"
      },
      "source": [
        "def greet_user():\r\n",
        "  \"\"\"Exibe uma saudação simples.\"\"\"\r\n",
        "  print('Hello!')\r\n",
        "\r\n",
        "greet_user()\r\n"
      ],
      "execution_count": 1,
      "outputs": [
        {
          "output_type": "stream",
          "text": [
            "Hello!\n"
          ],
          "name": "stdout"
        }
      ]
    },
    {
      "cell_type": "code",
      "metadata": {
        "colab": {
          "base_uri": "https://localhost:8080/"
        },
        "id": "ZOCJ0nSEbTQN",
        "outputId": "b349d4cd-484a-4ba1-d58c-23fbf70e8d6b"
      },
      "source": [
        "def greet_user(nome):\r\n",
        "  \"\"\"Exibe uma saudação simples.\"\"\"\r\n",
        "  print('Hello, ' + nome.title() + '!')\r\n",
        "\r\n",
        "greet_user('alfredo')"
      ],
      "execution_count": 2,
      "outputs": [
        {
          "output_type": "stream",
          "text": [
            "Hello, Alfredo!\n"
          ],
          "name": "stdout"
        }
      ]
    },
    {
      "cell_type": "code",
      "metadata": {
        "colab": {
          "base_uri": "https://localhost:8080/"
        },
        "id": "GSqqq0pnbqyv",
        "outputId": "e25211af-77c0-4b45-b892-3da2f636e14c"
      },
      "source": [
        "nomes = ['alfredo', 'denise', 'joaquim', 'vilma', 'viviave', 'ricardo', 'derek']\r\n",
        "\r\n",
        "for nome in nomes:\r\n",
        "  greet_user(nome)"
      ],
      "execution_count": 3,
      "outputs": [
        {
          "output_type": "stream",
          "text": [
            "Hello, Alfredo!\n",
            "Hello, Denise!\n",
            "Hello, Joaquim!\n",
            "Hello, Vilma!\n",
            "Hello, Viviave!\n",
            "Hello, Ricardo!\n",
            "Hello, Derek!\n"
          ],
          "name": "stdout"
        }
      ]
    },
    {
      "cell_type": "code",
      "metadata": {
        "colab": {
          "base_uri": "https://localhost:8080/"
        },
        "id": "67r_anCvcFpq",
        "outputId": "7a5b832d-87a7-4b3a-e2c5-9d2d6a443805"
      },
      "source": [
        "def describe_pet(animal_type, pet_name):\r\n",
        "  \"\"\"Exibe informações sobre um animal de estimação.\"\"\"\r\n",
        "  print('\\nI have a ' + animal_type + '.')\r\n",
        "  print('My ' + animal_type + \"'s name is \" + pet_name.title() + '.')\r\n",
        "\r\n",
        "describe_pet('red heeler dog', 'kyra')"
      ],
      "execution_count": 4,
      "outputs": [
        {
          "output_type": "stream",
          "text": [
            "\n",
            "I have a red heeler dog.\n",
            "My red heeler dog's name is Kyra.\n"
          ],
          "name": "stdout"
        }
      ]
    },
    {
      "cell_type": "code",
      "metadata": {
        "id": "OhQoKY1Bdj7V"
      },
      "source": [
        "animais = ['cat', 'dog', 'bird', 'fish', 'cat']\r\n",
        "nomes = ['juninho', 'kyra', 'tunico', 'peixe', 'cinzento']"
      ],
      "execution_count": 8,
      "outputs": []
    },
    {
      "cell_type": "code",
      "metadata": {
        "colab": {
          "base_uri": "https://localhost:8080/"
        },
        "id": "9ANpSj9bedhK",
        "outputId": "f9d1705a-8d61-482f-9adc-107119f9331f"
      },
      "source": [
        "def get_formatted_name(first_name, last_name):\r\n",
        "  '''Devolve um nome completo formatado de modo elegante'''\r\n",
        "  full_name = first_name + ' ' + last_name\r\n",
        "  return full_name.title()\r\n",
        "\r\n",
        "musician = get_formatted_name('jimi', 'hendrix')\r\n",
        "print(musician)"
      ],
      "execution_count": 10,
      "outputs": [
        {
          "output_type": "stream",
          "text": [
            "Jimi Hendrix\n"
          ],
          "name": "stdout"
        }
      ]
    },
    {
      "cell_type": "code",
      "metadata": {
        "colab": {
          "base_uri": "https://localhost:8080/"
        },
        "id": "zML0rCpMiGCT",
        "outputId": "84e81676-3afd-4293-fe6f-b6da13439382"
      },
      "source": [
        "def get_formatted_name(first_name, middle_name, last_name):\r\n",
        "  '''Devolve um nome completo formatado de modo elegante.'''\r\n",
        "  full_name = first_name + ' ' + middle_name + ' ' + last_name\r\n",
        "  return full_name.title()\r\n",
        "\r\n",
        "musician = get_formatted_name('john', 'lee', 'hooker')\r\n",
        "print(musician)"
      ],
      "execution_count": 11,
      "outputs": [
        {
          "output_type": "stream",
          "text": [
            "John Lee Hooker\n"
          ],
          "name": "stdout"
        }
      ]
    },
    {
      "cell_type": "code",
      "metadata": {
        "colab": {
          "base_uri": "https://localhost:8080/"
        },
        "id": "JX7S5S5aits8",
        "outputId": "d8ca791a-f081-4dd3-efd3-c3811bf6751b"
      },
      "source": [
        "def get_formatted_name(first_name, last_name, middle_name=''):\r\n",
        "  '''Devolve um nome completo formatado de modo elegante.'''\r\n",
        "  if middle_name:\r\n",
        "    full_name = first_name + ' ' + middle_name + ' ' + last_name\r\n",
        "  else:\r\n",
        "    full_name = first_name + ' ' + last_name\r\n",
        "  return full_name.title()\r\n",
        "\r\n",
        "musician_1 = get_formatted_name('john', 'lee', 'hooker')\r\n",
        "print(musician_1)\r\n",
        "\r\n",
        "musician_2 = get_formatted_name('jimi', 'hendrix')\r\n",
        "print(musician_2)"
      ],
      "execution_count": 12,
      "outputs": [
        {
          "output_type": "stream",
          "text": [
            "John Hooker Lee\n",
            "Jimi Hendrix\n"
          ],
          "name": "stdout"
        }
      ]
    },
    {
      "cell_type": "code",
      "metadata": {
        "colab": {
          "base_uri": "https://localhost:8080/"
        },
        "id": "dgAoU4qBjlHD",
        "outputId": "a773b2b3-02fa-4521-d5b9-3903d532f053"
      },
      "source": [
        "def build_person(first_name, last_name):\r\n",
        "  '''Devolve um dict com informações sobre uma pessoa.'''\r\n",
        "  person = {'first': first_name,\r\n",
        "            'last': last_name}\r\n",
        "  return person\r\n",
        "\r\n",
        "musician = build_person('Angus', 'Young')\r\n",
        "print(musician)"
      ],
      "execution_count": 13,
      "outputs": [
        {
          "output_type": "stream",
          "text": [
            "{'first': 'Angus', 'last': 'Young'}\n"
          ],
          "name": "stdout"
        }
      ]
    },
    {
      "cell_type": "code",
      "metadata": {
        "colab": {
          "base_uri": "https://localhost:8080/"
        },
        "id": "4JAEj3D6kJVK",
        "outputId": "74bbec58-05f5-429a-ec2d-f80c5e68fac0"
      },
      "source": [
        "def build_person(first_name, last_name, age=''):\r\n",
        "  '''Devolve um dict com informações sobre uma pessoa.'''\r\n",
        "  person = {'first': first_name,\r\n",
        "            'last': last_name}\r\n",
        "  if age:\r\n",
        "    person['age'] = age\r\n",
        "  return person\r\n",
        "\r\n",
        "musician = build_person('Angus', 'Young', age=68)\r\n",
        "print(musician)"
      ],
      "execution_count": 14,
      "outputs": [
        {
          "output_type": "stream",
          "text": [
            "{'first': 'Angus', 'last': 'Young', 'age': 68}\n"
          ],
          "name": "stdout"
        }
      ]
    },
    {
      "cell_type": "code",
      "metadata": {
        "colab": {
          "base_uri": "https://localhost:8080/"
        },
        "id": "2QSVmlUFkZfc",
        "outputId": "481178a5-b2ac-4b6a-da0d-b5dd7d256b46"
      },
      "source": [
        "def get_formatted_name(first_name, last_name, middle_name=''):\r\n",
        "  '''Devolve um nome completo formatado de modo elegante.'''\r\n",
        "  if middle_name:\r\n",
        "    full_name = first_name + ' ' + middle_name + ' ' + last_name\r\n",
        "  else:\r\n",
        "    full_name = first_name + ' ' + last_name\r\n",
        "  return full_name.title()\r\n",
        "\r\n",
        "while True:\r\n",
        "  print('\\nPlease tell me your name: ')\r\n",
        "  f_name = input('First name: ')\r\n",
        "  l_name = input('Last name: ')\r\n",
        "\r\n",
        "  formatted_name = get_formatted_name(f_name, l_name)\r\n",
        "  print('\\nHello, ' + formatted_name + '!')\r\n",
        "  break\r\n"
      ],
      "execution_count": 16,
      "outputs": [
        {
          "output_type": "stream",
          "text": [
            "\n",
            "Please tell me your name: \n",
            "First name: alfredo\n",
            "Last name: morais\n",
            "\n",
            "Hello, Alfredo Morais!\n"
          ],
          "name": "stdout"
        }
      ]
    },
    {
      "cell_type": "code",
      "metadata": {
        "colab": {
          "base_uri": "https://localhost:8080/"
        },
        "id": "qWXql2WAry04",
        "outputId": "d88a8b68-a73e-41d3-dc93-62e0d7027166"
      },
      "source": [
        "#Começa com alguns designs que devem ser impressos\r\n",
        "unprinted_designs = ['iphone case', 'robot pendant', 'dodecahedron']\r\n",
        "completed_models = []\r\n",
        "\r\n",
        "#Simula a impressão de cada design, até que não haja mais nenhum\r\n",
        "#Transfere cada design para completed_models após a impressão\r\n",
        "while unprinted_designs:\r\n",
        "  current_design = unprinted_designs.pop()\r\n",
        "\r\n",
        "  #Simula a criação de uma impressão 3D a partir do design\r\n",
        "  print('Printing model: ' + current_design)\r\n",
        "  completed_models.append(current_design)\r\n",
        "\r\n",
        "#Exibe todos os modelos finalizados\r\n",
        "print('\\nThe following models have been printed: ')\r\n",
        "for completed_model in completed_models:\r\n",
        "  print(completed_model)"
      ],
      "execution_count": 17,
      "outputs": [
        {
          "output_type": "stream",
          "text": [
            "Printing model: dodecahedron\n",
            "Printing model: robot pendant\n",
            "Printing model: iphone case\n",
            "\n",
            "The following models have been printed: \n",
            "dodecahedron\n",
            "robot pendant\n",
            "iphone case\n"
          ],
          "name": "stdout"
        }
      ]
    }
  ]
}