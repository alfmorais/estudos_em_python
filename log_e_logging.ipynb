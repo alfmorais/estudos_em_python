{
  "nbformat": 4,
  "nbformat_minor": 0,
  "metadata": {
    "colab": {
      "name": "Untitled56.ipynb",
      "provenance": [],
      "authorship_tag": "ABX9TyP4uxx+8Mel8XmMb1KBYkvD",
      "include_colab_link": true
    },
    "kernelspec": {
      "name": "python3",
      "display_name": "Python 3"
    }
  },
  "cells": [
    {
      "cell_type": "markdown",
      "metadata": {
        "id": "view-in-github",
        "colab_type": "text"
      },
      "source": [
        "<a href=\"https://colab.research.google.com/github/alfmorais/estudos_em_python/blob/main/log_e_logging.ipynb\" target=\"_parent\"><img src=\"https://colab.research.google.com/assets/colab-badge.svg\" alt=\"Open In Colab\"/></a>"
      ]
    },
    {
      "cell_type": "markdown",
      "metadata": {
        "id": "p5xqhtdowASE"
      },
      "source": [
        "LOG E LOGGING\r\n",
        "\r\n",
        "Nesta aula iremos aprender logging para manter um histórico dos acontecimentos em suas aplicações. \r\n",
        "\r\n",
        "Aula 5 - Curso DEV APRENDER\r\n"
      ]
    },
    {
      "cell_type": "code",
      "metadata": {
        "colab": {
          "base_uri": "https://localhost:8080/"
        },
        "id": "OaZehQHSwQst",
        "outputId": "959c6a2d-3190-4cfe-a220-65ac804c3e32"
      },
      "source": [
        "# Logging \r\n",
        "\r\n",
        "import logging\r\n",
        "\r\n",
        "logging.critical('Logging nível critical.')\r\n",
        "\r\n",
        "'''\r\n",
        "Tipos de Logging\r\n",
        "DEBUG - só estou informando informações para desenvolvedores\r\n",
        "INFO - só quero informar algo que está acontecendo no programa, mas que não é um erro\r\n",
        "WARNING - quero alertar dobre algo que está acontecendo, possivelmente fora do esperado, porém ainda não é um erro mais pode gerar futuramente\r\n",
        "ERROR - um erro ocorreu na aplicação\r\n",
        "CRITICAL - um erro com consequências graves acaba de ocorrer na aplicação\r\n",
        "'''"
      ],
      "execution_count": 1,
      "outputs": [
        {
          "output_type": "stream",
          "text": [
            "CRITICAL:root:Logging nível critical.\n"
          ],
          "name": "stderr"
        }
      ]
    },
    {
      "cell_type": "code",
      "metadata": {
        "colab": {
          "base_uri": "https://localhost:8080/"
        },
        "id": "HOvNZPp7w3Lv",
        "outputId": "a86824d1-33ee-4c41-adcb-5907ea5b0b05"
      },
      "source": [
        "# setar parametro level\r\n",
        "logging.basicConfig(level=logging.DEBUG,filename='app.log', filemode='a',format='%(levelname)s - %(message)s')\r\n",
        "logging.debug('Logging nível debug.')\r\n",
        "logging.info('Logging nível info.')\r\n",
        "logging.warning('Logging nível warning.')\r\n",
        "logging.error('Logging nível error.')\r\n",
        "logging.critical('Logging nível critical.')"
      ],
      "execution_count": 10,
      "outputs": [
        {
          "output_type": "stream",
          "text": [
            "WARNING:root:Logging nível warning.\n",
            "ERROR:root:Logging nível error.\n",
            "CRITICAL:root:Logging nível critical.\n"
          ],
          "name": "stderr"
        }
      ]
    },
    {
      "cell_type": "code",
      "metadata": {
        "id": "Kg99NmCjx9oO"
      },
      "source": [
        ""
      ],
      "execution_count": null,
      "outputs": []
    }
  ]
}