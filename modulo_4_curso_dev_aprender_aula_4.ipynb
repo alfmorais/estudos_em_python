{
  "nbformat": 4,
  "nbformat_minor": 0,
  "metadata": {
    "colab": {
      "name": "Untitled22.ipynb",
      "provenance": [],
      "collapsed_sections": [],
      "authorship_tag": "ABX9TyP22TNiPagIiT/ZtfD5Pam4",
      "include_colab_link": true
    },
    "kernelspec": {
      "name": "python3",
      "display_name": "Python 3"
    }
  },
  "cells": [
    {
      "cell_type": "markdown",
      "metadata": {
        "id": "view-in-github",
        "colab_type": "text"
      },
      "source": [
        "<a href=\"https://colab.research.google.com/github/alfmorais/google_colaboratory/blob/main/modulo_4_curso_dev_aprender_aula_4.ipynb\" target=\"_parent\"><img src=\"https://colab.research.google.com/assets/colab-badge.svg\" alt=\"Open In Colab\"/></a>"
      ]
    },
    {
      "cell_type": "code",
      "metadata": {
        "id": "Dd6rZXzemxG0"
      },
      "source": [
        "# Processar VS Retornar\r\n",
        "# Função que apenas processa dados\r\n",
        "# print('Olá')\r\n",
        "\r\n",
        "# Funções que retorna dados\r\n",
        "# cidade = input('Qual é a sua cidade?')\r\n",
        "\r\n",
        "# Como escolher entre funções que processam VS retornam dados?\r\n",
        "'''Eu vou precisar de usar essa informação na lógica do meu programa ainda?'''\r\n",
        "'''Ou só preciso processar esse dado, mas não irei utilizar mais ele depois?'''\r\n",
        "\r\n",
        "def exibir_cotacao_do_dia(moeda):\r\n",
        "  if moeda == 'usd':\r\n",
        "    print(5.47)\r\n",
        "\r\n",
        "def obter_cotacao_do_dia(moeda):\r\n",
        "  if moeda == 'usd':\r\n",
        "    return 5.47\r\n"
      ],
      "execution_count": 2,
      "outputs": []
    },
    {
      "cell_type": "code",
      "metadata": {
        "id": "jEYFjusUoOdP"
      },
      "source": [
        "cotacao = obter_cotacao_do_dia('usd')\r\n",
        "\r\n",
        "if cotacao > 5:\r\n",
        "  print('Investir em ações Americanas')\r\n",
        "else:\r\n",
        "  print('Não investir em ações Americanas')"
      ],
      "execution_count": null,
      "outputs": []
    },
    {
      "cell_type": "code",
      "metadata": {
        "colab": {
          "base_uri": "https://localhost:8080/"
        },
        "id": "z7C20QPZosx1",
        "outputId": "d3459c33-d20b-482e-9494-1e29f7cc6df7"
      },
      "source": [
        "# Argumentos Posicionais VS Argumentos Nomeados\r\n",
        "def exibir_preco(nome_produto, preco):\r\n",
        "  print(f'{nome_produto} está no preço de: R$ {preco}')\r\n",
        "\r\n",
        "# Argumentos Posicionais\r\n",
        "exibir_preco('Iphone', 5000)\r\n",
        "\r\n",
        "# Argumento Nomeados\r\n",
        "exibir_preco(nome_produto='Iphone', preco=5000)\r\n",
        "\r\n",
        "# Argumento fora de ordem\r\n",
        "exibir_preco(5000, 'Iphone')"
      ],
      "execution_count": 4,
      "outputs": [
        {
          "output_type": "stream",
          "text": [
            "Iphone está no preço de: R$ 5000\n",
            "Iphone está no preço de: R$ 5000\n",
            "5000 está no preço de: R$ Iphone\n"
          ],
          "name": "stdout"
        }
      ]
    },
    {
      "cell_type": "code",
      "metadata": {
        "id": "UH1O60W1qHJg"
      },
      "source": [
        "'''\r\n",
        "DESAFIO 1\r\n",
        "\r\n",
        "Crie uma função chamada gerar_objeto_personalizado que irá receber 3\r\n",
        "parâmetros, cor, altura, formato. A sua função deve apenas imprimir o que\r\n",
        "foi passado para ela, nada mais, nada menos. Porém ela deve seguir as seguintes\r\n",
        "regras:\r\n",
        "\r\n",
        "1) O primeiro argumento deve ser posicional\r\n",
        "2) Os algumentos altura e formato precisa Obrigatoriamente serem nomeados\r\n",
        "'''\r\n"
      ],
      "execution_count": null,
      "outputs": []
    },
    {
      "cell_type": "markdown",
      "metadata": {
        "id": "AWHYegA4q6MV"
      },
      "source": [
        ""
      ]
    },
    {
      "cell_type": "code",
      "metadata": {
        "colab": {
          "base_uri": "https://localhost:8080/"
        },
        "id": "xdNu2I1Oq_AR",
        "outputId": "d6ba7f68-d876-4407-9f61-8a0d6d67755c"
      },
      "source": [
        "def gerar_objeto_personalizado(cor,*,altura, formato):\r\n",
        "  print(cor)\r\n",
        "  print(altura)\r\n",
        "  print(formato)\r\n",
        "\r\n",
        "gerar_objeto_personalizado('azul', altura=1.7, formato='quadrado')"
      ],
      "execution_count": 7,
      "outputs": [
        {
          "output_type": "stream",
          "text": [
            "azul\n",
            "1.7\n",
            "quadrado\n"
          ],
          "name": "stdout"
        }
      ]
    },
    {
      "cell_type": "markdown",
      "metadata": {
        "id": "CshLO0x3p2OL"
      },
      "source": [
        ""
      ]
    }
  ]
}