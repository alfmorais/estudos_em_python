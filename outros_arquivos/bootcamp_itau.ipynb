{
  "nbformat": 4,
  "nbformat_minor": 0,
  "metadata": {
    "colab": {
      "name": "Untitled111.ipynb",
      "provenance": [],
      "authorship_tag": "ABX9TyNZDG3M+emxsAhUQl6BU+8t",
      "include_colab_link": true
    },
    "kernelspec": {
      "name": "python3",
      "display_name": "Python 3"
    },
    "language_info": {
      "name": "python"
    }
  },
  "cells": [
    {
      "cell_type": "markdown",
      "metadata": {
        "id": "view-in-github",
        "colab_type": "text"
      },
      "source": [
        "<a href=\"https://colab.research.google.com/github/alfmorais/estudos_em_python/blob/main/outros_arquivos/bootcamp_itau.ipynb\" target=\"_parent\"><img src=\"https://colab.research.google.com/assets/colab-badge.svg\" alt=\"Open In Colab\"/></a>"
      ]
    },
    {
      "cell_type": "code",
      "metadata": {
        "id": "K8MVRlu3aJtp"
      },
      "source": [
        "def funcao(x):\n",
        "  if x > 10:\n",
        "    y = x * x\n",
        "    print(y)\n",
        "  else:\n",
        "    print('Impossivel Calcular')"
      ],
      "execution_count": 2,
      "outputs": []
    },
    {
      "cell_type": "code",
      "metadata": {
        "colab": {
          "base_uri": "https://localhost:8080/"
        },
        "id": "_ghxn-D5lFh1",
        "outputId": "83e06b84-2e8b-4eaa-aba0-173420150167"
      },
      "source": [
        "funcao(10)\n",
        "funcao(20)"
      ],
      "execution_count": 3,
      "outputs": [
        {
          "output_type": "stream",
          "text": [
            "Impossivel Calcular\n",
            "400\n"
          ],
          "name": "stdout"
        }
      ]
    },
    {
      "cell_type": "code",
      "metadata": {
        "colab": {
          "base_uri": "https://localhost:8080/"
        },
        "id": "sHH6A5pKlPgG",
        "outputId": "3fb71cb0-0875-41c1-a161-d85629b0f866"
      },
      "source": [
        "a = int(input('Digite A: '))\n",
        "b = 0\n",
        "c = 1\n",
        "\n",
        "while a != 0:\n",
        "  b = b + 1\n",
        "  c = c * 2\n",
        "  a = a - 1\n",
        "\n",
        "print(a, b, c)"
      ],
      "execution_count": 5,
      "outputs": [
        {
          "output_type": "stream",
          "text": [
            "Digite A: 5\n",
            "0 5 32\n"
          ],
          "name": "stdout"
        }
      ]
    },
    {
      "cell_type": "code",
      "metadata": {
        "colab": {
          "base_uri": "https://localhost:8080/"
        },
        "id": "ev4TPECPlz3R",
        "outputId": "e062142d-d869-4983-9f62-dd5f8975c358"
      },
      "source": [
        "p = 0\n",
        "i = 0\n",
        "\n",
        "num = int(input('Digite num: '))\n",
        "\n",
        "while num > 0:\n",
        "  if num % 2 == 0:\n",
        "    p = p + 1\n",
        "  else:\n",
        "    i = i + 1\n",
        "  num = num - 1\n",
        "\n",
        "print(f'{p}, {i}')"
      ],
      "execution_count": 10,
      "outputs": [
        {
          "output_type": "stream",
          "text": [
            "Digite num: 9\n",
            "4, 5\n"
          ],
          "name": "stdout"
        }
      ]
    },
    {
      "cell_type": "code",
      "metadata": {
        "colab": {
          "base_uri": "https://localhost:8080/"
        },
        "id": "Oglg2hKbnDU3",
        "outputId": "711735cc-4fe6-43f2-f05d-f108f261b670"
      },
      "source": [
        "a = 2\n",
        "\n",
        "while a < 1000:\n",
        "  a = a * 2\n",
        "  print(a)\n"
      ],
      "execution_count": 7,
      "outputs": [
        {
          "output_type": "stream",
          "text": [
            "4\n",
            "8\n",
            "16\n",
            "32\n",
            "64\n",
            "128\n",
            "256\n",
            "512\n",
            "1024\n"
          ],
          "name": "stdout"
        }
      ]
    },
    {
      "cell_type": "markdown",
      "metadata": {
        "id": "sUtqy81Ul1Bd"
      },
      "source": [
        "INICIO\n",
        "\n",
        "declare NUM, P, I\n",
        "\n",
        "leia (NUM)\n",
        "\n",
        "P = 0\n",
        "\n",
        "I = 0\n",
        "\n",
        "enquanto (NUM > 0) faça\n",
        "\n",
        "se (NUM % 2 == 0) entao\n",
        "\n",
        "P = P +1\n",
        "\n",
        "senao\n",
        "\n",
        "I = I + 1\n",
        "\n",
        "fim-se\n",
        "\n",
        "NUM = NUM - 1\n",
        "\n",
        "fim-enquanto\n",
        "\n",
        "escreva (P)\n",
        "\n",
        "escreva (I)\n",
        "\n",
        "FIM"
      ]
    }
  ]
}