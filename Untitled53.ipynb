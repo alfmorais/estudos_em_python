{
  "nbformat": 4,
  "nbformat_minor": 0,
  "metadata": {
    "colab": {
      "name": "Untitled53.ipynb",
      "provenance": [],
      "authorship_tag": "ABX9TyPZU7Tmr/wYbZzrFATsm9rC",
      "include_colab_link": true
    },
    "kernelspec": {
      "name": "python3",
      "display_name": "Python 3"
    }
  },
  "cells": [
    {
      "cell_type": "markdown",
      "metadata": {
        "id": "view-in-github",
        "colab_type": "text"
      },
      "source": [
        "<a href=\"https://colab.research.google.com/github/alfmorais/estudos_em_python/blob/main/Untitled53.ipynb\" target=\"_parent\"><img src=\"https://colab.research.google.com/assets/colab-badge.svg\" alt=\"Open In Colab\"/></a>"
      ]
    },
    {
      "cell_type": "code",
      "metadata": {
        "id": "PdqVTX2-aRIE"
      },
      "source": [
        "# O que fazer quando coisas dão errado\r\n",
        "\r\n",
        "valor = int(input('Digite um valor em moeda USD: '))\r\n",
        "print(valor * 5.25)"
      ],
      "execution_count": null,
      "outputs": []
    },
    {
      "cell_type": "code",
      "metadata": {
        "colab": {
          "base_uri": "https://localhost:8080/"
        },
        "id": "eXe0-s7tfI9G",
        "outputId": "efe74bae-31f8-4456-bfc8-e63f40db4777"
      },
      "source": [
        "try:\r\n",
        "  valor = int(input('Digite um valor em moeda USD: '))\r\n",
        "  print(valor * 5.25)\r\n",
        "except:\r\n",
        "  print('Favor digitar apenas números.')"
      ],
      "execution_count": 2,
      "outputs": [
        {
          "output_type": "stream",
          "text": [
            "Digite um valor em moeda USD: vinte\n",
            "Favor digitar apenas números.\n"
          ],
          "name": "stdout"
        }
      ]
    },
    {
      "cell_type": "code",
      "metadata": {
        "colab": {
          "base_uri": "https://localhost:8080/"
        },
        "id": "_4DeNhyifmWE",
        "outputId": "c74a1f75-4331-44bd-bd03-d5396367f2fb"
      },
      "source": [
        "# Não decore exceções, faça isso.\r\n",
        "\r\n",
        "meses = list(range(1, 13, 1))\r\n",
        "print(meses)"
      ],
      "execution_count": 4,
      "outputs": [
        {
          "output_type": "stream",
          "text": [
            "[1, 2, 3, 4, 5, 6, 7, 8, 9, 10, 11, 12]\n"
          ],
          "name": "stdout"
        }
      ]
    },
    {
      "cell_type": "code",
      "metadata": {
        "colab": {
          "base_uri": "https://localhost:8080/"
        },
        "id": "l608yiOPfmsV",
        "outputId": "e54dda6a-7f5f-48de-df1b-660e923b129b"
      },
      "source": [
        "try:\r\n",
        "  print(meses[15])\r\n",
        "except IndexError as erro:\r\n",
        "  print('Por favor assesar um indice válido')\r\n",
        "  print(erro)"
      ],
      "execution_count": 5,
      "outputs": [
        {
          "output_type": "stream",
          "text": [
            "Por favor assesar um indice válido\n",
            "list index out of range\n"
          ],
          "name": "stdout"
        }
      ]
    },
    {
      "cell_type": "code",
      "metadata": {
        "colab": {
          "base_uri": "https://localhost:8080/"
        },
        "id": "KC4j1i3Jfmyk",
        "outputId": "96bedfc5-2043-4bbb-df5c-6592e07973d3"
      },
      "source": [
        "# Finally! (Excute código mesmo em casos de erro)\r\n",
        "\r\n",
        "internet = None\r\n",
        "\r\n",
        "try:\r\n",
        "  print('Fazendo conexão com a ' + internet)\r\n",
        "except TypeError as erro:\r\n",
        "  print('Não há conexão com a internet.')\r\n",
        "finally:\r\n",
        "  print('Desfazendo a compra!')"
      ],
      "execution_count": 6,
      "outputs": [
        {
          "output_type": "stream",
          "text": [
            "Não há conexão com a internet.\n",
            "Desfazendo a compra!\n"
          ],
          "name": "stdout"
        }
      ]
    },
    {
      "cell_type": "code",
      "metadata": {
        "colab": {
          "base_uri": "https://localhost:8080/"
        },
        "id": "KZotTvU8fm7G",
        "outputId": "7c55ceba-55c3-4653-9d77-867ae34ef62a"
      },
      "source": [
        "valor = int(input('Digite um valor: '))\r\n",
        "\r\n",
        "try:\r\n",
        "  print(valor/0)\r\n",
        "\r\n",
        "except ZeroDivisionError as erro:\r\n",
        "  print('Divisão por ZERO não!')\r\n",
        "\r\n",
        "except ValueError:\r\n",
        "  print('Favor digitar apenas numero.')\r\n",
        "\r\n",
        "finally:\r\n",
        "  print('Operação Cancelada!')"
      ],
      "execution_count": 14,
      "outputs": [
        {
          "output_type": "stream",
          "text": [
            "Digite um valor: 5\n",
            "Divisão por ZERO não!\n",
            "Operação Cancelada!\n"
          ],
          "name": "stdout"
        }
      ]
    }
  ]
}