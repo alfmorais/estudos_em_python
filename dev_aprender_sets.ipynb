{
  "nbformat": 4,
  "nbformat_minor": 0,
  "metadata": {
    "colab": {
      "name": "Untitled52.ipynb",
      "provenance": [],
      "authorship_tag": "ABX9TyMKOaknGIMrdfr3dNlQdHUA",
      "include_colab_link": true
    },
    "kernelspec": {
      "name": "python3",
      "display_name": "Python 3"
    }
  },
  "cells": [
    {
      "cell_type": "markdown",
      "metadata": {
        "id": "view-in-github",
        "colab_type": "text"
      },
      "source": [
        "<a href=\"https://colab.research.google.com/github/alfmorais/estudos_em_python/blob/main/dev_aprender_sets.ipynb\" target=\"_parent\"><img src=\"https://colab.research.google.com/assets/colab-badge.svg\" alt=\"Open In Colab\"/></a>"
      ]
    },
    {
      "cell_type": "code",
      "metadata": {
        "colab": {
          "base_uri": "https://localhost:8080/"
        },
        "id": "OSCNT_C8SHnW",
        "outputId": "b41fdc93-bbae-4987-e337-6b3db05212c9"
      },
      "source": [
        "# Aprendendo sobre SETS\r\n",
        "\r\n",
        "numeros = [2, 2, 5, 8]\r\n",
        "frutas = {'maça', 'uva', 'banana', 'maça', 'morango'}\r\n",
        "\r\n",
        "set_numeros = set(numeros)\r\n",
        "set_frutas = set(frutas)\r\n",
        "\r\n",
        "print(set_numeros)\r\n",
        "print(set_frutas)"
      ],
      "execution_count": 1,
      "outputs": [
        {
          "output_type": "stream",
          "text": [
            "{8, 2, 5}\n",
            "{'maça', 'morango', 'banana', 'uva'}\n"
          ],
          "name": "stdout"
        }
      ]
    },
    {
      "cell_type": "code",
      "metadata": {
        "colab": {
          "base_uri": "https://localhost:8080/"
        },
        "id": "ZPd-RupDZQcH",
        "outputId": "282ab981-b255-4660-fae2-ad40c3593d43"
      },
      "source": [
        "set_numeros.add(10)\r\n",
        "print(set_numeros)"
      ],
      "execution_count": 2,
      "outputs": [
        {
          "output_type": "stream",
          "text": [
            "{8, 2, 10, 5}\n"
          ],
          "name": "stdout"
        }
      ]
    },
    {
      "cell_type": "code",
      "metadata": {
        "colab": {
          "base_uri": "https://localhost:8080/"
        },
        "id": "Rt4L1aMiZdf-",
        "outputId": "f7ac1eb1-6df9-4e46-c63d-fe63ce453167"
      },
      "source": [
        "# Conjuntos\r\n",
        "numeros1 = [2, 2, 5, 8]\r\n",
        "numeros2 = [2, 2, 3, 9]\r\n",
        "\r\n",
        "a = set(numeros1)\r\n",
        "b = set(numeros2)\r\n",
        "\r\n",
        "print(a.symmetric_difference(b))\r\n",
        "print(a.intersection(b))\r\n",
        "print(a.union(b))"
      ],
      "execution_count": 6,
      "outputs": [
        {
          "output_type": "stream",
          "text": [
            "{3, 5, 8, 9}\n",
            "{2}\n",
            "{2, 3, 5, 8, 9}\n"
          ],
          "name": "stdout"
        }
      ]
    }
  ]
}