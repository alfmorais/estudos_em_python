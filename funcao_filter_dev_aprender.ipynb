{
  "nbformat": 4,
  "nbformat_minor": 0,
  "metadata": {
    "colab": {
      "name": "Untitled39.ipynb",
      "provenance": [],
      "authorship_tag": "ABX9TyOfY4bV6xwuio3MHGiWn7Ff",
      "include_colab_link": true
    },
    "kernelspec": {
      "name": "python3",
      "display_name": "Python 3"
    }
  },
  "cells": [
    {
      "cell_type": "markdown",
      "metadata": {
        "id": "view-in-github",
        "colab_type": "text"
      },
      "source": [
        "<a href=\"https://colab.research.google.com/github/alfmorais/google_colaboratory/blob/main/funcao_filter_dev_aprender.ipynb\" target=\"_parent\"><img src=\"https://colab.research.google.com/assets/colab-badge.svg\" alt=\"Open In Colab\"/></a>"
      ]
    },
    {
      "cell_type": "code",
      "metadata": {
        "colab": {
          "base_uri": "https://localhost:8080/"
        },
        "id": "X0RxaspERola",
        "outputId": "e104eb28-8ca3-41bc-c173-46ed78ff79a8"
      },
      "source": [
        "# FUNÇÃO FILTER\r\n",
        "\r\n",
        "nomes = ['Larissa', 'Rafael', 'Marcos', 'John']\r\n",
        "\r\n",
        "def pessoa_aprovada(pessoa):\r\n",
        "  if pessoa == 'Marcos':\r\n",
        "    return True\r\n",
        "  else:\r\n",
        "    return False\r\n",
        "\r\n",
        "print(list(filter(pessoa_aprovada, nomes)))\r\n",
        "print(list(map(pessoa_aprovada, nomes)))"
      ],
      "execution_count": 1,
      "outputs": [
        {
          "output_type": "stream",
          "text": [
            "['Marcos']\n",
            "[False, False, True, False]\n"
          ],
          "name": "stdout"
        }
      ]
    },
    {
      "cell_type": "code",
      "metadata": {
        "colab": {
          "base_uri": "https://localhost:8080/"
        },
        "id": "nhGZZUlgUW7n",
        "outputId": "1f20d01a-2234-4a72-eb6c-30a5f22c3199"
      },
      "source": [
        "pinturas = [\r\n",
        "            ['Pintura Clássica', 'Azul', 1857],\r\n",
        "            ['Pintura Medieval', 'Vermelha', 1867],\r\n",
        "            ['Pintura Moderna', 'Verde', 1897]\r\n",
        "]\r\n",
        "\r\n",
        "def antiguidade(pintura):\r\n",
        "  if pintura[2] < 1890:\r\n",
        "    return True\r\n",
        "  else:\r\n",
        "    return False\r\n",
        "\r\n",
        "print(list(filter(antiguidade, pinturas)))\r\n",
        "print(list(map(antiguidade, pinturas)))"
      ],
      "execution_count": 6,
      "outputs": [
        {
          "output_type": "stream",
          "text": [
            "[['Pintura Clássica', 'Azul', 1857], ['Pintura Medieval', 'Vermelha', 1867]]\n",
            "[True, True, False]\n"
          ],
          "name": "stdout"
        }
      ]
    },
    {
      "cell_type": "code",
      "metadata": {
        "colab": {
          "base_uri": "https://localhost:8080/"
        },
        "id": "WgTpytpRVYW1",
        "outputId": "e07e5b14-a008-480e-b272-23168d02d713"
      },
      "source": [
        "'''\r\n",
        "DESAFIO 1\r\n",
        "\r\n",
        "Usando a lista abaixo, filtre apenas as vafas com salario acima de R$ 2500,00\r\n",
        "'''\r\n",
        "\r\n",
        "vagas = [\r\n",
        "         ['Vaga_1', 1200],\r\n",
        "         ['Vaga_2', 1500],\r\n",
        "         ['Vaga_3', 3500],\r\n",
        "         ['Vaga_4', 4520],\r\n",
        "         ['Vaga_5', 5896],\r\n",
        "         ['Vaga_6', 1500],\r\n",
        "         ['Vaga_7', 1000],\r\n",
        "         ['Vaga_8', 1985],\r\n",
        "]\r\n",
        "\r\n",
        "def salario(vaga):\r\n",
        "  if vaga[1] > 2500:\r\n",
        "    return True\r\n",
        "  else:\r\n",
        "    return False\r\n",
        "\r\n",
        "print(list(filter(salario, vagas)))\r\n",
        "print(list(map(salario, vagas)))\r\n"
      ],
      "execution_count": 8,
      "outputs": [
        {
          "output_type": "stream",
          "text": [
            "[['Vaga_3', 3500], ['Vaga_4', 4520], ['Vaga_5', 5896]]\n",
            "[False, False, True, True, True, False, False, False]\n"
          ],
          "name": "stdout"
        }
      ]
    }
  ]
}