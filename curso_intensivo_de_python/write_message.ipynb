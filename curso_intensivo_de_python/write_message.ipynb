{
  "nbformat": 4,
  "nbformat_minor": 0,
  "metadata": {
    "colab": {
      "name": "Untitled48.ipynb",
      "provenance": [],
      "authorship_tag": "ABX9TyMtOqOiKUN/4s4sQzJCVHmP",
      "include_colab_link": true
    },
    "kernelspec": {
      "name": "python3",
      "display_name": "Python 3"
    }
  },
  "cells": [
    {
      "cell_type": "markdown",
      "metadata": {
        "id": "view-in-github",
        "colab_type": "text"
      },
      "source": [
        "<a href=\"https://colab.research.google.com/github/alfmorais/estudos_em_python/blob/main/write_message.ipynb\" target=\"_parent\"><img src=\"https://colab.research.google.com/assets/colab-badge.svg\" alt=\"Open In Colab\"/></a>"
      ]
    },
    {
      "cell_type": "code",
      "metadata": {
        "colab": {
          "base_uri": "https://localhost:8080/"
        },
        "id": "1acTyIqZk3ny",
        "outputId": "d9932b58-ee78-4f05-8aa6-4d1ebb0711fe"
      },
      "source": [
        "# Criando um arquivo\r\n",
        "filename = 'programming.txt'\r\n",
        "\r\n",
        "# Abrindo o arquivo como escrita e acrescentando duas strings\r\n",
        "with open(filename, 'w') as file_object:\r\n",
        "  file_object.write('I love programming.\\n')\r\n",
        "  file_object.write('I love creating new games.\\n')\r\n",
        "\r\n",
        "# Abrindo o arquivo como modo de concatenando dados e acrescentando duas strings\r\n",
        "with open(filename, 'a') as file_object:\r\n",
        "  file_object.write('I also love finding meaning in large datasets.\\n')\r\n",
        "  file_object.write('I love creating apps that can run in a browser.\\n')\r\n",
        "\r\n",
        "# Abrindo o arquivo como leitura e lendo o objetos\r\n",
        "with open(filename, 'r') as file_object:\r\n",
        "  for linha in file_object:\r\n",
        "    print(linha)"
      ],
      "execution_count": 2,
      "outputs": [
        {
          "output_type": "stream",
          "text": [
            "I love programming.\n",
            "\n",
            "I love creating new games.\n",
            "\n",
            "I also love finding meaning in large datasets.\n",
            "\n",
            "I love creating apps that can run in a browser.\n",
            "\n"
          ],
          "name": "stdout"
        }
      ]
    }
  ]
}
