{
  "nbformat": 4,
  "nbformat_minor": 0,
  "metadata": {
    "colab": {
      "name": "Untitled18.ipynb",
      "provenance": [],
      "authorship_tag": "ABX9TyNvunm+cVnLW9Whf0/7ZL5o",
      "include_colab_link": true
    },
    "kernelspec": {
      "name": "python3",
      "display_name": "Python 3"
    }
  },
  "cells": [
    {
      "cell_type": "markdown",
      "metadata": {
        "id": "view-in-github",
        "colab_type": "text"
      },
      "source": [
        "<a href=\"https://colab.research.google.com/github/alfmorais/google_colaboratory/blob/main/dict.ipynb\" target=\"_parent\"><img src=\"https://colab.research.google.com/assets/colab-badge.svg\" alt=\"Open In Colab\"/></a>"
      ]
    },
    {
      "cell_type": "code",
      "metadata": {
        "colab": {
          "base_uri": "https://localhost:8080/"
        },
        "id": "sP3C8WLtlNfk",
        "outputId": "89bda457-9a1a-48e0-9a92-4ef9a540be6b"
      },
      "source": [
        "alien_0 = {'color': 'green'}\r\n",
        "print('The alien is ' + alien_0['color'] + '.')\r\n",
        "\r\n",
        "alien_0['color'] = 'yellow'\r\n",
        "print('The alien is now ' + alien_0['color'] + '.')"
      ],
      "execution_count": 1,
      "outputs": [
        {
          "output_type": "stream",
          "text": [
            "The alien is green.\n",
            "The alien is now yellow.\n"
          ],
          "name": "stdout"
        }
      ]
    },
    {
      "cell_type": "code",
      "metadata": {
        "colab": {
          "base_uri": "https://localhost:8080/"
        },
        "id": "bVLfqfIYlyz0",
        "outputId": "d2e39cfe-1416-4831-f11c-4c51f485b4f7"
      },
      "source": [
        "alien_0 = {'x_position': 0, 'y_position': 25, 'speed': 'medium'}\r\n",
        "print('Original x-position: ' + str(alien_0['x_position']))\r\n",
        "\r\n",
        "# Move o alienígena para a direita\r\n",
        "# Determina a distância que o alienígena deve ser deslocar de acordo com sua\r\n",
        "# velocidade atual\r\n",
        "\r\n",
        "if alien_0['speed'] == 'slow':\r\n",
        "  x_increment = 1\r\n",
        "\r\n",
        "elif alien_0['speed'] == 'medium':\r\n",
        "  x_increment = 2\r\n",
        "\r\n",
        "else:\r\n",
        "  # Esse deve ser um alienígena rápido\r\n",
        "  x_increment = 3\r\n",
        "\r\n",
        "# A nova posição é a posição antiga somanda ao incremento \r\n",
        "alien_0['x_position'] = alien_0['x_position'] + x_increment\r\n",
        "print('New x-position: ' + str(alien_0['x_position']))"
      ],
      "execution_count": 2,
      "outputs": [
        {
          "output_type": "stream",
          "text": [
            "Original x-position: 0\n",
            "New x-position: 2\n"
          ],
          "name": "stdout"
        }
      ]
    },
    {
      "cell_type": "code",
      "metadata": {
        "colab": {
          "base_uri": "https://localhost:8080/"
        },
        "id": "EMpOyj7yoMEw",
        "outputId": "d67dd9fd-7c11-4e12-ab3a-9b18d6364e75"
      },
      "source": [
        "# Removendo pares de chave e valor\r\n",
        "\r\n",
        "alien_0 = {'color': 'green', 'points': 5}\r\n",
        "print(alien_0)\r\n",
        "\r\n",
        "del alien_0['points']\r\n",
        "print(alien_0)\r\n"
      ],
      "execution_count": 3,
      "outputs": [
        {
          "output_type": "stream",
          "text": [
            "{'color': 'green', 'points': 5}\n",
            "{'color': 'green'}\n"
          ],
          "name": "stdout"
        }
      ]
    },
    {
      "cell_type": "code",
      "metadata": {
        "colab": {
          "base_uri": "https://localhost:8080/"
        },
        "id": "o5_z2tljor37",
        "outputId": "b2a35fe7-200e-4f5d-8661-1ff49ae267fe"
      },
      "source": [
        "favorite_languages = {\r\n",
        "    'jen': 'python',\r\n",
        "    'sarah': 'c',\r\n",
        "    'edward': 'ruby',\r\n",
        "    'phill': 'python',\r\n",
        "}\r\n",
        "\r\n",
        "print('Sarah favorite language is ' + favorite_languages['sarah'].title() + '.')"
      ],
      "execution_count": 5,
      "outputs": [
        {
          "output_type": "stream",
          "text": [
            "Sarah favorite language is C.\n"
          ],
          "name": "stdout"
        }
      ]
    },
    {
      "cell_type": "code",
      "metadata": {
        "colab": {
          "base_uri": "https://localhost:8080/"
        },
        "id": "rHkex2cZzsaE",
        "outputId": "01a5f1c8-934b-4cbd-bef6-36d30fa17c95"
      },
      "source": [
        "personal_data = {\r\n",
        "    'firts_name': 'Alfredo',\r\n",
        "    'last_name': 'Morais',\r\n",
        "    'city': 'Americana',\r\n",
        "    'age': 28,\r\n",
        "}\r\n",
        "\r\n",
        "print('Esse é o ' + personal_data['firts_name'] + ' ' + \r\n",
        "      personal_data['last_name'] + ' mora em ' + personal_data['city'] + \r\n",
        "      ', tem ' + str(personal_data['age']) + ' anos.' +  \r\n",
        "      ' Ele está estudando para trabalhar na área de Desenvolvimento Python')"
      ],
      "execution_count": 11,
      "outputs": [
        {
          "output_type": "stream",
          "text": [
            "Esse é o Alfredo Morais mora em Americana, tem 28 anos. Ele está estudando para trabalhar na área de Desenvolvimento Python\n"
          ],
          "name": "stdout"
        }
      ]
    },
    {
      "cell_type": "code",
      "metadata": {
        "colab": {
          "base_uri": "https://localhost:8080/"
        },
        "id": "AoRiE3w21Tmg",
        "outputId": "182a3c98-43fe-4b03-c2e3-cf9fb709d12e"
      },
      "source": [
        "numeros_sortes = {\r\n",
        "    'Alfredo': '08',\r\n",
        "    'Denise': '10',\r\n",
        "    'Joaquim': '24',\r\n",
        "    'Vilma': '21',\r\n",
        "    'Viviane': '21',\r\n",
        "    'Derek': '14',\r\n",
        "    }\r\n",
        "\r\n",
        "for k, v in numeros_sortes.items():\r\n",
        "  print('Esse é o (a) ' + k + ' e o número da sorte é ' + v)\r\n"
      ],
      "execution_count": 17,
      "outputs": [
        {
          "output_type": "stream",
          "text": [
            "Esse é o (a) Alfredo e o número da sorte é 08\n",
            "Esse é o (a) Denise e o número da sorte é 10\n",
            "Esse é o (a) Joaquim e o número da sorte é 24\n",
            "Esse é o (a) Vilma e o número da sorte é 21\n",
            "Esse é o (a) Viviane e o número da sorte é 21\n",
            "Esse é o (a) Derek e o número da sorte é 14\n"
          ],
          "name": "stdout"
        }
      ]
    },
    {
      "cell_type": "code",
      "metadata": {
        "colab": {
          "base_uri": "https://localhost:8080/"
        },
        "id": "xQ1qaCV888z_",
        "outputId": "5fd1eabb-89cc-4a83-bad8-96294b867f89"
      },
      "source": [
        "user_0 = {\r\n",
        "    'username': 'efermi',\r\n",
        "    'first': 'enrico',\r\n",
        "    'last': 'fermi',\r\n",
        "}\r\n",
        "\r\n",
        "for key, value in user_0.items():\r\n",
        "  print('\\nKey: ' + key)\r\n",
        "  print('Value: ' + value)\r\n"
      ],
      "execution_count": 18,
      "outputs": [
        {
          "output_type": "stream",
          "text": [
            "\n",
            "Key: username\n",
            "Value: efermi\n",
            "\n",
            "Key: first\n",
            "Value: enrico\n",
            "\n",
            "Key: last\n",
            "Value: fermi\n"
          ],
          "name": "stdout"
        }
      ]
    },
    {
      "cell_type": "code",
      "metadata": {
        "colab": {
          "base_uri": "https://localhost:8080/"
        },
        "id": "zgd_7boC-CRL",
        "outputId": "bf046571-302e-4556-eb97-f2b46f5feb53"
      },
      "source": [
        "favorite_languages = {\r\n",
        "    'jen': 'python',\r\n",
        "    'sarah': 'c',\r\n",
        "    'edward': 'ruby',\r\n",
        "    'phill': 'python',\r\n",
        "}\r\n",
        "\r\n",
        "for name, language in favorite_languages.items():\r\n",
        "  print(name.title() + \"'s favorite language is \" + language.title() + '.')"
      ],
      "execution_count": 19,
      "outputs": [
        {
          "output_type": "stream",
          "text": [
            "Jen's favorite language is Python.\n",
            "Sarah's favorite language is C.\n",
            "Edward's favorite language is Ruby.\n",
            "Phill's favorite language is Python.\n"
          ],
          "name": "stdout"
        }
      ]
    },
    {
      "cell_type": "code",
      "metadata": {
        "colab": {
          "base_uri": "https://localhost:8080/"
        },
        "id": "fE54oqep-bXz",
        "outputId": "6d6d36c9-030d-42bf-a709-4312771d1c84"
      },
      "source": [
        "alien_0 = {'color': 'green', 'point': 5}\r\n",
        "alien_1 = {'color': 'yellow', 'point': 10}\r\n",
        "alien_2 = {'color': 'red', 'point': 15}\r\n",
        "\r\n",
        "aliens = [alien_0, alien_1, alien_2]\r\n",
        "\r\n",
        "for alien in aliens:\r\n",
        "  print(alien)"
      ],
      "execution_count": 1,
      "outputs": [
        {
          "output_type": "stream",
          "text": [
            "{'color': 'green', 'point': 5}\n",
            "{'color': 'yellow', 'point': 10}\n",
            "{'color': 'red', 'point': 15}\n"
          ],
          "name": "stdout"
        }
      ]
    },
    {
      "cell_type": "code",
      "metadata": {
        "colab": {
          "base_uri": "https://localhost:8080/"
        },
        "id": "vqxEWIKRR--E",
        "outputId": "58382ce6-e609-4f89-e481-2f89d0fbfb0e"
      },
      "source": [
        "aliens = []\r\n",
        "\r\n",
        "for alien_number in range(30):\r\n",
        "  new_alien = {'color': 'green', 'points': 5, 'speed': 'slow'}\r\n",
        "  aliens.append(new_alien)\r\n",
        "\r\n",
        "#print(aliens)\r\n",
        "\r\n",
        "#print('Total number of aliens: ' + str(len(aliens)))\r\n",
        "\r\n",
        "for alien in aliens[0:3]:\r\n",
        "  if alien['color'] == 'green':\r\n",
        "    alien['color'] = 'yellow'\r\n",
        "    alien['speed'] = 'medium'\r\n",
        "    alien['points'] = 10\r\n",
        "\r\n",
        "for alien in aliens[0:10]:\r\n",
        "  print(alien)"
      ],
      "execution_count": 4,
      "outputs": [
        {
          "output_type": "stream",
          "text": [
            "{'color': 'yellow', 'points': 10, 'speed': 'medium'}\n",
            "{'color': 'yellow', 'points': 10, 'speed': 'medium'}\n",
            "{'color': 'yellow', 'points': 10, 'speed': 'medium'}\n",
            "{'color': 'green', 'points': 5, 'speed': 'slow'}\n",
            "{'color': 'green', 'points': 5, 'speed': 'slow'}\n",
            "{'color': 'green', 'points': 5, 'speed': 'slow'}\n",
            "{'color': 'green', 'points': 5, 'speed': 'slow'}\n",
            "{'color': 'green', 'points': 5, 'speed': 'slow'}\n",
            "{'color': 'green', 'points': 5, 'speed': 'slow'}\n",
            "{'color': 'green', 'points': 5, 'speed': 'slow'}\n"
          ],
          "name": "stdout"
        }
      ]
    },
    {
      "cell_type": "code",
      "metadata": {
        "colab": {
          "base_uri": "https://localhost:8080/"
        },
        "id": "A_TnSUOnW0Yr",
        "outputId": "d6e0c3d0-0a62-4fa7-dabf-d6447b1fad9f"
      },
      "source": [
        "pizza = {\r\n",
        "    'crust': 'thick',\r\n",
        "    'toppings': ['mushrooms', 'extra cheese']\r\n",
        "}\r\n",
        "\r\n",
        "print('You ordered a ' + pizza['crust'] + '-crust pizza ' +\r\n",
        "      'with the following toppings:')\r\n",
        "for topping in pizza['toppings']:\r\n",
        "  print('\\t' + topping)"
      ],
      "execution_count": 6,
      "outputs": [
        {
          "output_type": "stream",
          "text": [
            "You ordered a thick-crust pizza with the following toppings:\n",
            "\tmushrooms\n",
            "\textra cheese\n"
          ],
          "name": "stdout"
        }
      ]
    },
    {
      "cell_type": "code",
      "metadata": {
        "id": "m-8bZqrQYEXw"
      },
      "source": [
        ""
      ],
      "execution_count": null,
      "outputs": []
    },
    {
      "cell_type": "code",
      "metadata": {
        "id": "PjEYr6rdXo6g"
      },
      "source": [
        ""
      ],
      "execution_count": null,
      "outputs": []
    }
  ]
}
