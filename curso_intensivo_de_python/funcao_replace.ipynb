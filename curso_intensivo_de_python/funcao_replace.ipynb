{
  "nbformat": 4,
  "nbformat_minor": 0,
  "metadata": {
    "colab": {
      "name": "Untitled47.ipynb",
      "provenance": [],
      "authorship_tag": "ABX9TyOgWrXVI8JjKJ3pmXY5WH/k",
      "include_colab_link": true
    },
    "kernelspec": {
      "name": "python3",
      "display_name": "Python 3"
    }
  },
  "cells": [
    {
      "cell_type": "markdown",
      "metadata": {
        "id": "view-in-github",
        "colab_type": "text"
      },
      "source": [
        "<a href=\"https://colab.research.google.com/github/alfmorais/google_colaboratory/blob/main/funcao_replace.ipynb\" target=\"_parent\"><img src=\"https://colab.research.google.com/assets/colab-badge.svg\" alt=\"Open In Colab\"/></a>"
      ]
    },
    {
      "cell_type": "code",
      "metadata": {
        "colab": {
          "base_uri": "https://localhost:8080/",
          "height": 35
        },
        "id": "Pkijpv-PtxNH",
        "outputId": "4fef8736-2769-4d68-837f-47ad211a925d"
      },
      "source": [
        "# Usando a função replace \r\n",
        "# Escrevendo uma frase para example\r\n",
        "mensagem = 'Python is most famous language, Python is easy, Python is really nice'\r\n",
        "\r\n",
        "# Usando a função replace -> OBS não precisa usar print\r\n",
        "mensagem.replace('Python', 'C#')"
      ],
      "execution_count": 2,
      "outputs": [
        {
          "output_type": "execute_result",
          "data": {
            "application/vnd.google.colaboratory.intrinsic+json": {
              "type": "string"
            },
            "text/plain": [
              "'C# is most famous language, C# is easy, C# is really nice'"
            ]
          },
          "metadata": {
            "tags": []
          },
          "execution_count": 2
        }
      ]
    }
  ]
}
