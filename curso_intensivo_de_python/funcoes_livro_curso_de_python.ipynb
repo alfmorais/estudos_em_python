{
  "nbformat": 4,
  "nbformat_minor": 0,
  "metadata": {
    "colab": {
      "name": "Untitled25.ipynb",
      "provenance": [],
      "authorship_tag": "ABX9TyNAQRWN2ATlfcM3nHyQMy/3",
      "include_colab_link": true
    },
    "kernelspec": {
      "name": "python3",
      "display_name": "Python 3"
    }
  },
  "cells": [
    {
      "cell_type": "markdown",
      "metadata": {
        "id": "view-in-github",
        "colab_type": "text"
      },
      "source": [
        "<a href=\"https://colab.research.google.com/github/alfmorais/google_colaboratory/blob/main/funcoes_livro_curso_de_python.ipynb\" target=\"_parent\"><img src=\"https://colab.research.google.com/assets/colab-badge.svg\" alt=\"Open In Colab\"/></a>"
      ]
    },
    {
      "cell_type": "code",
      "metadata": {
        "id": "XTA6-n2ZViwu"
      },
      "source": [
        "def calculo_juros_compostos(capital, taxa_de_juros, tempo):\r\n",
        "  '''Calculo de Juros Compostos'''\r\n",
        "  \r\n",
        "  montante = capital * (1 + taxa_de_juros) ** tempo\r\n",
        "  montante = round(montante, 2)\r\n",
        "  return montante"
      ],
      "execution_count": 9,
      "outputs": []
    },
    {
      "cell_type": "code",
      "metadata": {
        "colab": {
          "base_uri": "https://localhost:8080/"
        },
        "id": "20byXb2-fU4a",
        "outputId": "2c3fad52-e50e-451e-c311-b59106efd04b"
      },
      "source": [
        "capital = 15000\r\n",
        "taxa_de_juros = 0.001\r\n",
        "tempo = 36\r\n",
        "\r\n",
        "montante = calculo_juros_compostos(capital, taxa_de_juros, tempo)\r\n",
        "print(montante)"
      ],
      "execution_count": 10,
      "outputs": [
        {
          "output_type": "stream",
          "text": [
            "15549.56\n"
          ],
          "name": "stdout"
        }
      ]
    },
    {
      "cell_type": "code",
      "metadata": {
        "id": "NXLxDXs_gcyN"
      },
      "source": [
        "def calculo_taxa_de_juros(montante, capital, tempo):\r\n",
        "  '''Calculo de Taxa de Juros, em juros compostos'''\r\n",
        "\r\n",
        "  expoente = 1 / tempo\r\n",
        "  taxa_de_juros = (((montante / capital) ** expoente) - 1)\r\n",
        "  taxa_de_juros = round(taxa_de_juros, 4)\r\n",
        "  return taxa_de_juros\r\n",
        "\r\n"
      ],
      "execution_count": 15,
      "outputs": []
    },
    {
      "cell_type": "code",
      "metadata": {
        "colab": {
          "base_uri": "https://localhost:8080/"
        },
        "id": "ZAu13FuYhK2j",
        "outputId": "a277c07a-a483-405c-ee24-8efec45ae983"
      },
      "source": [
        "taxa_de_juros = calculo_taxa_de_juros(90000, 60000, 24)\r\n",
        "print(taxa_de_juros)"
      ],
      "execution_count": 16,
      "outputs": [
        {
          "output_type": "stream",
          "text": [
            "0.017\n"
          ],
          "name": "stdout"
        }
      ]
    },
    {
      "cell_type": "code",
      "metadata": {
        "id": "gMIQ_7XUiAxr"
      },
      "source": [
        "def calculo_capital(juros, taxa_de_juros, tempo):\r\n",
        "  '''Calculo de Capital para juros compostos'''\r\n",
        "\r\n",
        "  capital = ( juros / (((1 + taxa_de_juros) ** tempo) - 1))\r\n",
        "  capital = round(capital, 2)\r\n",
        "  return capital"
      ],
      "execution_count": 31,
      "outputs": []
    },
    {
      "cell_type": "code",
      "metadata": {
        "colab": {
          "base_uri": "https://localhost:8080/"
        },
        "id": "SmUIzu--i7z1",
        "outputId": "3a1422fa-65f7-4846-b6f6-7691240963b3"
      },
      "source": [
        "juros = 38.05\r\n",
        "taxa_de_juros = 0.001\r\n",
        "tempo = 12\r\n",
        "\r\n",
        "capital = calculo_capital(juros, taxa_de_juros, tempo)\r\n",
        "\r\n",
        "print(capital)"
      ],
      "execution_count": 32,
      "outputs": [
        {
          "output_type": "stream",
          "text": [
            "3153.43\n"
          ],
          "name": "stdout"
        }
      ]
    },
    {
      "cell_type": "code",
      "metadata": {
        "colab": {
          "base_uri": "https://localhost:8080/"
        },
        "id": "ZnJQRmBQkyE9",
        "outputId": "c90e6361-f96d-4d0c-d223-a240cf596956"
      },
      "source": [
        "magicos = ['Shazam', 'Mr. M', 'Abracadabra', 'Cris Angel']\r\n",
        "\r\n",
        "def apresentacoes_de_magicos(magicos):\r\n",
        "  for magico in magicos:\r\n",
        "    print('Esse é o grande Mágico ' + magico)\r\n",
        "\r\n",
        "apresentacoes_de_magicos(magicos)\r\n"
      ],
      "execution_count": 33,
      "outputs": [
        {
          "output_type": "stream",
          "text": [
            "Esse é o grande Mágico Shazam\n",
            "Esse é o grande Mágico Mr. M\n",
            "Esse é o grande Mágico Abracadabra\n",
            "Esse é o grande Mágico Cris Angel\n"
          ],
          "name": "stdout"
        }
      ]
    },
    {
      "cell_type": "code",
      "metadata": {
        "colab": {
          "base_uri": "https://localhost:8080/"
        },
        "id": "KB4jBv4RuWRN",
        "outputId": "4cabdd4a-80ab-4487-c5dd-2ed3de2bd9f9"
      },
      "source": [
        "magicos = ['Shazam', 'Mr. M', 'Abracadabra', 'Cris Angel']\r\n",
        "\r\n",
        "def make_great(magicos):\r\n",
        "  lista_grande_magicos = []\r\n",
        "  for magico in magicos:\r\n",
        "    magico = 'Grande ' + magico\r\n",
        "    lista_grande_magicos.append(magico)\r\n",
        "  \r\n",
        "  return lista_grande_magicos\r\n",
        "\r\n",
        "print(make_great(magicos))"
      ],
      "execution_count": 34,
      "outputs": [
        {
          "output_type": "stream",
          "text": [
            "['Grande Shazam', 'Grande Mr. M', 'Grande Abracadabra', 'Grande Cris Angel']\n"
          ],
          "name": "stdout"
        }
      ]
    },
    {
      "cell_type": "code",
      "metadata": {
        "id": "DDHgLBhHu9wH"
      },
      "source": [
        ""
      ],
      "execution_count": null,
      "outputs": []
    }
  ]
}
