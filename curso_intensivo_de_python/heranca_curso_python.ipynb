{
  "nbformat": 4,
  "nbformat_minor": 0,
  "metadata": {
    "colab": {
      "name": "Untitled44.ipynb",
      "provenance": [],
      "authorship_tag": "ABX9TyOhVuWzovwb2qJ327W2Ynx9",
      "include_colab_link": true
    },
    "kernelspec": {
      "name": "python3",
      "display_name": "Python 3"
    }
  },
  "cells": [
    {
      "cell_type": "markdown",
      "metadata": {
        "id": "view-in-github",
        "colab_type": "text"
      },
      "source": [
        "<a href=\"https://colab.research.google.com/github/alfmorais/google_colaboratory/blob/main/heranca_curso_python.ipynb\" target=\"_parent\"><img src=\"https://colab.research.google.com/assets/colab-badge.svg\" alt=\"Open In Colab\"/></a>"
      ]
    },
    {
      "cell_type": "code",
      "metadata": {
        "id": "oXfheUsYdpLo"
      },
      "source": [
        "# Herança\r\n",
        "\r\n",
        "class Car():\r\n",
        "  '''Uma tentativa simples de representar um carro.'''\r\n",
        "\r\n",
        "  def __init__(self, make, model, year):\r\n",
        "    '''Inicializa os atributos que descrevem um carro.'''\r\n",
        "    self.make = make\r\n",
        "    self.model = model\r\n",
        "    self.year = year\r\n",
        "    self.odometer_reading = 0\r\n",
        "\r\n",
        "  def get_descriptive_name(self):\r\n",
        "    '''Devolve um nome descritivo, formatado de modo elegante.'''\r\n",
        "    long_name = str(self.year) + ' ' + self.make + ' ' + self.model\r\n",
        "    return long_name.title()\r\n",
        "\r\n",
        "  def read_odometer(self):\r\n",
        "    '''Exibe uma frase que mostra a milhagem do carro.'''\r\n",
        "    print('This car has ' + str(self.odometer_reading) + ' miles on it.')\r\n",
        "\r\n",
        "  # Codigo inserido diretamente na class Car()\r\n",
        "  def update_odometer(self, mileage):\r\n",
        "    '''\r\n",
        "    Define o valor de leitura do hodômetro com o valor especificado\r\n",
        "    Rejeita a alteração se for tentativa de defenir um valor menor para\r\n",
        "    o hodômetro. \r\n",
        "    '''\r\n",
        "    if mileage >= self.odometer_reading:\r\n",
        "      self.odometer_reading = mileage\r\n",
        "    else:\r\n",
        "      print(\"You can't roll back an odometer!\")\r\n",
        "\r\n",
        "  def increment_odometer(self, miles):\r\n",
        "    '''Soma a quantidade especificada ao valor de leitura do hodômetro.'''\r\n",
        "    self.odometer_reading += miles\r\n",
        "\r\n",
        "class Electric_Car(Car):\r\n",
        "  '''Representa aspectos de um carro especificos de veiculos elétricos'''\r\n",
        "\r\n",
        "  def __init__(self, make, model, year):\r\n",
        "    '''Inicializa os atributos da classe-pai'''\r\n",
        "    super().__init__(make, model, year)\r\n",
        "    self.battery = Battery()\r\n",
        "    self.battery_size = 70\r\n",
        "\r\n",
        "  def describe_battery(self):\r\n",
        "    '''Exibe uma frase que descreve a capacidade da bateria.'''\r\n",
        "    print('This car has a ' + str(self.battery_size) + '-kWh battery.')\r\n",
        "\r\n",
        "  def fill_gas_tank(self):\r\n",
        "    '''Carros elétricos não tem tanque de gasolina'''\r\n",
        "    print('This car doesnt need a gas tank')"
      ],
      "execution_count": 42,
      "outputs": []
    },
    {
      "cell_type": "code",
      "metadata": {
        "colab": {
          "base_uri": "https://localhost:8080/"
        },
        "id": "NHWSpTozflCL",
        "outputId": "1afaeb60-b6cc-4bec-fc73-10034d421055"
      },
      "source": [
        "my_tesla = Electric_Car('tesla', 'model s', 2016)\r\n",
        "print(my_tesla.get_descriptive_name())"
      ],
      "execution_count": 43,
      "outputs": [
        {
          "output_type": "stream",
          "text": [
            "2016 Tesla Model S\n"
          ],
          "name": "stdout"
        }
      ]
    },
    {
      "cell_type": "code",
      "metadata": {
        "colab": {
          "base_uri": "https://localhost:8080/"
        },
        "id": "BmysgfGCiI-I",
        "outputId": "783a4a65-5abf-4bae-95d2-57c53c17223c"
      },
      "source": [
        "my_tesla.describe_battery()"
      ],
      "execution_count": 44,
      "outputs": [
        {
          "output_type": "stream",
          "text": [
            "This car has a 70-kWh battery.\n"
          ],
          "name": "stdout"
        }
      ]
    },
    {
      "cell_type": "code",
      "metadata": {
        "colab": {
          "base_uri": "https://localhost:8080/"
        },
        "id": "wgiGlsdpiTkz",
        "outputId": "0e610914-87dd-4efc-a6da-bf3da888b6a6"
      },
      "source": [
        "my_tesla.fill_gas_tank()"
      ],
      "execution_count": 45,
      "outputs": [
        {
          "output_type": "stream",
          "text": [
            "This car doesnt need a gas tank\n"
          ],
          "name": "stdout"
        }
      ]
    },
    {
      "cell_type": "code",
      "metadata": {
        "id": "xCSE4WPulQAc"
      },
      "source": [
        "class Battery():\r\n",
        "  '''Uma tentativa simples de modelar uma bateria para um carro elétrico'''\r\n",
        "\r\n",
        "  def __init__(self, battery_size=70):\r\n",
        "    '''Inicializa os atributos da bateria'''\r\n",
        "    self.battery_size = battery_size\r\n",
        "\r\n",
        "  def describe_battery(self):\r\n",
        "    '''Exibe uma frase que descreve a capacidade da bateria'''\r\n",
        "    print('This car has a ' + str(self.battery_size) + 'kWh battery.')\r\n",
        "\r\n",
        "  def get_range(self):\r\n",
        "    '''\r\n",
        "    Exibe uma frase sobra a distância que o carro é capaz de percorrer com essa\r\n",
        "    Bateria\r\n",
        "    '''\r\n",
        "    if self.battery_size == 70:\r\n",
        "      range = 240\r\n",
        "    elif self.battery_size == 85:\r\n",
        "      range = 270\r\n",
        "\r\n",
        "    message = 'This car can go approximately ' + str(range)\r\n",
        "    message += ' miles on a full charge'\r\n",
        "    print(message)\r\n"
      ],
      "execution_count": 46,
      "outputs": []
    },
    {
      "cell_type": "code",
      "metadata": {
        "colab": {
          "base_uri": "https://localhost:8080/"
        },
        "id": "-NgQJb-cqIP5",
        "outputId": "75bdd16d-9f26-4536-f19d-fcf8627e600c"
      },
      "source": [
        "my_tesla.battery.get_range()"
      ],
      "execution_count": 48,
      "outputs": [
        {
          "output_type": "stream",
          "text": [
            "This car can go approximately 240 miles on a full charge\n"
          ],
          "name": "stdout"
        }
      ]
    },
    {
      "cell_type": "code",
      "metadata": {
        "colab": {
          "base_uri": "https://localhost:8080/"
        },
        "id": "_aQ-909Mnx8r",
        "outputId": "a7b2a75d-770f-4805-8546-d24da09c0649"
      },
      "source": [
        "my_tesla.battery.describe_battery()"
      ],
      "execution_count": 49,
      "outputs": [
        {
          "output_type": "stream",
          "text": [
            "This car has a 70kWh battery.\n"
          ],
          "name": "stdout"
        }
      ]
    }
  ]
}
