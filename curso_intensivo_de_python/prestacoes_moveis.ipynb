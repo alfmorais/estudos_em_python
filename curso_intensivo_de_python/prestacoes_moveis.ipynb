{
  "nbformat": 4,
  "nbformat_minor": 0,
  "metadata": {
    "colab": {
      "name": "Untitled45.ipynb",
      "provenance": [],
      "authorship_tag": "ABX9TyOFLTf/tr+ooJV0xazvgko+",
      "include_colab_link": true
    },
    "kernelspec": {
      "name": "python3",
      "display_name": "Python 3"
    }
  },
  "cells": [
    {
      "cell_type": "markdown",
      "metadata": {
        "id": "view-in-github",
        "colab_type": "text"
      },
      "source": [
        "<a href=\"https://colab.research.google.com/github/alfmorais/google_colaboratory/blob/main/prestacoes_moveis.ipynb\" target=\"_parent\"><img src=\"https://colab.research.google.com/assets/colab-badge.svg\" alt=\"Open In Colab\"/></a>"
      ]
    },
    {
      "cell_type": "code",
      "metadata": {
        "colab": {
          "base_uri": "https://localhost:8080/"
        },
        "id": "t8360UgWYNzD",
        "outputId": "af911a32-83e7-4897-8c6d-e6f9fa2ce4fc"
      },
      "source": [
        "# Criando a lista parcelas\r\n",
        "\r\n",
        "lista_prestacoes = ['Entrada']\r\n",
        "\r\n",
        "prestacao = 1\r\n",
        "\r\n",
        "while True:\r\n",
        "  if prestacao != 13:\r\n",
        "    message = 'Prestação_' + str(prestacao)\r\n",
        "    lista_prestacoes.append(message)\r\n",
        "    prestacao += 1\r\n",
        "  else:\r\n",
        "    break\r\n",
        "\r\n",
        "print(lista_prestacoes)"
      ],
      "execution_count": 3,
      "outputs": [
        {
          "output_type": "stream",
          "text": [
            "['Entrada', 'Prestação_1', 'Prestação_2', 'Prestação_3', 'Prestação_4', 'Prestação_5', 'Prestação_6', 'Prestação_7', 'Prestação_8', 'Prestação_9', 'Prestação_10', 'Prestação_11', 'Prestação_12']\n"
          ],
          "name": "stdout"
        }
      ]
    },
    {
      "cell_type": "code",
      "metadata": {
        "colab": {
          "base_uri": "https://localhost:8080/"
        },
        "id": "8e2pK3o1sWHf",
        "outputId": "7eefe8f0-2170-44ef-cce8-f59f504d629c"
      },
      "source": [
        "# Criando a lista valor das parcelas\r\n",
        "\r\n",
        "valor_das_parcelas = [12000]\r\n",
        "\r\n",
        "prestacoes = 1\r\n",
        "\r\n",
        "while True:\r\n",
        "  if prestacoes != 13:\r\n",
        "    valor_das_parcelas.append(916.66)\r\n",
        "    prestacoes += 1\r\n",
        "  else:\r\n",
        "    break \r\n",
        "\r\n",
        "print(valor_das_parcelas)"
      ],
      "execution_count": 7,
      "outputs": [
        {
          "output_type": "stream",
          "text": [
            "[12000, 916.66, 916.66, 916.66, 916.66, 916.66, 916.66, 916.66, 916.66, 916.66, 916.66, 916.66, 916.66]\n"
          ],
          "name": "stdout"
        }
      ]
    },
    {
      "cell_type": "code",
      "metadata": {
        "id": "aJqSK3ECselF"
      },
      "source": [
        "data = ['16/11/2020',\r\n",
        "        '31/12/2020',\r\n",
        "        '29/01/2021',\r\n",
        "        '26/02/2021',\r\n",
        "        '30/03/2021',\r\n",
        "        '30/04/2021',\r\n",
        "        '31/05/2021',\r\n",
        "        '30/06/2021',\r\n",
        "        '30/07/2021',\r\n",
        "        '31/08/2021',\r\n",
        "        '30/09/2021',\r\n",
        "        '29/10/2021',\r\n",
        "        '30/11/2021']"
      ],
      "execution_count": 9,
      "outputs": []
    },
    {
      "cell_type": "code",
      "metadata": {
        "colab": {
          "base_uri": "https://localhost:8080/"
        },
        "id": "990tlitwuTe0",
        "outputId": "2c4856a4-986c-4def-fb58-847fde6a0104"
      },
      "source": [
        "lista_status = ['Pago', 'Pago', 'Pago']\r\n",
        "\r\n",
        "status = 1\r\n",
        "\r\n",
        "while True:\r\n",
        "  if status != 11:\r\n",
        "    lista_status.append('Programado')\r\n",
        "    status += 1\r\n",
        "  else:\r\n",
        "    break\r\n",
        "\r\n",
        "print(lista_status)"
      ],
      "execution_count": 11,
      "outputs": [
        {
          "output_type": "stream",
          "text": [
            "['Pago', 'Pago', 'Pago', 'Programado', 'Programado', 'Programado', 'Programado', 'Programado', 'Programado', 'Programado', 'Programado', 'Programado', 'Programado']\n"
          ],
          "name": "stdout"
        }
      ]
    },
    {
      "cell_type": "code",
      "metadata": {
        "colab": {
          "base_uri": "https://localhost:8080/",
          "height": 452
        },
        "id": "gb33NPTHv6eZ",
        "outputId": "a61e64fa-4a7c-467d-a165-52ade13f8cfe"
      },
      "source": [
        "# Defenindo o Dataframe\r\n",
        "\r\n",
        "import pandas as pd\r\n",
        "\r\n",
        "dataframe = pd.DataFrame({\r\n",
        "    'Prestações': lista_prestacoes,\r\n",
        "    'Valor das Parcelas': valor_das_parcelas,\r\n",
        "    'Data': data,\r\n",
        "    'Status': lista_status\r\n",
        "})\r\n",
        "\r\n",
        "dataframe"
      ],
      "execution_count": 12,
      "outputs": [
        {
          "output_type": "execute_result",
          "data": {
            "text/html": [
              "<div>\n",
              "<style scoped>\n",
              "    .dataframe tbody tr th:only-of-type {\n",
              "        vertical-align: middle;\n",
              "    }\n",
              "\n",
              "    .dataframe tbody tr th {\n",
              "        vertical-align: top;\n",
              "    }\n",
              "\n",
              "    .dataframe thead th {\n",
              "        text-align: right;\n",
              "    }\n",
              "</style>\n",
              "<table border=\"1\" class=\"dataframe\">\n",
              "  <thead>\n",
              "    <tr style=\"text-align: right;\">\n",
              "      <th></th>\n",
              "      <th>Prestações</th>\n",
              "      <th>Valor das Parcelas</th>\n",
              "      <th>Data</th>\n",
              "      <th>Status</th>\n",
              "    </tr>\n",
              "  </thead>\n",
              "  <tbody>\n",
              "    <tr>\n",
              "      <th>0</th>\n",
              "      <td>Entrada</td>\n",
              "      <td>12000.00</td>\n",
              "      <td>16/11/2020</td>\n",
              "      <td>Pago</td>\n",
              "    </tr>\n",
              "    <tr>\n",
              "      <th>1</th>\n",
              "      <td>Prestação_1</td>\n",
              "      <td>916.66</td>\n",
              "      <td>31/12/2020</td>\n",
              "      <td>Pago</td>\n",
              "    </tr>\n",
              "    <tr>\n",
              "      <th>2</th>\n",
              "      <td>Prestação_2</td>\n",
              "      <td>916.66</td>\n",
              "      <td>29/01/2021</td>\n",
              "      <td>Pago</td>\n",
              "    </tr>\n",
              "    <tr>\n",
              "      <th>3</th>\n",
              "      <td>Prestação_3</td>\n",
              "      <td>916.66</td>\n",
              "      <td>26/02/2021</td>\n",
              "      <td>Programado</td>\n",
              "    </tr>\n",
              "    <tr>\n",
              "      <th>4</th>\n",
              "      <td>Prestação_4</td>\n",
              "      <td>916.66</td>\n",
              "      <td>30/03/2021</td>\n",
              "      <td>Programado</td>\n",
              "    </tr>\n",
              "    <tr>\n",
              "      <th>5</th>\n",
              "      <td>Prestação_5</td>\n",
              "      <td>916.66</td>\n",
              "      <td>30/04/2021</td>\n",
              "      <td>Programado</td>\n",
              "    </tr>\n",
              "    <tr>\n",
              "      <th>6</th>\n",
              "      <td>Prestação_6</td>\n",
              "      <td>916.66</td>\n",
              "      <td>31/05/2021</td>\n",
              "      <td>Programado</td>\n",
              "    </tr>\n",
              "    <tr>\n",
              "      <th>7</th>\n",
              "      <td>Prestação_7</td>\n",
              "      <td>916.66</td>\n",
              "      <td>30/06/2021</td>\n",
              "      <td>Programado</td>\n",
              "    </tr>\n",
              "    <tr>\n",
              "      <th>8</th>\n",
              "      <td>Prestação_8</td>\n",
              "      <td>916.66</td>\n",
              "      <td>30/07/2021</td>\n",
              "      <td>Programado</td>\n",
              "    </tr>\n",
              "    <tr>\n",
              "      <th>9</th>\n",
              "      <td>Prestação_9</td>\n",
              "      <td>916.66</td>\n",
              "      <td>31/08/2021</td>\n",
              "      <td>Programado</td>\n",
              "    </tr>\n",
              "    <tr>\n",
              "      <th>10</th>\n",
              "      <td>Prestação_10</td>\n",
              "      <td>916.66</td>\n",
              "      <td>30/09/2021</td>\n",
              "      <td>Programado</td>\n",
              "    </tr>\n",
              "    <tr>\n",
              "      <th>11</th>\n",
              "      <td>Prestação_11</td>\n",
              "      <td>916.66</td>\n",
              "      <td>29/10/2021</td>\n",
              "      <td>Programado</td>\n",
              "    </tr>\n",
              "    <tr>\n",
              "      <th>12</th>\n",
              "      <td>Prestação_12</td>\n",
              "      <td>916.66</td>\n",
              "      <td>30/11/2021</td>\n",
              "      <td>Programado</td>\n",
              "    </tr>\n",
              "  </tbody>\n",
              "</table>\n",
              "</div>"
            ],
            "text/plain": [
              "      Prestações  Valor das Parcelas        Data      Status\n",
              "0        Entrada            12000.00  16/11/2020        Pago\n",
              "1    Prestação_1              916.66  31/12/2020        Pago\n",
              "2    Prestação_2              916.66  29/01/2021        Pago\n",
              "3    Prestação_3              916.66  26/02/2021  Programado\n",
              "4    Prestação_4              916.66  30/03/2021  Programado\n",
              "5    Prestação_5              916.66  30/04/2021  Programado\n",
              "6    Prestação_6              916.66  31/05/2021  Programado\n",
              "7    Prestação_7              916.66  30/06/2021  Programado\n",
              "8    Prestação_8              916.66  30/07/2021  Programado\n",
              "9    Prestação_9              916.66  31/08/2021  Programado\n",
              "10  Prestação_10              916.66  30/09/2021  Programado\n",
              "11  Prestação_11              916.66  29/10/2021  Programado\n",
              "12  Prestação_12              916.66  30/11/2021  Programado"
            ]
          },
          "metadata": {
            "tags": []
          },
          "execution_count": 12
        }
      ]
    }
  ]
}
