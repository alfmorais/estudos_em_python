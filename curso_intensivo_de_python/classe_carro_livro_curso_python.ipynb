{
  "nbformat": 4,
  "nbformat_minor": 0,
  "metadata": {
    "colab": {
      "name": "Untitled42.ipynb",
      "provenance": [],
      "authorship_tag": "ABX9TyPhfiuVILJKCMwXI5aQ1pR9",
      "include_colab_link": true
    },
    "kernelspec": {
      "name": "python3",
      "display_name": "Python 3"
    }
  },
  "cells": [
    {
      "cell_type": "markdown",
      "metadata": {
        "id": "view-in-github",
        "colab_type": "text"
      },
      "source": [
        "<a href=\"https://colab.research.google.com/github/alfmorais/google_colaboratory/blob/main/classe_carro_livro_curso_python.ipynb\" target=\"_parent\"><img src=\"https://colab.research.google.com/assets/colab-badge.svg\" alt=\"Open In Colab\"/></a>"
      ]
    },
    {
      "cell_type": "code",
      "metadata": {
        "colab": {
          "base_uri": "https://localhost:8080/"
        },
        "id": "mCXV7_bmMT5_",
        "outputId": "a519da12-dbb7-457c-cf39-7a8906b1a765"
      },
      "source": [
        "class Car():\r\n",
        "  '''Uma tentativa simples de representar um carro.'''\r\n",
        "\r\n",
        "  def __init__(self, make, model, year):\r\n",
        "    '''Inicializa os atributos que descrevem um carro.'''\r\n",
        "    self.make = make\r\n",
        "    self.model = model\r\n",
        "    self.year = year\r\n",
        "    self.odometer_reading = 0\r\n",
        "\r\n",
        "  def get_descriptive_name(self):\r\n",
        "    '''Devolve um nome descritivo, formatado de modo elegante.'''\r\n",
        "    long_name = str(self.year) + ' ' + self.make + ' ' + self.model\r\n",
        "    return long_name.title()\r\n",
        "\r\n",
        "  def read_odometer(self):\r\n",
        "    '''Exibe uma frase que mostra a milhagem do carro.'''\r\n",
        "    print('This car has ' + str(self.odometer_reading) + ' miles on it.')\r\n",
        "\r\n",
        "  # Codigo inserido diretamente na class Car()\r\n",
        "  def update_odometer(self, mileage):\r\n",
        "    '''\r\n",
        "    Define o valor de leitura do hodômetro com o valor especificado\r\n",
        "    Rejeita a alteração se for tentativa de defenir um valor menor para\r\n",
        "    o hodômetro. \r\n",
        "    '''\r\n",
        "    if mileage >= self.odometer_reading:\r\n",
        "      self.odometer_reading = mileage\r\n",
        "    else:\r\n",
        "      print(\"You can't roll back an odometer!\")\r\n",
        "\r\n",
        "  def increment_odometer(self, miles):\r\n",
        "    '''Soma a quantidade especificada ao valor de leitura do hodômetro.'''\r\n",
        "    self.odometer_reading += miles\r\n",
        "\r\n",
        "my_new_car = Car('audi', 'a4', 2016)\r\n",
        "print(my_new_car.get_descriptive_name())\r\n",
        "my_new_car.read_odometer()\r\n",
        "\r\n",
        "# Modificando o valor de atributos\r\n",
        "# Modificando o valor de um atributo diretamente: \r\n",
        "\r\n",
        "my_new_car.odometer_reading = 23\r\n",
        "my_new_car.read_odometer()\r\n",
        "\r\n",
        "# Modificando o valor de um atributo com um método\r\n",
        "# Codigo inserido diretamente na class Car()\r\n",
        "my_new_car.update_odometer(55)\r\n",
        "my_new_car.read_odometer()\r\n",
        "\r\n",
        "# Incrementando o valor de um atributo com um método\r\n",
        "# Codigo inserido diretamente na class Car()\r\n",
        "my_used_car = Car('subaru', 'outback', 2013)\r\n",
        "print(my_used_car.get_descriptive_name())\r\n",
        "\r\n",
        "my_used_car.update_odometer(23500)\r\n",
        "my_used_car.read_odometer()\r\n",
        "\r\n",
        "my_used_car.increment_odometer(100)\r\n",
        "my_used_car.read_odometer()"
      ],
      "execution_count": 7,
      "outputs": [
        {
          "output_type": "stream",
          "text": [
            "2016 Audi A4\n",
            "This car has 0 miles on it.\n",
            "This car has 23 miles on it.\n",
            "This car has 55 miles on it.\n",
            "2013 Subaru Outback\n",
            "This car has 23500 miles on it.\n",
            "This car has 23600 miles on it.\n"
          ],
          "name": "stdout"
        }
      ]
    }
  ]
}
