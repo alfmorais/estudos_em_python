{
  "nbformat": 4,
  "nbformat_minor": 0,
  "metadata": {
    "colab": {
      "name": "Untitled49.ipynb",
      "provenance": [],
      "authorship_tag": "ABX9TyOVoZnfJlUdHKBhxygwgaX8",
      "include_colab_link": true
    },
    "kernelspec": {
      "name": "python3",
      "display_name": "Python 3"
    }
  },
  "cells": [
    {
      "cell_type": "markdown",
      "metadata": {
        "id": "view-in-github",
        "colab_type": "text"
      },
      "source": [
        "<a href=\"https://colab.research.google.com/github/alfmorais/estudos_em_python/blob/main/excecoes.ipynb\" target=\"_parent\"><img src=\"https://colab.research.google.com/assets/colab-badge.svg\" alt=\"Open In Colab\"/></a>"
      ]
    },
    {
      "cell_type": "code",
      "metadata": {
        "colab": {
          "base_uri": "https://localhost:8080/",
          "height": 163
        },
        "id": "2Hwx-9po6rlw",
        "outputId": "87c192d4-fe22-486d-c3fa-0029644522da"
      },
      "source": [
        "print(5/0)"
      ],
      "execution_count": 1,
      "outputs": [
        {
          "output_type": "error",
          "ename": "ZeroDivisionError",
          "evalue": "ignored",
          "traceback": [
            "\u001b[0;31m---------------------------------------------------------------------------\u001b[0m",
            "\u001b[0;31mZeroDivisionError\u001b[0m                         Traceback (most recent call last)",
            "\u001b[0;32m<ipython-input-1-fad870a50e27>\u001b[0m in \u001b[0;36m<module>\u001b[0;34m()\u001b[0m\n\u001b[0;32m----> 1\u001b[0;31m \u001b[0mprint\u001b[0m\u001b[0;34m(\u001b[0m\u001b[0;36m5\u001b[0m\u001b[0;34m/\u001b[0m\u001b[0;36m0\u001b[0m\u001b[0;34m)\u001b[0m\u001b[0;34m\u001b[0m\u001b[0;34m\u001b[0m\u001b[0m\n\u001b[0m",
            "\u001b[0;31mZeroDivisionError\u001b[0m: division by zero"
          ]
        }
      ]
    },
    {
      "cell_type": "code",
      "metadata": {
        "colab": {
          "base_uri": "https://localhost:8080/"
        },
        "id": "4qjQ0GEB7HXU",
        "outputId": "09a7d107-6175-412f-878d-a9763a94e95e"
      },
      "source": [
        "try:\r\n",
        "  print(5/0)\r\n",
        "except ZeroDivisionError:\r\n",
        "  print('You can not divide by zero!')"
      ],
      "execution_count": 2,
      "outputs": [
        {
          "output_type": "stream",
          "text": [
            "You can not divide by zero!\n"
          ],
          "name": "stdout"
        }
      ]
    },
    {
      "cell_type": "code",
      "metadata": {
        "colab": {
          "base_uri": "https://localhost:8080/"
        },
        "id": "fI6x7iqN7sjN",
        "outputId": "4bbbe41a-d787-44b7-d340-a9bb09636823"
      },
      "source": [
        "print('Give me two numbers, and I will divide them')\r\n",
        "print('Enter \"q\" to quit:')\r\n",
        "\r\n",
        "while True:\r\n",
        "  first_number = input('\\nFirst number: ')\r\n",
        "  if first_number == 'q':\r\n",
        "    break\r\n",
        "  \r\n",
        "  second_number = input('\\nSecond number: ')\r\n",
        "  if second_number == 'q':\r\n",
        "    break\r\n",
        "  try:\r\n",
        "    answer = int(first_number) / int(second_number)\r\n",
        "  except ZeroDivisionError:\r\n",
        "    print('You can not divide by 0!')\r\n",
        "  else:\r\n",
        "    print(answer)"
      ],
      "execution_count": 3,
      "outputs": [
        {
          "output_type": "stream",
          "text": [
            "Give me two numbers, and I will divide them\n",
            "Enter \"q\" to quit:\n",
            "\n",
            "First number: 5\n",
            "\n",
            "Second number: 0\n",
            "You can not divide by 0!\n",
            "\n",
            "First number: 0\n",
            "\n",
            "Second number: 5\n",
            "0.0\n",
            "\n",
            "First number: q\n"
          ],
          "name": "stdout"
        }
      ]
    }
  ]
}
