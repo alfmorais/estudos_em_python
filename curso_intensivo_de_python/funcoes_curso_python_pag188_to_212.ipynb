{
  "nbformat": 4,
  "nbformat_minor": 0,
  "metadata": {
    "colab": {
      "name": "Untitled26.ipynb",
      "provenance": [],
      "authorship_tag": "ABX9TyMfxvwXTnIrC4Mh8oP3Ur8l",
      "include_colab_link": true
    },
    "kernelspec": {
      "name": "python3",
      "display_name": "Python 3"
    }
  },
  "cells": [
    {
      "cell_type": "markdown",
      "metadata": {
        "id": "view-in-github",
        "colab_type": "text"
      },
      "source": [
        "<a href=\"https://colab.research.google.com/github/alfmorais/google_colaboratory/blob/main/funcoes_curso_python_pag188_to_212.ipynb\" target=\"_parent\"><img src=\"https://colab.research.google.com/assets/colab-badge.svg\" alt=\"Open In Colab\"/></a>"
      ]
    },
    {
      "cell_type": "code",
      "metadata": {
        "colab": {
          "base_uri": "https://localhost:8080/"
        },
        "id": "b9BCimouvecO",
        "outputId": "4df9391d-de69-44af-82f9-1112cd9037af"
      },
      "source": [
        "def make_pizza(*toppings):\r\n",
        "  '''Exibe uma lista de ingredientes pedidos'''\r\n",
        "\r\n",
        "  print(toppings)\r\n",
        "\r\n",
        "make_pizza('Pepperoni')\r\n",
        "make_pizza('Mushrooms', 'Green Peppers', 'Extra Cheese')\r\n",
        "\r\n",
        "# * na definição da função cria uma tupla com os parametros que serão passados\r\n",
        "# Na função"
      ],
      "execution_count": 3,
      "outputs": [
        {
          "output_type": "stream",
          "text": [
            "('Pepperoni',)\n",
            "('Mushrooms', 'Green Peppers', 'Extra Cheese')\n"
          ],
          "name": "stdout"
        }
      ]
    },
    {
      "cell_type": "code",
      "metadata": {
        "colab": {
          "base_uri": "https://localhost:8080/"
        },
        "id": "yJH1GNq5zj9T",
        "outputId": "c9b232c5-8f3e-4a96-960a-f15801193254"
      },
      "source": [
        "def make_pizza(*toppings):\r\n",
        "  '''Exibe uma lista de ingredientes pedidos'''\r\n",
        "  print('\\nFazendo pizza com os seguintes ingredientes: ')\r\n",
        "  for topping in toppings:\r\n",
        "    print('- ' + topping)\r\n",
        "\r\n",
        "make_pizza('Pepperoni')\r\n",
        "make_pizza('Mushrooms', 'Green Peppers', 'Extra Cheese')\r\n"
      ],
      "execution_count": 1,
      "outputs": [
        {
          "output_type": "stream",
          "text": [
            "\n",
            "Fazendo pizza com os seguintes ingredientes: \n",
            "- Pepperoni\n",
            "\n",
            "Fazendo pizza com os seguintes ingredientes: \n",
            "- Mushrooms\n",
            "- Green Peppers\n",
            "- Extra Cheese\n"
          ],
          "name": "stdout"
        }
      ]
    },
    {
      "cell_type": "code",
      "metadata": {
        "colab": {
          "base_uri": "https://localhost:8080/"
        },
        "id": "7XNe03-d0bRf",
        "outputId": "4a0a002c-d8b6-4165-e272-caa3c2c96c40"
      },
      "source": [
        "def make_pizza(size, *toppings):\r\n",
        "  '''Apresenta a pizza que estamos prestes a preparar'''\r\n",
        "\r\n",
        "  print('\\nMaking a ' + str(size) + \r\n",
        "        '-inch pizza with the following toppings:')\r\n",
        "  for topping in toppings:\r\n",
        "    print('- ' + topping)\r\n",
        "\r\n",
        "make_pizza(16, 'Pepperoni')\r\n",
        "make_pizza(12, 'Corn', 'Cheese', 'Bacon', 'Salad', 'Ram')"
      ],
      "execution_count": 4,
      "outputs": [
        {
          "output_type": "stream",
          "text": [
            "\n",
            "Making a 16-inch pizza with the following toppings:\n",
            "- Pepperoni\n",
            "\n",
            "Making a 12-inch pizza with the following toppings:\n",
            "- Corn\n",
            "- Cheese\n",
            "- Bacon\n",
            "- Salad\n",
            "- Ram\n"
          ],
          "name": "stdout"
        }
      ]
    },
    {
      "cell_type": "code",
      "metadata": {
        "colab": {
          "base_uri": "https://localhost:8080/"
        },
        "id": "N1HY-4zl4kOK",
        "outputId": "cccba221-204b-4069-bf0c-910cc85e64c2"
      },
      "source": [
        "def build_profile(first, last, **user_info):\r\n",
        "  '''Constrói um dicionário contendo tudo que sabemos sobre um usuário'''\r\n",
        "\r\n",
        "  profile = {}\r\n",
        "  profile['First_Name'] = first\r\n",
        "  profile['Last_Name'] = last\r\n",
        "  for key, value in user_info.items():\r\n",
        "    profile[key] = value\r\n",
        "  \r\n",
        "  return profile\r\n",
        "\r\n",
        "user_profile = build_profile('Alfredo', 'Morais',\r\n",
        "                             location='Americana',\r\n",
        "                             job='Python Development',\r\n",
        "                             salary=150000)\r\n",
        "\r\n",
        "print(user_profile)"
      ],
      "execution_count": 7,
      "outputs": [
        {
          "output_type": "stream",
          "text": [
            "{'First_Name': 'Alfredo', 'Last_Name': 'Morais', 'location': 'Americana', 'job': 'Python Development', 'salary': 150000}\n"
          ],
          "name": "stdout"
        }
      ]
    }
  ]
}
