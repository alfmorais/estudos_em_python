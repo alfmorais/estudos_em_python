{
  "nbformat": 4,
  "nbformat_minor": 0,
  "metadata": {
    "colab": {
      "name": "Untitled60.ipynb",
      "provenance": [],
      "authorship_tag": "ABX9TyPqxEA6O7qhRNtJ3OiFrp6G",
      "include_colab_link": true
    },
    "kernelspec": {
      "name": "python3",
      "display_name": "Python 3"
    }
  },
  "cells": [
    {
      "cell_type": "markdown",
      "metadata": {
        "id": "view-in-github",
        "colab_type": "text"
      },
      "source": [
        "<a href=\"https://colab.research.google.com/github/alfmorais/estudos_em_python/blob/main/variveis_em_classe.ipynb\" target=\"_parent\"><img src=\"https://colab.research.google.com/assets/colab-badge.svg\" alt=\"Open In Colab\"/></a>"
      ]
    },
    {
      "cell_type": "code",
      "metadata": {
        "id": "A3uaG6R8RM1N"
      },
      "source": [
        "class Computador:\r\n",
        "  # Variaveis da Classe\r\n",
        "  sistema_operacional = 'Windows 10'\r\n",
        "\r\n",
        "  # Variveis de Instacia\r\n",
        "  def __init__(self, marca, memoria, placa_de_video):\r\n",
        "    self.marca = marca\r\n",
        "    self.memoria = memoria\r\n",
        "    self.placa_de_video = placa_de_video\r\n",
        "\r\n",
        "  def ligar(self):\r\n",
        "    print('Estou ligando o computador')"
      ],
      "execution_count": 1,
      "outputs": []
    },
    {
      "cell_type": "code",
      "metadata": {
        "colab": {
          "base_uri": "https://localhost:8080/"
        },
        "id": "nmKdUT-HWElz",
        "outputId": "d09fc361-98d1-4049-9db5-b3e0890ed443"
      },
      "source": [
        "print(Computador.sistema_operacional)"
      ],
      "execution_count": 2,
      "outputs": [
        {
          "output_type": "stream",
          "text": [
            "Windows 10\n"
          ],
          "name": "stdout"
        }
      ]
    },
    {
      "cell_type": "code",
      "metadata": {
        "colab": {
          "base_uri": "https://localhost:8080/"
        },
        "id": "WDWwtJtZWNQA",
        "outputId": "8efecc7f-4002-4e25-9901-b2262b974aa8"
      },
      "source": [
        "computador = Computador('Dell', '8GB', 'NVIDIA')\r\n",
        "\r\n",
        "computador.marca = 'ASUS'\r\n",
        "\r\n",
        "print(computador.marca)"
      ],
      "execution_count": 9,
      "outputs": [
        {
          "output_type": "stream",
          "text": [
            "ASUS\n"
          ],
          "name": "stdout"
        }
      ]
    },
    {
      "cell_type": "code",
      "metadata": {
        "colab": {
          "base_uri": "https://localhost:8080/"
        },
        "id": "aT8xPbZHW8DF",
        "outputId": "7310103b-b964-485c-c3b4-fea16bfed9db"
      },
      "source": [
        "print(Computador.sistema_operacional)"
      ],
      "execution_count": 10,
      "outputs": [
        {
          "output_type": "stream",
          "text": [
            "Windows 10\n"
          ],
          "name": "stdout"
        }
      ]
    },
    {
      "cell_type": "code",
      "metadata": {
        "colab": {
          "base_uri": "https://localhost:8080/"
        },
        "id": "NOrU20ZvXs8E",
        "outputId": "29ae9194-050e-4ca0-d256-3fdb48ea2983"
      },
      "source": [
        "Computador.sistema_operacional = 'Linux'\r\n",
        "print(Computador.sistema_operacional)"
      ],
      "execution_count": 11,
      "outputs": [
        {
          "output_type": "stream",
          "text": [
            "Linux\n"
          ],
          "name": "stdout"
        }
      ]
    }
  ]
}