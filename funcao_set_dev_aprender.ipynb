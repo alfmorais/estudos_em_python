{
  "nbformat": 4,
  "nbformat_minor": 0,
  "metadata": {
    "colab": {
      "name": "Untitled40.ipynb",
      "provenance": [],
      "authorship_tag": "ABX9TyNew5g0FAJr3OwLNY39yPOE",
      "include_colab_link": true
    },
    "kernelspec": {
      "name": "python3",
      "display_name": "Python 3"
    }
  },
  "cells": [
    {
      "cell_type": "markdown",
      "metadata": {
        "id": "view-in-github",
        "colab_type": "text"
      },
      "source": [
        "<a href=\"https://colab.research.google.com/github/alfmorais/google_colaboratory/blob/main/funcao_set_dev_aprender.ipynb\" target=\"_parent\"><img src=\"https://colab.research.google.com/assets/colab-badge.svg\" alt=\"Open In Colab\"/></a>"
      ]
    },
    {
      "cell_type": "code",
      "metadata": {
        "colab": {
          "base_uri": "https://localhost:8080/"
        },
        "id": "YgotIyHghZEA",
        "outputId": "8526a57f-0252-4f66-dd5f-ac6893b98850"
      },
      "source": [
        "# SETS\r\n",
        "\r\n",
        "numeros = [2, 2, 5, 5]\r\n",
        "frutas = {'maça', 'uva', 'banana', 'maça', 'morango'}\r\n",
        "\r\n",
        "# Convertendo para Set\r\n",
        "set_numeros = set(numeros)\r\n",
        "set_frutas = set(frutas)\r\n",
        "\r\n",
        "print(set_numeros)\r\n",
        "print(set_frutas)\r\n",
        "\r\n",
        "# adicionando novos valores ao set\r\n",
        "set_numeros.add(10)\r\n",
        "print(set_numeros)"
      ],
      "execution_count": 1,
      "outputs": [
        {
          "output_type": "stream",
          "text": [
            "{2, 5}\n",
            "{'banana', 'uva', 'morango', 'maça'}\n",
            "{2, 10, 5}\n"
          ],
          "name": "stdout"
        }
      ]
    },
    {
      "cell_type": "code",
      "metadata": {
        "colab": {
          "base_uri": "https://localhost:8080/"
        },
        "id": "pMJkFKlriFYg",
        "outputId": "fdd37a2f-ced1-4d49-dad6-22f8f1bb4342"
      },
      "source": [
        "# conjuntos\r\n",
        "numeros_1 = [2, 2, 5, 8]\r\n",
        "numeros_2 = [2, 2, 3, 9]\r\n",
        "a = set(numeros_1)\r\n",
        "b = set(numeros_2)\r\n",
        "print(a.symmetric_difference(b))\r\n",
        "print(a.intersection(b))\r\n",
        "print(a.union(b))\r\n",
        "print(type(a))"
      ],
      "execution_count": 8,
      "outputs": [
        {
          "output_type": "stream",
          "text": [
            "{3, 5, 8, 9}\n",
            "{2}\n",
            "{2, 3, 5, 8, 9}\n",
            "<class 'set'>\n"
          ],
          "name": "stdout"
        }
      ]
    }
  ]
}